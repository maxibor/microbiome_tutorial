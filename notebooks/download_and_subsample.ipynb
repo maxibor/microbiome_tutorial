{
 "cells": [
  {
   "cell_type": "code",
   "execution_count": 1,
   "id": "5cd34bc6",
   "metadata": {},
   "outputs": [],
   "source": [
    "import subprocess\n",
    "import glob\n",
    "from pathlib import Path"
   ]
  },
  {
   "cell_type": "markdown",
   "id": "f72be9d7",
   "metadata": {},
   "source": [
    "For this tutorial, we will be using the ERR5766177 library from the  sample 2612 published by [Maixner et al. 2021](https://doi.org/10.1016/j.cub.2021.09.031)"
   ]
  },
  {
   "cell_type": "markdown",
   "id": "fd4b6a74-69a1-4c19-a843-72f567245ecf",
   "metadata": {},
   "source": [
    "![](https://ars.els-cdn.com/content/image/1-s2.0-S0960982221012719-fx1.jpg)"
   ]
  },
  {
   "cell_type": "markdown",
   "id": "b3a14d95-5987-48e0-8902-dca6eebbccfa",
   "metadata": {},
   "source": [
    "![](https://ars.els-cdn.com/content/image/1-s2.0-S0960982221012719-gr1.jpg)`"
   ]
  },
  {
   "cell_type": "markdown",
   "id": "b70c5d6f-4129-4926-b997-97f65e1ea48f",
   "metadata": {},
   "source": [
    "## Subsampling the sequencing files to make the analysis quicker for this tutorial"
   ]
  },
  {
   "cell_type": "code",
   "execution_count": 2,
   "id": "355f5ca0-03b9-4249-bebd-da550e4c418e",
   "metadata": {},
   "outputs": [],
   "source": [
    "def subsample(filename, outdir, depth=1000000):\n",
    "    basename = Path(filename).stem\n",
    "    cmd = f\"seqtk sample -s42 {filename} {depth} > {outdir}/{basename}_subsample_{depth}.fastq\"\n",
    "    print(cmd)\n",
    "    subprocess.check_output(cmd, shell=True)"
   ]
  },
  {
   "cell_type": "code",
   "execution_count": 3,
   "id": "488a657a-89c4-4fb1-87f6-8c3db8b22e21",
   "metadata": {},
   "outputs": [
    {
     "name": "stdout",
     "output_type": "stream",
     "text": [
      "seqtk sample -s42 ../data/raw/ERR5766177_PE.mapped.hostremoved.fwd.fq.gz 1000000 > ../data/subsampled/ERR5766177_PE.mapped.hostremoved.fwd.fq_subsample_1000000.fastq\n",
      "seqtk sample -s42 ../data/raw/ERR5766177_PE.mapped.hostremoved.rev.fq.gz 1000000 > ../data/subsampled/ERR5766177_PE.mapped.hostremoved.rev.fq_subsample_1000000.fastq\n"
     ]
    }
   ],
   "source": [
    "for f in glob.glob(\"../data/raw/*\"):\n",
    "    outdir = \"../data/subsampled\"\n",
    "    subsample(f, outdir)"
   ]
  },
  {
   "cell_type": "code",
   "execution_count": 4,
   "id": "bf0b4e09-66a4-4a7d-b823-2243c5036236",
   "metadata": {},
   "outputs": [],
   "source": [
    "! gzip -f ../data/subsampled/*.fastq"
   ]
  }
 ],
 "metadata": {
  "interpreter": {
   "hash": "2a3ff89e8105ddc1b992a1aaff422ea63e88531210c7eba9221d81a87b24a3f9"
  },
  "kernelspec": {
   "display_name": "Python [conda env:summer_school_microbiome]",
   "language": "python",
   "name": "conda-env-summer_school_microbiome-py"
  },
  "language_info": {
   "codemirror_mode": {
    "name": "ipython",
    "version": 3
   },
   "file_extension": ".py",
   "mimetype": "text/x-python",
   "name": "python",
   "nbconvert_exporter": "python",
   "pygments_lexer": "ipython3",
   "version": "3.9.13"
  }
 },
 "nbformat": 4,
 "nbformat_minor": 5
}
