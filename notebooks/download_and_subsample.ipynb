{
 "cells": [
  {
   "cell_type": "code",
   "execution_count": null,
   "id": "5cd34bc6",
   "metadata": {},
   "outputs": [],
   "source": [
    "import pandas as pd\n",
    "import subprocess\n",
    "import glob\n",
    "import pathlib"
   ]
  },
  {
   "cell_type": "markdown",
   "id": "f72be9d7",
   "metadata": {},
   "source": [
    "For this tutorial, we will be using the ZSM028 sample published by [Borry et al. 2020](https://peerj.com/articles/9001/)"
   ]
  },
  {
   "cell_type": "markdown",
   "id": "b70c5d6f-4129-4926-b997-97f65e1ea48f",
   "metadata": {},
   "source": [
    "## Subsampling the sequencing files to make the analysis quicker for this tutorial"
   ]
  },
  {
   "cell_type": "code",
   "execution_count": 49,
   "id": "355f5ca0-03b9-4249-bebd-da550e4c418e",
   "metadata": {},
   "outputs": [],
   "source": [
    "def subsample(filename, outdir, depth=1000000):\n",
    "    basename = \".\".join(filename.split(\".\")[:-1]).split(\"/\")[-1]\n",
    "    print(basename)\n",
    "    cmd = f\"seqtk sample -s42 {filename} {depth} > {outdir}/{basename}_subsample_{depth}.fastq\"\n",
    "    print(cmd)\n",
    "    subprocess.check_output(cmd, shell=True)"
   ]
  },
  {
   "cell_type": "code",
   "execution_count": 50,
   "id": "488a657a-89c4-4fb1-87f6-8c3db8b22e21",
   "metadata": {},
   "outputs": [
    {
     "name": "stdout",
     "output_type": "stream",
     "text": [
      "../data/raw/ZSM028_R2.fastq\n",
      "ZSM028_R2\n",
      "seqtk sample -s42 ../data/raw/ZSM028_R2.fastq 1000000 > ../data/subsampled/ZSM028_R2_subsample_1000000.fastq\n",
      "../data/raw/ZSM028_R1.fastq\n",
      "ZSM028_R1\n",
      "seqtk sample -s42 ../data/raw/ZSM028_R1.fastq 1000000 > ../data/subsampled/ZSM028_R1_subsample_1000000.fastq\n"
     ]
    }
   ],
   "source": [
    "for f in glob.glob(\"../data/raw/*\"):\n",
    "    print(f)\n",
    "    outdir = \"../data/subsampled\"\n",
    "    subsample(f, outdir)"
   ]
  },
  {
   "cell_type": "code",
   "execution_count": 51,
   "id": "bf0b4e09-66a4-4a7d-b823-2243c5036236",
   "metadata": {},
   "outputs": [],
   "source": [
    "! gzip -f ../data/subsampled/*.fastq"
   ]
  }
 ],
 "metadata": {
  "interpreter": {
   "hash": "2a3ff89e8105ddc1b992a1aaff422ea63e88531210c7eba9221d81a87b24a3f9"
  },
  "kernelspec": {
   "display_name": "Python [conda env:.conda-summer_school_microbiome]",
   "language": "python",
   "name": "conda-env-.conda-summer_school_microbiome-py"
  },
  "language_info": {
   "codemirror_mode": {
    "name": "ipython",
    "version": 3
   },
   "file_extension": ".py",
   "mimetype": "text/x-python",
   "name": "python",
   "nbconvert_exporter": "python",
   "pygments_lexer": "ipython3",
   "version": "3.9.6"
  }
 },
 "nbformat": 4,
 "nbformat_minor": 5
}
