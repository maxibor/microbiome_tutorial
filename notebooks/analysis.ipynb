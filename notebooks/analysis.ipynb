{
 "cells": [
  {
   "cell_type": "markdown",
   "id": "d5b072d4-58f0-4717-9a65-09234414722a",
   "metadata": {},
   "source": [
    "# Hands on introduction to ancient microbiome analysis\n",
    "Author: Maxime Borry  \n",
    "Date: 12/08/2021"
   ]
  },
  {
   "cell_type": "markdown",
   "id": "dfb0e993-779a-45a1-9789-142d19d99243",
   "metadata": {},
   "source": [
    "In this tutorial, we're going to go through the steps necessary to:\n",
    "- generate a taxonomic profile table with [metaphlan v3.0](https://github.com/biobakery/MetaPhlAn)\n",
    "- have a look at metaphlan results with [Pavian](https://github.com/fbreitwieser/pavian) and generate a [Krona plot](https://github.com/marbl/Krona/wiki)\n",
    "- Compare the alpha diversity of our samples vs the diversity of modern human gut samples\n",
    "- Compare the composition of our samples vs modern gut samples, and see where they fit in a lower dimensional space"
   ]
  },
  {
   "cell_type": "markdown",
   "id": "d1303742-de95-45ce-a244-ff6a1b76197a",
   "metadata": {},
   "source": [
    "## 0. Quick intro to Jupyter Notebooks"
   ]
  },
  {
   "cell_type": "markdown",
   "id": "0497247e-225c-4b85-8fd1-6bc18480334b",
   "metadata": {},
   "source": [
    "This a markdown cell"
   ]
  },
  {
   "cell_type": "code",
   "execution_count": 1,
   "id": "c9ab4799-42ad-4a55-8f27-86a515fbdc64",
   "metadata": {},
   "outputs": [
    {
     "name": "stdout",
     "output_type": "stream",
     "text": [
      "This is a python cell\n"
     ]
    }
   ],
   "source": [
    "print(\"This is a python cell\")"
   ]
  },
  {
   "cell_type": "code",
   "execution_count": 2,
   "id": "c68889c4-79fd-45ca-a0a1-1366f007b6b6",
   "metadata": {},
   "outputs": [
    {
     "name": "stdout",
     "output_type": "stream",
     "text": [
      "This is how to run a single line bash command\n"
     ]
    }
   ],
   "source": [
    "! echo \"This is how to run a single line bash command\""
   ]
  },
  {
   "cell_type": "code",
   "execution_count": 3,
   "id": "b0020257-63ae-40fc-8036-b6698a814a7f",
   "metadata": {},
   "outputs": [
    {
     "name": "stdout",
     "output_type": "stream",
     "text": [
      "This how to run a multi\n",
      "lines bash command\n"
     ]
    }
   ],
   "source": [
    "%%bash\n",
    "echo \"This how to run a multi\"\n",
    "echo \"lines bash command\""
   ]
  },
  {
   "cell_type": "markdown",
   "id": "eaf4349f-bb50-4a17-b445-fc31fac3ecef",
   "metadata": {},
   "source": [
    "## 1. Data pre-processing"
   ]
  },
  {
   "cell_type": "markdown",
   "id": "ff616757-f604-468e-8f56-0e2563b51427",
   "metadata": {},
   "source": [
    "Before starting to analyze our data, we will need to pre-process them to remove reads mapping to the host genome, here, *Homo sapiens*\n",
    "\n",
    "To do so, I've used [nf-core/eager](https://github.com/nf-core/eager)\n",
    "\n",
    "I've already pre-processed the data, and the resulting cleaned files are available in the [data/eager_cleaned](data/eager_cleaned), but the basic eager command to do so is:\n",
    "\n",
    "` nextflow run nf-core/eager -profile <docker/singularity/podman/conda/institute> --input '*_R{1,2}.fastq.gz' --fasta 'human_genome.fasta' --hostremoval_input_fastq`"
   ]
  },
  {
   "cell_type": "markdown",
   "id": "4faf5c98-266e-4718-9d61-a5016a0e60af",
   "metadata": {},
   "source": [
    "## 2. Adapter sequence trimming and low-quality bases trimming\n",
    "\n",
    "Sequencing adapters are small DNA sequences adding prior to DNA sequencing to allow the DNA fragments to attach to the sequencing flow cells. Because these adapters could interfere with downtstream analyses, we need to remove them before proceeding any further.\n",
    "Furthermore, because the quality of the sequencing is not always optimal, we need to remove bases of lower sequencing quality to might lead to spurious results in downstream analyses.\n",
    "\n",
    "To perform both of these tasks, we'll use the [AdapterRemoval](https://github.com/MikkelSchubert/adapterremoval) program."
   ]
  },
  {
   "cell_type": "code",
   "execution_count": 16,
   "id": "5a6f9943-d428-4821-942c-e0d1b6f30fe5",
   "metadata": {
    "scrolled": true,
    "tags": []
   },
   "outputs": [
    {
     "name": "stdout",
     "output_type": "stream",
     "text": [
      "AdapterRemoval ver. 2.3.2\n",
      "\n",
      "This program searches for and removes remnant adapter sequences from\n",
      "your read data.  The program can analyze both single end and paired end\n",
      "data.  For detailed explanation of the parameters, please refer to the\n",
      "man page.  For comments, suggestions  and feedback please contact Stinus\n",
      "Lindgreen (stinus@binf.ku.dk) and Mikkel Schubert (MikkelSch@gmail.com).\n",
      "\n",
      "If you use the program, please cite the paper:\n",
      "    Schubert, Lindgreen, and Orlando (2016). AdapterRemoval v2: rapid\n",
      "    adapter trimming, identification, and read merging.\n",
      "    BMC Research Notes, 12;9(1):88.\n",
      "\n",
      "    http://bmcresnotes.biomedcentral.com/articles/10.1186/s13104-016-1900-2\n",
      "\n",
      "\n",
      "OPTIONS:\n",
      "    --help  \n",
      "        Display this message.\n",
      "\n",
      "    --version  \n",
      "        Print the version string.\n",
      "\n",
      "\n",
      "    --file1 FILE [FILE ...]\n",
      "        Input files containing mate 1 reads or single-ended reads; one or\n",
      "        more files may be listed [REQUIRED].\n",
      "\n",
      "    --file2 [FILE ...]\n",
      "        Input files containing mate 2 reads; if used, then the same number of\n",
      "        files as --file1 must be listed [OPTIONAL].\n",
      "\n",
      "    --identify-adapters  \n",
      "        Attempt to identify the adapter pair of PE reads, by searching for\n",
      "        overlapping mate reads [default: off].\n",
      "\n",
      "    --threads THREADS\n",
      "        Maximum number of threads [default: 1]\n",
      "\n",
      "\n",
      "FASTQ OPTIONS:\n",
      "    --qualitybase BASE\n",
      "        Quality base used to encode Phred scores in input; either 33, 64, or\n",
      "        solexa [default: 33].\n",
      "\n",
      "    --qualitybase-output BASE\n",
      "        Quality base used to encode Phred scores in output; either 33, 64, or\n",
      "        solexa. By default, reads will be written in the same format as the\n",
      "        that specified using --qualitybase.\n",
      "\n",
      "    --qualitymax BASE\n",
      "        Specifies the maximum Phred score expected in input files, and used\n",
      "        when writing output. ASCII encoded values are limited to the\n",
      "        characters '!' (ASCII = 33) to '~' (ASCII = 126), meaning that\n",
      "        possible scores are 0 - 93 with offset 33, and 0 - 62 for offset 64\n",
      "        and Solexa scores [default: 41].\n",
      "\n",
      "    --mate-separator CHAR\n",
      "        Character separating the mate number (1 or 2) from the read name in\n",
      "        FASTQ records [default: '/'].\n",
      "\n",
      "    --interleaved  \n",
      "        This option enables both the --interleaved-input option and the\n",
      "        --interleaved-output option [default: off].\n",
      "\n",
      "    --interleaved-input  \n",
      "        The (single) input file provided contains both the mate 1 and mate 2\n",
      "        reads, one pair after the other, with one mate 1 reads followed by\n",
      "        one mate 2 read. This option is implied by the --interleaved option\n",
      "        [default: off].\n",
      "\n",
      "    --interleaved-output  \n",
      "        If set, trimmed paired-end reads are written to a single file\n",
      "        containing mate 1 and mate 2 reads, one pair after the other. This\n",
      "        option is implied by the --interleaved option [default: off].\n",
      "\n",
      "    --combined-output  \n",
      "        If set, all reads are written to the same file(s), specified by\n",
      "        --output1 and --output2 (--output1 only if --interleaved-output is\n",
      "        not set). Discarded reads are replaced with a single 'N' with Phred\n",
      "        score 0 [default: off].\n",
      "\n",
      "\n",
      "OUTPUT FILES:\n",
      "    --basename BASENAME\n",
      "        Default prefix for all output files for which no filename was\n",
      "        explicitly set [default: your_output].\n",
      "\n",
      "    --settings FILE\n",
      "        Output file containing information on the parameters used in the run\n",
      "        as well as overall statistics on the reads after trimming [default:\n",
      "        BASENAME.settings]\n",
      "\n",
      "    --output1 FILE\n",
      "        Output file containing trimmed mate1 reads [default:\n",
      "        BASENAME.pair1.truncated (PE), BASENAME.truncated (SE), or\n",
      "        BASENAME.paired.truncated (interleaved PE)]\n",
      "\n",
      "    --output2 FILE\n",
      "        Output file containing trimmed mate 2 reads [default:\n",
      "        BASENAME.pair2.truncated (only used in PE mode, but not if\n",
      "        --interleaved-output is enabled)]\n",
      "\n",
      "    --singleton FILE\n",
      "        Output file to which containing paired reads for which the mate has\n",
      "        been discarded [default: BASENAME.singleton.truncated]\n",
      "\n",
      "    --outputcollapsed FILE\n",
      "        If --collapsed is set, contains overlapping mate-pairs which have\n",
      "        been merged into a single read (PE mode) or reads for which the\n",
      "        adapter was identified by a minimum overlap, indicating that the\n",
      "        entire template molecule is present. This does not include which have\n",
      "        subsequently been trimmed due to low-quality or ambiguous nucleotides\n",
      "        [default: BASENAME.collapsed]\n",
      "\n",
      "    --outputcollapsedtruncated FILE\n",
      "        Collapsed reads (see --outputcollapsed) which were trimmed due the\n",
      "        presence of low-quality or ambiguous nucleotides [default:\n",
      "        BASENAME.collapsed.truncated]\n",
      "\n",
      "    --discarded FILE\n",
      "        Contains reads discarded due to the --minlength, --maxlength or\n",
      "        --maxns options [default: BASENAME.discarded]\n",
      "\n",
      "\n",
      "OUTPUT COMPRESSION:\n",
      "    --gzip  \n",
      "        Enable gzip compression [default: off]\n",
      "\n",
      "    --gzip-level LEVEL\n",
      "        Compression level, 0 - 9 [default: 6]\n",
      "\n",
      "    --bzip2  \n",
      "        Enable bzip2 compression [default: off]\n",
      "\n",
      "    --bzip2-level LEVEL\n",
      "        Compression level, 0 - 9 [default: 9]\n",
      "\n",
      "\n",
      "TRIMMING SETTINGS:\n",
      "    --adapter1 SEQUENCE\n",
      "        Adapter sequence expected to be found in mate 1 reads [default:\n",
      "        AGATCGGAAGAGCACACGTCTGAACTCCAGTCACNNNNNNATCTCGTATGCCGTCTTCTGCTTG].\n",
      "\n",
      "    --adapter2 SEQUENCE\n",
      "        Adapter sequence expected to be found in mate 2 reads [default:\n",
      "        AGATCGGAAGAGCGTCGTGTAGGGAAAGAGTGTAGATCTCGGTGGTCGCCGTATCATT].\n",
      "\n",
      "    --adapter-list FILENAME\n",
      "        Read table of white-space separated adapters pairs, used as if the\n",
      "        first column was supplied to --adapter1, and the second column was\n",
      "        supplied to --adapter2; only the first adapter in each pair is\n",
      "        required SE trimming mode [default: <not set>].\n",
      "\n",
      "\n",
      "    --minadapteroverlap LENGTH\n",
      "        In single-end mode, reads are only trimmed if the overlap between\n",
      "        read and the adapter is at least X bases long, not counting ambiguous\n",
      "        nucleotides (N); this is independent of the --minalignmentlength when\n",
      "        using --collapse, allowing a conservative selection of putative\n",
      "        complete inserts while ensuring that all possible adapter\n",
      "        contamination is trimmed [default: 0].\n",
      "\n",
      "    --mm MISMATCH_RATE\n",
      "        Max error-rate when aligning reads and/or adapters. If > 1, the max\n",
      "        error-rate is set to 1 / MISMATCH_RATE; if < 0, the defaults are\n",
      "        used, otherwise the user-supplied value is used directly [default:\n",
      "        1/3 for trimming; 1/10 when identifying adapters].\n",
      "\n",
      "    --shift N\n",
      "        Consider alignments where up to N nucleotides are missing from the 5'\n",
      "        termini [default: 2].\n",
      "\n",
      "\n",
      "    --trim5p N [N]\n",
      "        Trim the 5' of reads by a fixed amount after removing adapters, but\n",
      "        before carrying out quality based trimming. Specify one value to trim\n",
      "        mate 1 and mate 2 reads the same amount, or two values separated by a\n",
      "        space to trim each mate different amounts [default: no trimming].\n",
      "\n",
      "    --trim3p N [N]\n",
      "        Trim the 3' of reads by a fixed amount. See --trim5p.\n",
      "\n",
      "    --trimns  \n",
      "        If set, trim ambiguous bases (N) at 5'/3' termini [default: off]\n",
      "\n",
      "    --maxns MAX\n",
      "        Reads containing more ambiguous bases (N) than this number after\n",
      "        trimming are discarded [default: 1000].\n",
      "\n",
      "    --trimqualities  \n",
      "        If set, trim bases at 5'/3' termini with quality scores <= to\n",
      "        --minquality value [default: off]\n",
      "\n",
      "    --trimwindows INT\n",
      "        If set, quality trimming will be carried out using window based\n",
      "        approach, where windows with an average quality less than\n",
      "        --minquality will be trimmed. If >= 1, this value will be used as the\n",
      "        window size. If the value is < 1, the value will be multiplied with\n",
      "        the read length to determine a window size per read. If the resulting\n",
      "        window size is 0 or larger than the read length, the read length is\n",
      "        used as the window size. This option implies --trimqualities\n",
      "        [default: <not set>].\n",
      "\n",
      "    --minquality PHRED\n",
      "        Inclusive minimum; see --trimqualities for details [default: 2]\n",
      "\n",
      "    --preserve5p  \n",
      "        If set, bases at the 5p will not be trimmed by --trimns,\n",
      "        --trimqualities, and --trimwindows. Collapsed reads will not be\n",
      "        quality trimmed when this option is enabled [default: 5p bases are\n",
      "        trimmed]\n",
      "\n",
      "\n",
      "    --minlength LENGTH\n",
      "        Reads shorter than this length are discarded following trimming\n",
      "        [default: 15].\n",
      "\n",
      "    --maxlength LENGTH\n",
      "        Reads longer than this length are discarded following trimming\n",
      "        [default: 4294967295].\n",
      "\n",
      "\n",
      "READ MERGING:\n",
      "    --collapse  \n",
      "        When set, paired ended read alignments of --minalignmentlength or\n",
      "        more bases are combined into a single consensus sequence,\n",
      "        representing the complete insert, and written to either\n",
      "        basename.collapsed or basename.collapsed.truncated (if trimmed due to\n",
      "        low-quality bases following collapse); for single-ended reads,\n",
      "        putative complete inserts are identified as having at least\n",
      "        --minalignmentlength bases overlap with the adapter sequence, and are\n",
      "        written to the the same files [default: off].\n",
      "\n",
      "    --collapse-deterministic  \n",
      "        In standard --collapse mode, AdapterRemoval will randomly select one\n",
      "        of two different overlapping bases if these have the same quality\n",
      "        (otherwise it picks the highest quality base). With\n",
      "        --collapse-deterministic, AdapterRemoval will instead set such bases\n",
      "        to N. Setting this option also sets--collapse [default: off].\n",
      "\n",
      "    --collapse-conservatively  \n",
      "        Enables a more conservative merging algorithm inspired by fastq-join,\n",
      "        in which the higher quality score is picked for matching bases and\n",
      "        the max score minus the min score is picked for mismatching bases.\n",
      "        For more details, see the documentation. --seed and\n",
      "        --collapse-deterministic have no effect when this is enabled. Setting\n",
      "        this option also sets --collapse [default: off].\n",
      "\n",
      "    --minalignmentlength LENGTH\n",
      "        If --collapse is set, paired reads must overlap at least this number\n",
      "        of bases to be collapsed, and single-ended reads must overlap at\n",
      "        least this number of bases with the adapter to be considered complete\n",
      "        template molecules [default: 11].\n",
      "\n",
      "    --seed SEED\n",
      "        Sets the RNG seed used when choosing between bases with equal Phred\n",
      "        scores when --collapse is enabled. This option is not available if\n",
      "        more than one thread is used. If not specified, aseed is generated\n",
      "        using the current time.\n",
      "\n",
      "\n",
      "DEMULTIPLEXING:\n",
      "    --barcode-list FILENAME\n",
      "        List of barcodes or barcode pairs for single or double-indexed\n",
      "        demultiplexing. Note that both indexes should be specified for both\n",
      "        single-end and paired-end trimming, if double-indexed multiplexing\n",
      "        was used, in order to ensure that the demultiplexed reads can be\n",
      "        trimmed correctly [default: <not set>].\n",
      "\n",
      "    --barcode-mm N\n",
      "        Maximum number of mismatches allowed when counting mismatches in both\n",
      "        the mate 1 and the mate 2 barcode for paired reads.\n",
      "\n",
      "    --barcode-mm-r1 N\n",
      "        Maximum number of mismatches allowed for the mate 1 barcode; if not\n",
      "        set, this value is equal to the '--barcode-mm' value; cannot be\n",
      "        higher than the '--barcode-mm value'.\n",
      "\n",
      "    --barcode-mm-r2 N\n",
      "        Maximum number of mismatches allowed for the mate 2 barcode; if not\n",
      "        set, this value is equal to the '--barcode-mm' value; cannot be\n",
      "        higher than the '--barcode-mm value'.\n",
      "\n",
      "    --demultiplex-only  \n",
      "        Only carry out demultiplexing using the list of barcodes supplied\n",
      "        with --barcode-list. No other processing is done.\n",
      "\n",
      "\n"
     ]
    }
   ],
   "source": [
    "! AdapterRemoval -h"
   ]
  },
  {
   "cell_type": "code",
   "execution_count": 29,
   "id": "7784dab4-5453-4c4d-9534-c3b87e8415e9",
   "metadata": {},
   "outputs": [
    {
     "name": "stderr",
     "output_type": "stream",
     "text": [
      "Trimming paired end reads ...\n",
      "Opening FASTQ file '../data/eager_cleaned/ZSM028_R1.fastq.gz', line numbers start at 1\n",
      "Opening FASTQ file '../data/eager_cleaned/ZSM028_R2.fastq.gz', line numbers start at 1\n",
      "Processed a total of 1,996,618 reads in 25.6s; 78,000 reads per second on average ...\n"
     ]
    }
   ],
   "source": [
    "%%bash\n",
    "AdapterRemoval --file1 ../data/eager_cleaned/ZSM028_R1.fastq.gz \\\n",
    "    --file2 ../data/eager_cleaned/ZSM028_R2.fastq.gz \\\n",
    "    --basename ../results/adapterremoval/ZSM028 \\\n",
    "    --gzip \\\n",
    "    --minquality 20 \\\n",
    "    --trimqualities \\\n",
    "    --collapse"
   ]
  },
  {
   "cell_type": "markdown",
   "id": "8b874898-0590-4e6d-9265-4cd5ccb2e236",
   "metadata": {},
   "source": [
    "Since Metaphlan doesn't use the paired-end information, we'll combine all output files together"
   ]
  },
  {
   "cell_type": "code",
   "execution_count": 31,
   "id": "12a2bddc-9a7a-4d86-b8db-aa0d9ed79cb4",
   "metadata": {},
   "outputs": [],
   "source": [
    "! cat ../results/adapterremoval/*.collapsed.* ../results/adapterremoval/*.truncated.* ../results/adapterremoval/*.singleton.*  > ../results/adapterremoval/ZSM028.combined.fastq.gz"
   ]
  },
  {
   "cell_type": "markdown",
   "id": "2f881863-e66e-4201-9600-1fc9e6edccc8",
   "metadata": {},
   "source": [
    "## 3. Taxonomic profiling with Metaphlan"
   ]
  },
  {
   "cell_type": "code",
   "execution_count": 20,
   "id": "be2d77c0-0865-48ff-b727-76d2e106b77b",
   "metadata": {
    "scrolled": true,
    "tags": []
   },
   "outputs": [
    {
     "name": "stdout",
     "output_type": "stream",
     "text": [
      "usage: metaphlan --input_type {fastq,fasta,bowtie2out,sam} [--force]\n",
      "                 [--bowtie2db METAPHLAN_BOWTIE2_DB] [-x INDEX]\n",
      "                 [--bt2_ps BowTie2 presets] [--bowtie2_exe BOWTIE2_EXE]\n",
      "                 [--bowtie2_build BOWTIE2_BUILD] [--bowtie2out FILE_NAME]\n",
      "                 [--min_mapq_val MIN_MAPQ_VAL] [--no_map] [--tmp_dir]\n",
      "                 [--tax_lev TAXONOMIC_LEVEL] [--min_cu_len]\n",
      "                 [--min_alignment_len] [--add_viruses] [--ignore_eukaryotes]\n",
      "                 [--ignore_bacteria] [--ignore_archaea] [--stat_q]\n",
      "                 [--perc_nonzero] [--ignore_markers IGNORE_MARKERS]\n",
      "                 [--avoid_disqm] [--stat] [-t ANALYSIS TYPE]\n",
      "                 [--nreads NUMBER_OF_READS] [--pres_th PRESENCE_THRESHOLD]\n",
      "                 [--clade] [--min_ab] [-o output file] [--sample_id_key name]\n",
      "                 [--use_group_representative] [--sample_id value]\n",
      "                 [-s sam_output_file] [--legacy-output] [--CAMI_format_output]\n",
      "                 [--unknown_estimation] [--biom biom_output] [--mdelim mdelim]\n",
      "                 [--nproc N] [--install] [--force_download]\n",
      "                 [--read_min_len READ_MIN_LEN] [-v] [-h]\n",
      "                 [INPUT_FILE] [OUTPUT_FILE]\n",
      "\n",
      "DESCRIPTION\n",
      " MetaPhlAn version 3.0.13 (27 Jul 2021): \n",
      " METAgenomic PHyLogenetic ANalysis for metagenomic taxonomic profiling.\n",
      "\n",
      "AUTHORS: Francesco Beghini (francesco.beghini@unitn.it),Nicola Segata (nicola.segata@unitn.it), Duy Tin Truong, Francesco Asnicar (f.asnicar@unitn.it), Aitor Blanco Miguez (aitor.blancomiguez@unitn.it)\n",
      "\n",
      "COMMON COMMANDS\n",
      "\n",
      " We assume here that MetaPhlAn is installed using the several options available (pip, conda, PyPi)\n",
      " Also BowTie2 should be in the system path with execution and read permissions, and Perl should be installed)\n",
      "\n",
      "========== MetaPhlAn clade-abundance estimation ================= \n",
      "\n",
      "The basic usage of MetaPhlAn consists in the identification of the clades (from phyla to species ) \n",
      "present in the metagenome obtained from a microbiome sample and their \n",
      "relative abundance. This correspond to the default analysis type (-t rel_ab).\n",
      "\n",
      "*  Profiling a metagenome from raw reads:\n",
      "$ metaphlan metagenome.fastq --input_type fastq -o profiled_metagenome.txt\n",
      "\n",
      "*  You can take advantage of multiple CPUs and save the intermediate BowTie2 output for re-running\n",
      "   MetaPhlAn extremely quickly:\n",
      "$ metaphlan metagenome.fastq --bowtie2out metagenome.bowtie2.bz2 --nproc 5 --input_type fastq -o profiled_metagenome.txt\n",
      "\n",
      "*  If you already mapped your metagenome against the marker DB (using a previous MetaPhlAn run), you\n",
      "   can obtain the results in few seconds by using the previously saved --bowtie2out file and \n",
      "   specifying the input (--input_type bowtie2out):\n",
      "$ metaphlan metagenome.bowtie2.bz2 --nproc 5 --input_type bowtie2out -o profiled_metagenome.txt\n",
      "\n",
      "*  bowtie2out files generated with MetaPhlAn versions below 3 are not compatibile.\n",
      "   Starting from MetaPhlAn 3.0, the BowTie2 ouput now includes the size of the profiled metagenome and the average read length.\n",
      "   If you want to re-run MetaPhlAn using these file you should provide the metagenome size via --nreads:\n",
      "$ metaphlan metagenome.bowtie2.bz2 --nproc 5 --input_type bowtie2out --nreads 520000 -o profiled_metagenome.txt\n",
      "\n",
      "*  You can also provide an externally BowTie2-mapped SAM if you specify this format with \n",
      "   --input_type. Two steps: first apply BowTie2 and then feed MetaPhlAn with the obtained sam:\n",
      "$ bowtie2 --sam-no-hd --sam-no-sq --no-unal --very-sensitive -S metagenome.sam -x ${mpa_dir}/metaphlan_databases/mpa_v30_CHOCOPhlAn_201901 -U metagenome.fastq\n",
      "$ metaphlan metagenome.sam --input_type sam -o profiled_metagenome.txt\n",
      "\n",
      "*  We can also natively handle paired-end metagenomes, and, more generally, metagenomes stored in \n",
      "  multiple files (but you need to specify the --bowtie2out parameter):\n",
      "$ metaphlan metagenome_1.fastq,metagenome_2.fastq --bowtie2out metagenome.bowtie2.bz2 --nproc 5 --input_type fastq\n",
      "\n",
      "------------------------------------------------------------------- \n",
      " \n",
      "\n",
      "========== Marker level analysis ============================ \n",
      "\n",
      "MetaPhlAn introduces the capability of characterizing organisms at the strain level using non\n",
      "aggregated marker information. Such capability comes with several slightly different flavours and \n",
      "are a way to perform strain tracking and comparison across multiple samples.\n",
      "Usually, MetaPhlAn is first ran with the default -t to profile the species present in\n",
      "the community, and then a strain-level profiling can be performed to zoom-in into specific species\n",
      "of interest. This operation can be performed quickly as it exploits the --bowtie2out intermediate \n",
      "file saved during the execution of the default analysis type.\n",
      "\n",
      "*  The following command will output the abundance of each marker with a RPK (reads per kilo-base) \n",
      "   higher 0.0. (we are assuming that metagenome_outfmt.bz2 has been generated before as \n",
      "   shown above).\n",
      "$ metaphlan -t marker_ab_table metagenome_outfmt.bz2 --input_type bowtie2out -o marker_abundance_table.txt\n",
      "   The obtained RPK can be optionally normalized by the total number of reads in the metagenome \n",
      "   to guarantee fair comparisons of abundances across samples. The number of reads in the metagenome\n",
      "   needs to be passed with the '--nreads' argument\n",
      "\n",
      "*  The list of markers present in the sample can be obtained with '-t marker_pres_table'\n",
      "$ metaphlan -t marker_pres_table metagenome_outfmt.bz2 --input_type bowtie2out -o marker_abundance_table.txt\n",
      "   The --pres_th argument (default 1.0) set the minimum RPK value to consider a marker present\n",
      "\n",
      "*  The list '-t clade_profiles' analysis type reports the same information of '-t marker_ab_table'\n",
      "   but the markers are reported on a clade-by-clade basis.\n",
      "$ metaphlan -t clade_profiles metagenome_outfmt.bz2 --input_type bowtie2out -o marker_abundance_table.txt\n",
      "\n",
      "*  Finally, to obtain all markers present for a specific clade and all its subclades, the \n",
      "   '-t clade_specific_strain_tracker' should be used. For example, the following command\n",
      "   is reporting the presence/absence of the markers for the B. fragilis species and its strains\n",
      "   the optional argument --min_ab specifies the minimum clade abundance for reporting the markers\n",
      "\n",
      "$ metaphlan -t clade_specific_strain_tracker --clade s__Bacteroides_fragilis metagenome_outfmt.bz2 --input_type bowtie2out -o marker_abundance_table.txt\n",
      "\n",
      "------------------------------------------------------------------- \n",
      "\n",
      "positional arguments:\n",
      "  INPUT_FILE            the input file can be:\n",
      "                        * a fastq file containing metagenomic reads\n",
      "                        OR\n",
      "                        * a BowTie2 produced SAM file. \n",
      "                        OR\n",
      "                        * an intermediary mapping file of the metagenome generated by a previous MetaPhlAn run \n",
      "                        If the input file is missing, the script assumes that the input is provided using the standard \n",
      "                        input, or named pipes.\n",
      "                        IMPORTANT: the type of input needs to be specified with --input_type\n",
      "  OUTPUT_FILE           the tab-separated output file of the predicted taxon relative abundances \n",
      "                        [stdout if not present]\n",
      "\n",
      "Required arguments:\n",
      "  --input_type {fastq,fasta,bowtie2out,sam}\n",
      "                        set whether the input is the FASTA file of metagenomic reads or \n",
      "                        the SAM file of the mapping of the reads against the MetaPhlAn db.\n",
      "\n",
      "Mapping arguments:\n",
      "  --force               Force profiling of the input file by removing the bowtie2out file\n",
      "  --bowtie2db METAPHLAN_BOWTIE2_DB\n",
      "                        Folder containing the MetaPhlAn database. You can specify the location by exporting the DEFAULT_DB_FOLDER variable in the shell.[default /home/maxime_borry/.conda/envs/summer_school_microbiome/lib/python3.9/site-packages/metaphlan/metaphlan_databases]\n",
      "  -x INDEX, --index INDEX\n",
      "                        Specify the id of the database version to use. If \"latest\", MetaPhlAn will get the latest version.\n",
      "                        If an index name is provided, MetaPhlAn will try to use it, if available, and skip the online check.\n",
      "                        If the database files are not found on the local MetaPhlAn installation they\n",
      "                        will be automatically downloaded [default latest]\n",
      "  --bt2_ps BowTie2 presets\n",
      "                        Presets options for BowTie2 (applied only when a FASTA file is provided)\n",
      "                        The choices enabled in MetaPhlAn are:\n",
      "                         * sensitive\n",
      "                         * very-sensitive\n",
      "                         * sensitive-local\n",
      "                         * very-sensitive-local\n",
      "                        [default very-sensitive]\n",
      "  --bowtie2_exe BOWTIE2_EXE\n",
      "                        Full path and name of the BowTie2 executable. This option allowsMetaPhlAn to reach the executable even when it is not in the system PATH or the system PATH is unreachable\n",
      "  --bowtie2_build BOWTIE2_BUILD\n",
      "                        Full path to the bowtie2-build command to use, deafult assumes that 'bowtie2-build is present in the system path\n",
      "  --bowtie2out FILE_NAME\n",
      "                        The file for saving the output of BowTie2\n",
      "  --min_mapq_val MIN_MAPQ_VAL\n",
      "                        Minimum mapping quality value (MAPQ) [default 5]\n",
      "  --no_map              Avoid storing the --bowtie2out map file\n",
      "  --tmp_dir             The folder used to store temporary files [default is the OS dependent tmp dir]\n",
      "\n",
      "Post-mapping arguments:\n",
      "  --tax_lev TAXONOMIC_LEVEL\n",
      "                        The taxonomic level for the relative abundance output:\n",
      "                        'a' : all taxonomic levels\n",
      "                        'k' : kingdoms\n",
      "                        'p' : phyla only\n",
      "                        'c' : classes only\n",
      "                        'o' : orders only\n",
      "                        'f' : families only\n",
      "                        'g' : genera only\n",
      "                        's' : species only\n",
      "                        [default 'a']\n",
      "  --min_cu_len          minimum total nucleotide length for the markers in a clade for\n",
      "                        estimating the abundance without considering sub-clade abundances\n",
      "                        [default 2000]\n",
      "  --min_alignment_len   The sam records for aligned reads with the longest subalignment\n",
      "                        length smaller than this threshold will be discarded.\n",
      "                        [default None]\n",
      "  --add_viruses         Allow the profiling of viral organisms\n",
      "  --ignore_eukaryotes   Do not profile eukaryotic organisms\n",
      "  --ignore_bacteria     Do not profile bacterial organisms\n",
      "  --ignore_archaea      Do not profile archeal organisms\n",
      "  --stat_q              Quantile value for the robust average\n",
      "                        [default 0.2]\n",
      "  --perc_nonzero        Percentage of markers with a non zero relative abundance for misidentify a species\n",
      "                        [default 0.33]\n",
      "  --ignore_markers IGNORE_MARKERS\n",
      "                        File containing a list of markers to ignore. \n",
      "  --avoid_disqm         Deactivate the procedure of disambiguating the quasi-markers based on the \n",
      "                        marker abundance pattern found in the sample. It is generally recommended \n",
      "                        to keep the disambiguation procedure in order to minimize false positives\n",
      "  --stat                Statistical approach for converting marker abundances into clade abundances\n",
      "                        'avg_g'  : clade global (i.e. normalizing all markers together) average\n",
      "                        'avg_l'  : average of length-normalized marker counts\n",
      "                        'tavg_g' : truncated clade global average at --stat_q quantile\n",
      "                        'tavg_l' : truncated average of length-normalized marker counts (at --stat_q)\n",
      "                        'wavg_g' : winsorized clade global average (at --stat_q)\n",
      "                        'wavg_l' : winsorized average of length-normalized marker counts (at --stat_q)\n",
      "                        'med'    : median of length-normalized marker counts\n",
      "                        [default tavg_g]\n",
      "\n",
      "Additional analysis types and arguments:\n",
      "  -t ANALYSIS TYPE      Type of analysis to perform: \n",
      "                         * rel_ab: profiling a metagenomes in terms of relative abundances\n",
      "                         * rel_ab_w_read_stats: profiling a metagenomes in terms of relative abundances and estimate the number of reads coming from each clade.\n",
      "                         * reads_map: mapping from reads to clades (only reads hitting a marker)\n",
      "                         * clade_profiles: normalized marker counts for clades with at least a non-null marker\n",
      "                         * marker_ab_table: normalized marker counts (only when > 0.0 and normalized by metagenome size if --nreads is specified)\n",
      "                         * marker_counts: non-normalized marker counts [use with extreme caution]\n",
      "                         * marker_pres_table: list of markers present in the sample (threshold at 1.0 if not differently specified with --pres_th\n",
      "                         * clade_specific_strain_tracker: list of markers present for a specific clade, specified with --clade, and all its subclades\n",
      "                        [default 'rel_ab']\n",
      "  --nreads NUMBER_OF_READS\n",
      "                        The total number of reads in the original metagenome. It is used only when \n",
      "                        -t marker_table is specified for normalizing the length-normalized counts \n",
      "                        with the metagenome size as well. No normalization applied if --nreads is not \n",
      "                        specified\n",
      "  --pres_th PRESENCE_THRESHOLD\n",
      "                        Threshold for calling a marker present by the -t marker_pres_table option\n",
      "  --clade               The clade for clade_specific_strain_tracker analysis\n",
      "  --min_ab              The minimum percentage abundance for the clade in the clade_specific_strain_tracker analysis\n",
      "\n",
      "Output arguments:\n",
      "  -o output file, --output_file output file\n",
      "                        The output file (if not specified as positional argument)\n",
      "  --sample_id_key name  Specify the sample ID key for this analysis. Defaults to 'SampleID'.\n",
      "  --use_group_representative\n",
      "                        Use a species as representative for species groups.\n",
      "  --sample_id value     Specify the sample ID for this analysis. Defaults to 'Metaphlan_Analysis'.\n",
      "  -s sam_output_file, --samout sam_output_file\n",
      "                        The sam output file\n",
      "  --legacy-output       Old MetaPhlAn2 two columns output\n",
      "  --CAMI_format_output  Report the profiling using the CAMI output format\n",
      "  --unknown_estimation  Scale relative abundances to the number of reads mapping to known clades in order to estimate unknowness\n",
      "  --biom biom_output, --biom_output_file biom_output\n",
      "                        If requesting biom file output: The name of the output file in biom format \n",
      "  --mdelim mdelim, --metadata_delimiter_char mdelim\n",
      "                        Delimiter for bug metadata: - defaults to pipe. e.g. the pipe in k__Bacteria|p__Proteobacteria \n",
      "\n",
      "Other arguments:\n",
      "  --nproc N             The number of CPUs to use for parallelizing the mapping [default 4]\n",
      "  --install             Only checks if the MetaPhlAn DB is installed and installs it if not. All other parameters are ignored.\n",
      "  --force_download      Force the re-download of the latest MetaPhlAn database.\n",
      "  --read_min_len READ_MIN_LEN\n",
      "                        Specify the minimum length of the reads to be considered when parsing the input file with 'read_fastx.py' script, default value is 70\n",
      "  -v, --version         Prints the current MetaPhlAn version and exit\n",
      "  -h, --help            show this help message and exit\n"
     ]
    }
   ],
   "source": [
    "! metaphlan  --help"
   ]
  },
  {
   "cell_type": "code",
   "execution_count": 135,
   "id": "32e368df-af39-4b43-b8c9-e5e3edd5dbc2",
   "metadata": {},
   "outputs": [
    {
     "name": "stderr",
     "output_type": "stream",
     "text": [
      "BowTie2 output file detected: ../results/metaphlan/ZSM028.bt2.out\n",
      "Please use it as input or remove it if you want to re-perform the BowTie2 run.\n",
      "Exiting...\n",
      "\n"
     ]
    },
    {
     "ename": "CalledProcessError",
     "evalue": "Command 'b'metaphlan ../results/adapterremoval/ZSM028.combined.fastq.gz  \\\\\\n    --input_type fastq \\\\\\n    --bowtie2db /home/maxime_borry/.conda/envs/summer_school_microbiome/lib/python3.9/site-packages/metaphlan/metaphlan_databases/  \\\\\\n    --bowtie2out ../results/metaphlan/ZSM028.bt2.out -o ZSM028.metaphlan.out  \\\\\\n    > ../results/metaphlan/ZSM028.metaphlan_profile.txt\\n'' returned non-zero exit status 1.",
     "output_type": "error",
     "traceback": [
      "\u001b[0;31m---------------------------------------------------------------------------\u001b[0m",
      "\u001b[0;31mCalledProcessError\u001b[0m                        Traceback (most recent call last)",
      "\u001b[0;32m/tmp/ipykernel_3374465/217239267.py\u001b[0m in \u001b[0;36m<module>\u001b[0;34m\u001b[0m\n\u001b[0;32m----> 1\u001b[0;31m \u001b[0mget_ipython\u001b[0m\u001b[0;34m(\u001b[0m\u001b[0;34m)\u001b[0m\u001b[0;34m.\u001b[0m\u001b[0mrun_cell_magic\u001b[0m\u001b[0;34m(\u001b[0m\u001b[0;34m'bash'\u001b[0m\u001b[0;34m,\u001b[0m \u001b[0;34m''\u001b[0m\u001b[0;34m,\u001b[0m \u001b[0;34m'metaphlan ../results/adapterremoval/ZSM028.combined.fastq.gz  \\\\\\n    --input_type fastq \\\\\\n    --bowtie2db /home/maxime_borry/.conda/envs/summer_school_microbiome/lib/python3.9/site-packages/metaphlan/metaphlan_databases/  \\\\\\n    --bowtie2out ../results/metaphlan/ZSM028.bt2.out -o ZSM028.metaphlan.out  \\\\\\n    > ../results/metaphlan/ZSM028.metaphlan_profile.txt\\n'\u001b[0m\u001b[0;34m)\u001b[0m\u001b[0;34m\u001b[0m\u001b[0;34m\u001b[0m\u001b[0m\n\u001b[0m",
      "\u001b[0;32m~/.conda/envs/summer_school_microbiome/lib/python3.9/site-packages/IPython/core/interactiveshell.py\u001b[0m in \u001b[0;36mrun_cell_magic\u001b[0;34m(self, magic_name, line, cell)\u001b[0m\n\u001b[1;32m   2401\u001b[0m             \u001b[0;32mwith\u001b[0m \u001b[0mself\u001b[0m\u001b[0;34m.\u001b[0m\u001b[0mbuiltin_trap\u001b[0m\u001b[0;34m:\u001b[0m\u001b[0;34m\u001b[0m\u001b[0;34m\u001b[0m\u001b[0m\n\u001b[1;32m   2402\u001b[0m                 \u001b[0margs\u001b[0m \u001b[0;34m=\u001b[0m \u001b[0;34m(\u001b[0m\u001b[0mmagic_arg_s\u001b[0m\u001b[0;34m,\u001b[0m \u001b[0mcell\u001b[0m\u001b[0;34m)\u001b[0m\u001b[0;34m\u001b[0m\u001b[0;34m\u001b[0m\u001b[0m\n\u001b[0;32m-> 2403\u001b[0;31m                 \u001b[0mresult\u001b[0m \u001b[0;34m=\u001b[0m \u001b[0mfn\u001b[0m\u001b[0;34m(\u001b[0m\u001b[0;34m*\u001b[0m\u001b[0margs\u001b[0m\u001b[0;34m,\u001b[0m \u001b[0;34m**\u001b[0m\u001b[0mkwargs\u001b[0m\u001b[0;34m)\u001b[0m\u001b[0;34m\u001b[0m\u001b[0;34m\u001b[0m\u001b[0m\n\u001b[0m\u001b[1;32m   2404\u001b[0m             \u001b[0;32mreturn\u001b[0m \u001b[0mresult\u001b[0m\u001b[0;34m\u001b[0m\u001b[0;34m\u001b[0m\u001b[0m\n\u001b[1;32m   2405\u001b[0m \u001b[0;34m\u001b[0m\u001b[0m\n",
      "\u001b[0;32m~/.conda/envs/summer_school_microbiome/lib/python3.9/site-packages/IPython/core/magics/script.py\u001b[0m in \u001b[0;36mnamed_script_magic\u001b[0;34m(line, cell)\u001b[0m\n\u001b[1;32m    140\u001b[0m             \u001b[0;32melse\u001b[0m\u001b[0;34m:\u001b[0m\u001b[0;34m\u001b[0m\u001b[0;34m\u001b[0m\u001b[0m\n\u001b[1;32m    141\u001b[0m                 \u001b[0mline\u001b[0m \u001b[0;34m=\u001b[0m \u001b[0mscript\u001b[0m\u001b[0;34m\u001b[0m\u001b[0;34m\u001b[0m\u001b[0m\n\u001b[0;32m--> 142\u001b[0;31m             \u001b[0;32mreturn\u001b[0m \u001b[0mself\u001b[0m\u001b[0;34m.\u001b[0m\u001b[0mshebang\u001b[0m\u001b[0;34m(\u001b[0m\u001b[0mline\u001b[0m\u001b[0;34m,\u001b[0m \u001b[0mcell\u001b[0m\u001b[0;34m)\u001b[0m\u001b[0;34m\u001b[0m\u001b[0;34m\u001b[0m\u001b[0m\n\u001b[0m\u001b[1;32m    143\u001b[0m \u001b[0;34m\u001b[0m\u001b[0m\n\u001b[1;32m    144\u001b[0m         \u001b[0;31m# write a basic docstring:\u001b[0m\u001b[0;34m\u001b[0m\u001b[0;34m\u001b[0m\u001b[0;34m\u001b[0m\u001b[0m\n",
      "\u001b[0;32m~/.conda/envs/summer_school_microbiome/lib/python3.9/site-packages/decorator.py\u001b[0m in \u001b[0;36mfun\u001b[0;34m(*args, **kw)\u001b[0m\n\u001b[1;32m    230\u001b[0m             \u001b[0;32mif\u001b[0m \u001b[0;32mnot\u001b[0m \u001b[0mkwsyntax\u001b[0m\u001b[0;34m:\u001b[0m\u001b[0;34m\u001b[0m\u001b[0;34m\u001b[0m\u001b[0m\n\u001b[1;32m    231\u001b[0m                 \u001b[0margs\u001b[0m\u001b[0;34m,\u001b[0m \u001b[0mkw\u001b[0m \u001b[0;34m=\u001b[0m \u001b[0mfix\u001b[0m\u001b[0;34m(\u001b[0m\u001b[0margs\u001b[0m\u001b[0;34m,\u001b[0m \u001b[0mkw\u001b[0m\u001b[0;34m,\u001b[0m \u001b[0msig\u001b[0m\u001b[0;34m)\u001b[0m\u001b[0;34m\u001b[0m\u001b[0;34m\u001b[0m\u001b[0m\n\u001b[0;32m--> 232\u001b[0;31m             \u001b[0;32mreturn\u001b[0m \u001b[0mcaller\u001b[0m\u001b[0;34m(\u001b[0m\u001b[0mfunc\u001b[0m\u001b[0;34m,\u001b[0m \u001b[0;34m*\u001b[0m\u001b[0;34m(\u001b[0m\u001b[0mextras\u001b[0m \u001b[0;34m+\u001b[0m \u001b[0margs\u001b[0m\u001b[0;34m)\u001b[0m\u001b[0;34m,\u001b[0m \u001b[0;34m**\u001b[0m\u001b[0mkw\u001b[0m\u001b[0;34m)\u001b[0m\u001b[0;34m\u001b[0m\u001b[0;34m\u001b[0m\u001b[0m\n\u001b[0m\u001b[1;32m    233\u001b[0m     \u001b[0mfun\u001b[0m\u001b[0;34m.\u001b[0m\u001b[0m__name__\u001b[0m \u001b[0;34m=\u001b[0m \u001b[0mfunc\u001b[0m\u001b[0;34m.\u001b[0m\u001b[0m__name__\u001b[0m\u001b[0;34m\u001b[0m\u001b[0;34m\u001b[0m\u001b[0m\n\u001b[1;32m    234\u001b[0m     \u001b[0mfun\u001b[0m\u001b[0;34m.\u001b[0m\u001b[0m__doc__\u001b[0m \u001b[0;34m=\u001b[0m \u001b[0mfunc\u001b[0m\u001b[0;34m.\u001b[0m\u001b[0m__doc__\u001b[0m\u001b[0;34m\u001b[0m\u001b[0;34m\u001b[0m\u001b[0m\n",
      "\u001b[0;32m~/.conda/envs/summer_school_microbiome/lib/python3.9/site-packages/IPython/core/magic.py\u001b[0m in \u001b[0;36m<lambda>\u001b[0;34m(f, *a, **k)\u001b[0m\n\u001b[1;32m    185\u001b[0m     \u001b[0;31m# but it's overkill for just that one bit of state.\u001b[0m\u001b[0;34m\u001b[0m\u001b[0;34m\u001b[0m\u001b[0;34m\u001b[0m\u001b[0m\n\u001b[1;32m    186\u001b[0m     \u001b[0;32mdef\u001b[0m \u001b[0mmagic_deco\u001b[0m\u001b[0;34m(\u001b[0m\u001b[0marg\u001b[0m\u001b[0;34m)\u001b[0m\u001b[0;34m:\u001b[0m\u001b[0;34m\u001b[0m\u001b[0;34m\u001b[0m\u001b[0m\n\u001b[0;32m--> 187\u001b[0;31m         \u001b[0mcall\u001b[0m \u001b[0;34m=\u001b[0m \u001b[0;32mlambda\u001b[0m \u001b[0mf\u001b[0m\u001b[0;34m,\u001b[0m \u001b[0;34m*\u001b[0m\u001b[0ma\u001b[0m\u001b[0;34m,\u001b[0m \u001b[0;34m**\u001b[0m\u001b[0mk\u001b[0m\u001b[0;34m:\u001b[0m \u001b[0mf\u001b[0m\u001b[0;34m(\u001b[0m\u001b[0;34m*\u001b[0m\u001b[0ma\u001b[0m\u001b[0;34m,\u001b[0m \u001b[0;34m**\u001b[0m\u001b[0mk\u001b[0m\u001b[0;34m)\u001b[0m\u001b[0;34m\u001b[0m\u001b[0;34m\u001b[0m\u001b[0m\n\u001b[0m\u001b[1;32m    188\u001b[0m \u001b[0;34m\u001b[0m\u001b[0m\n\u001b[1;32m    189\u001b[0m         \u001b[0;32mif\u001b[0m \u001b[0mcallable\u001b[0m\u001b[0;34m(\u001b[0m\u001b[0marg\u001b[0m\u001b[0;34m)\u001b[0m\u001b[0;34m:\u001b[0m\u001b[0;34m\u001b[0m\u001b[0;34m\u001b[0m\u001b[0m\n",
      "\u001b[0;32m~/.conda/envs/summer_school_microbiome/lib/python3.9/site-packages/IPython/core/magics/script.py\u001b[0m in \u001b[0;36mshebang\u001b[0;34m(self, line, cell)\u001b[0m\n\u001b[1;32m    243\u001b[0m             \u001b[0msys\u001b[0m\u001b[0;34m.\u001b[0m\u001b[0mstderr\u001b[0m\u001b[0;34m.\u001b[0m\u001b[0mflush\u001b[0m\u001b[0;34m(\u001b[0m\u001b[0;34m)\u001b[0m\u001b[0;34m\u001b[0m\u001b[0;34m\u001b[0m\u001b[0m\n\u001b[1;32m    244\u001b[0m         \u001b[0;32mif\u001b[0m \u001b[0margs\u001b[0m\u001b[0;34m.\u001b[0m\u001b[0mraise_error\u001b[0m \u001b[0;32mand\u001b[0m \u001b[0mp\u001b[0m\u001b[0;34m.\u001b[0m\u001b[0mreturncode\u001b[0m\u001b[0;34m!=\u001b[0m\u001b[0;36m0\u001b[0m\u001b[0;34m:\u001b[0m\u001b[0;34m\u001b[0m\u001b[0;34m\u001b[0m\u001b[0m\n\u001b[0;32m--> 245\u001b[0;31m             \u001b[0;32mraise\u001b[0m \u001b[0mCalledProcessError\u001b[0m\u001b[0;34m(\u001b[0m\u001b[0mp\u001b[0m\u001b[0;34m.\u001b[0m\u001b[0mreturncode\u001b[0m\u001b[0;34m,\u001b[0m \u001b[0mcell\u001b[0m\u001b[0;34m,\u001b[0m \u001b[0moutput\u001b[0m\u001b[0;34m=\u001b[0m\u001b[0mout\u001b[0m\u001b[0;34m,\u001b[0m \u001b[0mstderr\u001b[0m\u001b[0;34m=\u001b[0m\u001b[0merr\u001b[0m\u001b[0;34m)\u001b[0m\u001b[0;34m\u001b[0m\u001b[0;34m\u001b[0m\u001b[0m\n\u001b[0m\u001b[1;32m    246\u001b[0m \u001b[0;34m\u001b[0m\u001b[0m\n\u001b[1;32m    247\u001b[0m     \u001b[0;32mdef\u001b[0m \u001b[0m_run_script\u001b[0m\u001b[0;34m(\u001b[0m\u001b[0mself\u001b[0m\u001b[0;34m,\u001b[0m \u001b[0mp\u001b[0m\u001b[0;34m,\u001b[0m \u001b[0mcell\u001b[0m\u001b[0;34m,\u001b[0m \u001b[0mto_close\u001b[0m\u001b[0;34m)\u001b[0m\u001b[0;34m:\u001b[0m\u001b[0;34m\u001b[0m\u001b[0;34m\u001b[0m\u001b[0m\n",
      "\u001b[0;31mCalledProcessError\u001b[0m: Command 'b'metaphlan ../results/adapterremoval/ZSM028.combined.fastq.gz  \\\\\\n    --input_type fastq \\\\\\n    --bowtie2db /home/maxime_borry/.conda/envs/summer_school_microbiome/lib/python3.9/site-packages/metaphlan/metaphlan_databases/  \\\\\\n    --bowtie2out ../results/metaphlan/ZSM028.bt2.out -o ZSM028.metaphlan.out  \\\\\\n    > ../results/metaphlan/ZSM028.metaphlan_profile.txt\\n'' returned non-zero exit status 1."
     ]
    }
   ],
   "source": [
    "%%bash\n",
    "metaphlan ../results/adapterremoval/ZSM028.combined.fastq.gz  \\\n",
    "    --input_type fastq \\\n",
    "    --bowtie2db /home/maxime_borry/.conda/envs/summer_school_microbiome/lib/python3.9/site-packages/metaphlan/metaphlan_databases/  \\\n",
    "    --bowtie2out ../results/metaphlan/ZSM028.bt2.out  \\\n",
    "    > ../results/metaphlan/ZSM028.metaphlan_profile.txt"
   ]
  },
  {
   "cell_type": "markdown",
   "id": "cb9e9dc4-9211-4417-9aed-4ed8eeec314d",
   "metadata": {},
   "source": [
    "The main results files that we're interested in is located at [../results/metaphlan/ZSM028.metaphlan_profile.txt](../results/metaphlan/ZSM028.metaphlan_profile.txt)\n",
    "\n",
    "It's a tab separated file, with taxons in rows, with their relative abundance in the sample"
   ]
  },
  {
   "cell_type": "code",
   "execution_count": 48,
   "id": "ee5146e7-5773-4083-a20a-4bfbc6db38bf",
   "metadata": {},
   "outputs": [
    {
     "name": "stdout",
     "output_type": "stream",
     "text": [
      "#mpa_v30_CHOCOPhlAn_201901\n",
      "#/home/maxime_borry/.conda/envs/summer_school_microbiome/bin/metaphlan ../results/adapterremoval/ZSM028.combined.fastq.gz --input_type fastq --bowtie2db /home/maxime_borry/.conda/envs/summer_school_microbiome/lib/python3.9/site-packages/metaphlan/metaphlan_databases/ --bowtie2out ../results/metaphlan/ZSM028.bt2.out\n",
      "#SampleID\tMetaphlan_Analysis\n",
      "#clade_name\tNCBI_tax_id\trelative_abundance\tadditional_species\n",
      "k__Bacteria\t2\t100.0\t\n",
      "k__Bacteria|p__Firmicutes\t2|1239\t52.11245\t\n",
      "k__Bacteria|p__Bacteroidetes\t2|976\t45.61927\t\n",
      "k__Bacteria|p__Spirochaetes\t2|203691\t2.26828\t\n",
      "k__Bacteria|p__Firmicutes|c__Clostridia\t2|1239|186801\t52.11245\t\n",
      "k__Bacteria|p__Bacteroidetes|c__Bacteroidia\t2|976|200643\t45.61927\t\n"
     ]
    }
   ],
   "source": [
    "! head ../results/metaphlan/ZSM028.metaphlan_profile.txt"
   ]
  },
  {
   "cell_type": "markdown",
   "id": "c6412c5b-166c-4302-b393-7a61a4986bf2",
   "metadata": {},
   "source": [
    "## 4. Visualizing the taxonomic profile \n",
    "### 4.1 Visualizing metaphlan taxonomic profile with Pavian\n",
    "\n",
    "[Pavian](https://github.com/fbreitwieser/pavian) is an interactive app to explore results of different taxonomic classifiers\n",
    "\n",
    "There are different ways to run it:\n",
    "- If you have [docker](https://www.docker.com/) installed (and are somehow familiar with it)\n",
    "\n",
    "```bash\n",
    "docker pull 'florianbw/pavian'\n",
    "docker run --rm -p 5000:80 florianbw/pavian\n",
    "```\n",
    "\n",
    "Then open your browser and visit [localhost:5000](localhost:5000)\n",
    "\n",
    "- If you are familiar with [R](https://www.r-project.org/)\n",
    "\n",
    "```r\n",
    "if (!require(remotes)) { install.packages(\"remotes\") }\n",
    "remotes::install_github(\"fbreitwieser/pavian\")\n",
    "\n",
    "pavian::runApp(port=5000)\n",
    "```\n",
    "\n",
    "Then open your browser and visit [localhost:5000](localhost:5000)\n",
    "\n",
    "- Otherwise, just visit [fbreitwieser.shinyapps.io/pavian](https://fbreitwieser.shinyapps.io/pavian/.)."
   ]
  },
  {
   "cell_type": "markdown",
   "id": "4d091ef7-1dc7-49ae-ab49-21c2d461c7d3",
   "metadata": {},
   "source": [
    "### 4.2 Visualizing metaphlan taxonomic profile with [Krona](https://github.com/marbl/Krona/wiki)"
   ]
  },
  {
   "cell_type": "code",
   "execution_count": 134,
   "id": "d97409e6-2b96-4000-aa44-2aa68c96c02b",
   "metadata": {},
   "outputs": [
    {
     "name": "stdout",
     "output_type": "stream",
     "text": [
      "Writing ../results/krona/ZSM028_krona.html...\n"
     ]
    }
   ],
   "source": [
    "%%bash\n",
    "python ../scripts/metaphlan2krona.py -p ../results/metaphlan/ZSM028.metaphlan_profile.txt -k ../results/krona/ZSM028_krona.out\n",
    "ktImportText -o ../results/krona/ZSM028_krona.html ../results/krona/ZSM028_krona.out"
   ]
  },
  {
   "cell_type": "markdown",
   "id": "5bba0aac-0922-41c6-a7a8-54bb3b87963c",
   "metadata": {},
   "source": [
    "## 5. Getting modern reference data\n",
    "\n",
    "In order to compare our sample with modern reference samples, I used the curatedMetagenomicsData package, which provides both curated metadata, and pre-computed metaphlan taxonomic profiles for published modern human samples. \n",
    "The full R code to get these data is available in [curatedMetagenomics/get_sources.Rmd](./curatedMetagenomics/get_sources.Rmd)\n",
    "\n",
    "I pre-selected 200 gut microbiome samples from non-westernized (100) and westernized (100) from healthy, non-antibiotic users donors.\n",
    "\n",
    "```R\n",
    "library(curatedMetagenomicData)\n",
    "library(tidyverse)\n",
    "\n",
    "sampleMetadata %>% \n",
    "  filter(body_site=='stool' & antibiotics_current_use  == 'no' & disease == 'healthy') %>% \n",
    "  group_by(non_westernized) %>% \n",
    "  sample_n(100) %>% \n",
    "  ungroup() -> selected_samples\n",
    "\n",
    "selected_samples %>% \n",
    "  returnSamples(\"relative_abundance\") -> rel_ab\n",
    "```\n",
    "\n",
    "- The resulting metaphlan taxonomic profiles is available at [../data/curated_metagenomics/modern_sources.csv](../data/curated_metagenomics/modern_sources.csv)\n",
    "- The associated metadata is available at [../data/metadata/curated_metagenomics_modern_sources.csv](../data/metadata/curated_metagenomics_modern_sources.csv)"
   ]
  },
  {
   "cell_type": "markdown",
   "id": "3a8a72f7-6c05-4924-924d-923c482a50a5",
   "metadata": {},
   "source": [
    "## 6. Bringing together ancient and modern data\n",
    "\n",
    "This is the moment where we will the [Pandas](https://pandas.pydata.org) [Python](https://www.python.org/) library to perform some data manipulation\n"
   ]
  },
  {
   "cell_type": "code",
   "execution_count": 4,
   "id": "0d43ff9a-c6d5-49ad-9985-d1917c28c3eb",
   "metadata": {},
   "outputs": [],
   "source": [
    "import pandas as pd"
   ]
  },
  {
   "cell_type": "code",
   "execution_count": 5,
   "id": "55777c47-2b34-4c50-9e2d-ad62f10175c0",
   "metadata": {},
   "outputs": [],
   "source": [
    "ancient_data = pd.read_csv(\"../results/metaphlan/ZSM028.metaphlan_profile.txt\", comment=\"#\", delimiter=\"\\t\", names=['clade_name','NCBI_tax_id','relative_abundance','additional_species'])"
   ]
  },
  {
   "cell_type": "code",
   "execution_count": 6,
   "id": "0719fad7-9848-4421-a5e4-d57d38d19cc7",
   "metadata": {},
   "outputs": [
    {
     "data": {
      "text/html": [
       "<div>\n",
       "<style scoped>\n",
       "    .dataframe tbody tr th:only-of-type {\n",
       "        vertical-align: middle;\n",
       "    }\n",
       "\n",
       "    .dataframe tbody tr th {\n",
       "        vertical-align: top;\n",
       "    }\n",
       "\n",
       "    .dataframe thead th {\n",
       "        text-align: right;\n",
       "    }\n",
       "</style>\n",
       "<table border=\"1\" class=\"dataframe\">\n",
       "  <thead>\n",
       "    <tr style=\"text-align: right;\">\n",
       "      <th></th>\n",
       "      <th>clade_name</th>\n",
       "      <th>NCBI_tax_id</th>\n",
       "      <th>relative_abundance</th>\n",
       "      <th>additional_species</th>\n",
       "    </tr>\n",
       "  </thead>\n",
       "  <tbody>\n",
       "    <tr>\n",
       "      <th>0</th>\n",
       "      <td>k__Bacteria</td>\n",
       "      <td>2</td>\n",
       "      <td>100.00000</td>\n",
       "      <td>NaN</td>\n",
       "    </tr>\n",
       "    <tr>\n",
       "      <th>1</th>\n",
       "      <td>k__Bacteria|p__Firmicutes</td>\n",
       "      <td>2|1239</td>\n",
       "      <td>52.11245</td>\n",
       "      <td>NaN</td>\n",
       "    </tr>\n",
       "    <tr>\n",
       "      <th>2</th>\n",
       "      <td>k__Bacteria|p__Bacteroidetes</td>\n",
       "      <td>2|976</td>\n",
       "      <td>45.61927</td>\n",
       "      <td>NaN</td>\n",
       "    </tr>\n",
       "    <tr>\n",
       "      <th>3</th>\n",
       "      <td>k__Bacteria|p__Spirochaetes</td>\n",
       "      <td>2|203691</td>\n",
       "      <td>2.26828</td>\n",
       "      <td>NaN</td>\n",
       "    </tr>\n",
       "    <tr>\n",
       "      <th>4</th>\n",
       "      <td>k__Bacteria|p__Firmicutes|c__Clostridia</td>\n",
       "      <td>2|1239|186801</td>\n",
       "      <td>52.11245</td>\n",
       "      <td>NaN</td>\n",
       "    </tr>\n",
       "  </tbody>\n",
       "</table>\n",
       "</div>"
      ],
      "text/plain": [
       "                                clade_name    NCBI_tax_id  relative_abundance  \\\n",
       "0                              k__Bacteria              2           100.00000   \n",
       "1                k__Bacteria|p__Firmicutes         2|1239            52.11245   \n",
       "2             k__Bacteria|p__Bacteroidetes          2|976            45.61927   \n",
       "3              k__Bacteria|p__Spirochaetes       2|203691             2.26828   \n",
       "4  k__Bacteria|p__Firmicutes|c__Clostridia  2|1239|186801            52.11245   \n",
       "\n",
       "  additional_species  \n",
       "0                NaN  \n",
       "1                NaN  \n",
       "2                NaN  \n",
       "3                NaN  \n",
       "4                NaN  "
      ]
     },
     "execution_count": 6,
     "metadata": {},
     "output_type": "execute_result"
    }
   ],
   "source": [
    "ancient_data.head()"
   ]
  },
  {
   "cell_type": "markdown",
   "id": "b9057efe-64cb-4e97-a42b-5114b5439582",
   "metadata": {},
   "source": [
    "Because for this analysis, we're only going to look at the relative abundance, we'll only keep this one"
   ]
  },
  {
   "cell_type": "code",
   "execution_count": 7,
   "id": "efa3abdf-a6e0-4d37-a68e-d14ba8e7a040",
   "metadata": {},
   "outputs": [],
   "source": [
    "ancient_data = ancient_data.set_index('clade_name').drop(['NCBI_tax_id','additional_species'], axis=1).rename(columns={'relative_abundance':'ZSM028'})"
   ]
  },
  {
   "cell_type": "code",
   "execution_count": 8,
   "id": "9d4a83ca-affa-4559-a710-7bd41e471ec6",
   "metadata": {},
   "outputs": [
    {
     "data": {
      "text/html": [
       "<div>\n",
       "<style scoped>\n",
       "    .dataframe tbody tr th:only-of-type {\n",
       "        vertical-align: middle;\n",
       "    }\n",
       "\n",
       "    .dataframe tbody tr th {\n",
       "        vertical-align: top;\n",
       "    }\n",
       "\n",
       "    .dataframe thead th {\n",
       "        text-align: right;\n",
       "    }\n",
       "</style>\n",
       "<table border=\"1\" class=\"dataframe\">\n",
       "  <thead>\n",
       "    <tr style=\"text-align: right;\">\n",
       "      <th></th>\n",
       "      <th>ZSM028</th>\n",
       "    </tr>\n",
       "    <tr>\n",
       "      <th>clade_name</th>\n",
       "      <th></th>\n",
       "    </tr>\n",
       "  </thead>\n",
       "  <tbody>\n",
       "    <tr>\n",
       "      <th>k__Bacteria</th>\n",
       "      <td>100.00000</td>\n",
       "    </tr>\n",
       "    <tr>\n",
       "      <th>k__Bacteria|p__Firmicutes</th>\n",
       "      <td>52.11245</td>\n",
       "    </tr>\n",
       "    <tr>\n",
       "      <th>k__Bacteria|p__Bacteroidetes</th>\n",
       "      <td>45.61927</td>\n",
       "    </tr>\n",
       "    <tr>\n",
       "      <th>k__Bacteria|p__Spirochaetes</th>\n",
       "      <td>2.26828</td>\n",
       "    </tr>\n",
       "    <tr>\n",
       "      <th>k__Bacteria|p__Firmicutes|c__Clostridia</th>\n",
       "      <td>52.11245</td>\n",
       "    </tr>\n",
       "  </tbody>\n",
       "</table>\n",
       "</div>"
      ],
      "text/plain": [
       "                                            ZSM028\n",
       "clade_name                                        \n",
       "k__Bacteria                              100.00000\n",
       "k__Bacteria|p__Firmicutes                 52.11245\n",
       "k__Bacteria|p__Bacteroidetes              45.61927\n",
       "k__Bacteria|p__Spirochaetes                2.26828\n",
       "k__Bacteria|p__Firmicutes|c__Clostridia   52.11245"
      ]
     },
     "execution_count": 8,
     "metadata": {},
     "output_type": "execute_result"
    }
   ],
   "source": [
    "ancient_data.head()"
   ]
  },
  {
   "cell_type": "code",
   "execution_count": 9,
   "id": "43a16734-746a-4b2c-8abe-28c270f42add",
   "metadata": {},
   "outputs": [],
   "source": [
    "modern_data = pd.read_csv(\"../data/curated_metagenomics/modern_sources.csv\", index_col=0)"
   ]
  },
  {
   "cell_type": "code",
   "execution_count": 10,
   "id": "7f192ab3-7c9b-485b-9e14-202b4efde9a9",
   "metadata": {},
   "outputs": [
    {
     "data": {
      "text/html": [
       "<div>\n",
       "<style scoped>\n",
       "    .dataframe tbody tr th:only-of-type {\n",
       "        vertical-align: middle;\n",
       "    }\n",
       "\n",
       "    .dataframe tbody tr th {\n",
       "        vertical-align: top;\n",
       "    }\n",
       "\n",
       "    .dataframe thead th {\n",
       "        text-align: right;\n",
       "    }\n",
       "</style>\n",
       "<table border=\"1\" class=\"dataframe\">\n",
       "  <thead>\n",
       "    <tr style=\"text-align: right;\">\n",
       "      <th></th>\n",
       "      <th>de028ad4-7ae6-11e9-a106-68b59976a384</th>\n",
       "      <th>PNP_Main_283</th>\n",
       "      <th>PNP_Validation_55</th>\n",
       "      <th>G80275</th>\n",
       "      <th>PNP_Main_363</th>\n",
       "      <th>SAMEA7045572</th>\n",
       "      <th>SAMEA7045355</th>\n",
       "      <th>HD-13</th>\n",
       "      <th>EGAR00001420773_9002000001423910</th>\n",
       "      <th>SID5428-4</th>\n",
       "      <th>...</th>\n",
       "      <th>A46_02_1FE</th>\n",
       "      <th>TZ_87532</th>\n",
       "      <th>A94_01_1FE</th>\n",
       "      <th>KHG_7</th>\n",
       "      <th>LDK_4</th>\n",
       "      <th>KHG_9</th>\n",
       "      <th>A48_01_1FE</th>\n",
       "      <th>KHG_1</th>\n",
       "      <th>TZ_81781</th>\n",
       "      <th>A09_01_1FE</th>\n",
       "    </tr>\n",
       "  </thead>\n",
       "  <tbody>\n",
       "    <tr>\n",
       "      <th>k__Bacteria|p__Bacteroidetes|c__Bacteroidia|o__Bacteroidales|f__Bacteroidaceae|g__Bacteroides|s__Bacteroides_vulgatus</th>\n",
       "      <td>0.0</td>\n",
       "      <td>0.60446</td>\n",
       "      <td>1.59911</td>\n",
       "      <td>4.39085</td>\n",
       "      <td>0.04494</td>\n",
       "      <td>4.66505</td>\n",
       "      <td>2.99431</td>\n",
       "      <td>29.30325</td>\n",
       "      <td>1.48560</td>\n",
       "      <td>0.98818</td>\n",
       "      <td>...</td>\n",
       "      <td>0.20717</td>\n",
       "      <td>0.0</td>\n",
       "      <td>0.00309</td>\n",
       "      <td>0.48891</td>\n",
       "      <td>0.00000</td>\n",
       "      <td>0.02230</td>\n",
       "      <td>0.00000</td>\n",
       "      <td>0.15112</td>\n",
       "      <td>0.0</td>\n",
       "      <td>0.00836</td>\n",
       "    </tr>\n",
       "    <tr>\n",
       "      <th>k__Bacteria|p__Bacteroidetes|c__Bacteroidia|o__Bacteroidales|f__Bacteroidaceae|g__Bacteroides|s__Bacteroides_stercoris</th>\n",
       "      <td>0.0</td>\n",
       "      <td>0.00546</td>\n",
       "      <td>0.00000</td>\n",
       "      <td>0.00000</td>\n",
       "      <td>2.50789</td>\n",
       "      <td>0.00000</td>\n",
       "      <td>20.57498</td>\n",
       "      <td>8.28443</td>\n",
       "      <td>1.23261</td>\n",
       "      <td>0.00000</td>\n",
       "      <td>...</td>\n",
       "      <td>0.00000</td>\n",
       "      <td>0.0</td>\n",
       "      <td>0.00000</td>\n",
       "      <td>0.00693</td>\n",
       "      <td>0.00000</td>\n",
       "      <td>0.02603</td>\n",
       "      <td>0.00000</td>\n",
       "      <td>0.19318</td>\n",
       "      <td>0.0</td>\n",
       "      <td>0.00000</td>\n",
       "    </tr>\n",
       "    <tr>\n",
       "      <th>k__Bacteria|p__Firmicutes|c__Negativicutes|o__Acidaminococcales|f__Acidaminococcaceae|g__Acidaminococcus|s__Acidaminococcus_intestini</th>\n",
       "      <td>0.0</td>\n",
       "      <td>0.00000</td>\n",
       "      <td>0.00000</td>\n",
       "      <td>0.00000</td>\n",
       "      <td>0.00000</td>\n",
       "      <td>0.00000</td>\n",
       "      <td>0.00000</td>\n",
       "      <td>0.00000</td>\n",
       "      <td>0.32822</td>\n",
       "      <td>0.00000</td>\n",
       "      <td>...</td>\n",
       "      <td>0.00000</td>\n",
       "      <td>0.0</td>\n",
       "      <td>0.00000</td>\n",
       "      <td>0.00000</td>\n",
       "      <td>0.00000</td>\n",
       "      <td>0.00000</td>\n",
       "      <td>0.00000</td>\n",
       "      <td>0.00000</td>\n",
       "      <td>0.0</td>\n",
       "      <td>0.00000</td>\n",
       "    </tr>\n",
       "    <tr>\n",
       "      <th>k__Bacteria|p__Firmicutes|c__Clostridia|o__Clostridiales|f__Eubacteriaceae|g__Eubacterium|s__Eubacterium_sp_CAG_38</th>\n",
       "      <td>0.0</td>\n",
       "      <td>0.06712</td>\n",
       "      <td>0.81149</td>\n",
       "      <td>0.05247</td>\n",
       "      <td>0.26027</td>\n",
       "      <td>0.00000</td>\n",
       "      <td>0.00000</td>\n",
       "      <td>2.62415</td>\n",
       "      <td>0.46585</td>\n",
       "      <td>0.23372</td>\n",
       "      <td>...</td>\n",
       "      <td>0.78140</td>\n",
       "      <td>0.0</td>\n",
       "      <td>0.00000</td>\n",
       "      <td>0.00499</td>\n",
       "      <td>0.00000</td>\n",
       "      <td>0.02446</td>\n",
       "      <td>0.00000</td>\n",
       "      <td>0.00000</td>\n",
       "      <td>0.0</td>\n",
       "      <td>0.00000</td>\n",
       "    </tr>\n",
       "    <tr>\n",
       "      <th>k__Bacteria|p__Bacteroidetes|c__Bacteroidia|o__Bacteroidales|f__Tannerellaceae|g__Parabacteroides|s__Parabacteroides_distasonis</th>\n",
       "      <td>0.0</td>\n",
       "      <td>1.34931</td>\n",
       "      <td>2.00672</td>\n",
       "      <td>5.85067</td>\n",
       "      <td>0.59019</td>\n",
       "      <td>7.00027</td>\n",
       "      <td>1.28075</td>\n",
       "      <td>0.61758</td>\n",
       "      <td>0.07383</td>\n",
       "      <td>2.80355</td>\n",
       "      <td>...</td>\n",
       "      <td>0.11423</td>\n",
       "      <td>0.0</td>\n",
       "      <td>0.01181</td>\n",
       "      <td>0.01386</td>\n",
       "      <td>0.03111</td>\n",
       "      <td>0.07463</td>\n",
       "      <td>0.15597</td>\n",
       "      <td>0.07541</td>\n",
       "      <td>0.0</td>\n",
       "      <td>0.01932</td>\n",
       "    </tr>\n",
       "    <tr>\n",
       "      <th>...</th>\n",
       "      <td>...</td>\n",
       "      <td>...</td>\n",
       "      <td>...</td>\n",
       "      <td>...</td>\n",
       "      <td>...</td>\n",
       "      <td>...</td>\n",
       "      <td>...</td>\n",
       "      <td>...</td>\n",
       "      <td>...</td>\n",
       "      <td>...</td>\n",
       "      <td>...</td>\n",
       "      <td>...</td>\n",
       "      <td>...</td>\n",
       "      <td>...</td>\n",
       "      <td>...</td>\n",
       "      <td>...</td>\n",
       "      <td>...</td>\n",
       "      <td>...</td>\n",
       "      <td>...</td>\n",
       "      <td>...</td>\n",
       "      <td>...</td>\n",
       "    </tr>\n",
       "    <tr>\n",
       "      <th>k__Bacteria|p__Proteobacteria|c__Epsilonproteobacteria|o__Campylobacterales|f__Helicobacteraceae|g__Helicobacter|s__Helicobacter_winghamensis</th>\n",
       "      <td>0.0</td>\n",
       "      <td>0.00000</td>\n",
       "      <td>0.00000</td>\n",
       "      <td>0.00000</td>\n",
       "      <td>0.00000</td>\n",
       "      <td>0.00000</td>\n",
       "      <td>0.00000</td>\n",
       "      <td>0.00000</td>\n",
       "      <td>0.00000</td>\n",
       "      <td>0.00000</td>\n",
       "      <td>...</td>\n",
       "      <td>0.00000</td>\n",
       "      <td>0.0</td>\n",
       "      <td>0.00000</td>\n",
       "      <td>0.00000</td>\n",
       "      <td>0.00000</td>\n",
       "      <td>0.00000</td>\n",
       "      <td>0.00000</td>\n",
       "      <td>0.00000</td>\n",
       "      <td>0.0</td>\n",
       "      <td>0.00000</td>\n",
       "    </tr>\n",
       "    <tr>\n",
       "      <th>k__Bacteria|p__Proteobacteria|c__Gammaproteobacteria|o__Enterobacterales|f__Enterobacteriaceae|g__Enterobacter|s__Enterobacter_sp_RIT_418</th>\n",
       "      <td>0.0</td>\n",
       "      <td>0.00000</td>\n",
       "      <td>0.00000</td>\n",
       "      <td>0.00000</td>\n",
       "      <td>0.00000</td>\n",
       "      <td>0.00000</td>\n",
       "      <td>0.00000</td>\n",
       "      <td>0.00000</td>\n",
       "      <td>0.00000</td>\n",
       "      <td>0.00000</td>\n",
       "      <td>...</td>\n",
       "      <td>0.00000</td>\n",
       "      <td>0.0</td>\n",
       "      <td>0.00000</td>\n",
       "      <td>0.00000</td>\n",
       "      <td>0.00000</td>\n",
       "      <td>0.00000</td>\n",
       "      <td>0.00000</td>\n",
       "      <td>0.00000</td>\n",
       "      <td>0.0</td>\n",
       "      <td>0.00000</td>\n",
       "    </tr>\n",
       "    <tr>\n",
       "      <th>k__Bacteria|p__Proteobacteria|c__Gammaproteobacteria|o__Enterobacterales|f__Enterobacteriaceae|g__Cronobacter|s__Cronobacter_turicensis</th>\n",
       "      <td>0.0</td>\n",
       "      <td>0.00000</td>\n",
       "      <td>0.00000</td>\n",
       "      <td>0.00000</td>\n",
       "      <td>0.00000</td>\n",
       "      <td>0.00000</td>\n",
       "      <td>0.00000</td>\n",
       "      <td>0.00000</td>\n",
       "      <td>0.00000</td>\n",
       "      <td>0.00000</td>\n",
       "      <td>...</td>\n",
       "      <td>0.00000</td>\n",
       "      <td>0.0</td>\n",
       "      <td>0.00000</td>\n",
       "      <td>0.00000</td>\n",
       "      <td>0.00000</td>\n",
       "      <td>0.00000</td>\n",
       "      <td>0.00000</td>\n",
       "      <td>0.00000</td>\n",
       "      <td>0.0</td>\n",
       "      <td>0.00000</td>\n",
       "    </tr>\n",
       "    <tr>\n",
       "      <th>k__Bacteria|p__Firmicutes|c__Tissierellia|o__Tissierellales|f__Peptoniphilaceae|g__Peptoniphilus|s__Peptoniphilus_asaccharolyticus</th>\n",
       "      <td>0.0</td>\n",
       "      <td>0.00000</td>\n",
       "      <td>0.00000</td>\n",
       "      <td>0.00000</td>\n",
       "      <td>0.00000</td>\n",
       "      <td>0.00000</td>\n",
       "      <td>0.00000</td>\n",
       "      <td>0.00000</td>\n",
       "      <td>0.00000</td>\n",
       "      <td>0.00000</td>\n",
       "      <td>...</td>\n",
       "      <td>0.00000</td>\n",
       "      <td>0.0</td>\n",
       "      <td>0.00000</td>\n",
       "      <td>0.00000</td>\n",
       "      <td>0.00000</td>\n",
       "      <td>0.00000</td>\n",
       "      <td>0.00000</td>\n",
       "      <td>0.00000</td>\n",
       "      <td>0.0</td>\n",
       "      <td>0.00000</td>\n",
       "    </tr>\n",
       "    <tr>\n",
       "      <th>k__Bacteria|p__Proteobacteria|c__Gammaproteobacteria|o__Enterobacterales|f__Yersiniaceae|g__Serratia|s__Serratia_ureilytica</th>\n",
       "      <td>0.0</td>\n",
       "      <td>0.00000</td>\n",
       "      <td>0.00000</td>\n",
       "      <td>0.00000</td>\n",
       "      <td>0.00000</td>\n",
       "      <td>0.00000</td>\n",
       "      <td>0.00000</td>\n",
       "      <td>0.00000</td>\n",
       "      <td>0.00000</td>\n",
       "      <td>0.00000</td>\n",
       "      <td>...</td>\n",
       "      <td>0.00000</td>\n",
       "      <td>0.0</td>\n",
       "      <td>0.00000</td>\n",
       "      <td>0.00000</td>\n",
       "      <td>0.00000</td>\n",
       "      <td>0.00000</td>\n",
       "      <td>0.00000</td>\n",
       "      <td>0.00000</td>\n",
       "      <td>0.0</td>\n",
       "      <td>0.00000</td>\n",
       "    </tr>\n",
       "  </tbody>\n",
       "</table>\n",
       "<p>1241 rows × 200 columns</p>\n",
       "</div>"
      ],
      "text/plain": [
       "                                                    de028ad4-7ae6-11e9-a106-68b59976a384  \\\n",
       "k__Bacteria|p__Bacteroidetes|c__Bacteroidia|o__...                                   0.0   \n",
       "k__Bacteria|p__Bacteroidetes|c__Bacteroidia|o__...                                   0.0   \n",
       "k__Bacteria|p__Firmicutes|c__Negativicutes|o__A...                                   0.0   \n",
       "k__Bacteria|p__Firmicutes|c__Clostridia|o__Clos...                                   0.0   \n",
       "k__Bacteria|p__Bacteroidetes|c__Bacteroidia|o__...                                   0.0   \n",
       "...                                                                                  ...   \n",
       "k__Bacteria|p__Proteobacteria|c__Epsilonproteob...                                   0.0   \n",
       "k__Bacteria|p__Proteobacteria|c__Gammaproteobac...                                   0.0   \n",
       "k__Bacteria|p__Proteobacteria|c__Gammaproteobac...                                   0.0   \n",
       "k__Bacteria|p__Firmicutes|c__Tissierellia|o__Ti...                                   0.0   \n",
       "k__Bacteria|p__Proteobacteria|c__Gammaproteobac...                                   0.0   \n",
       "\n",
       "                                                    PNP_Main_283  \\\n",
       "k__Bacteria|p__Bacteroidetes|c__Bacteroidia|o__...       0.60446   \n",
       "k__Bacteria|p__Bacteroidetes|c__Bacteroidia|o__...       0.00546   \n",
       "k__Bacteria|p__Firmicutes|c__Negativicutes|o__A...       0.00000   \n",
       "k__Bacteria|p__Firmicutes|c__Clostridia|o__Clos...       0.06712   \n",
       "k__Bacteria|p__Bacteroidetes|c__Bacteroidia|o__...       1.34931   \n",
       "...                                                          ...   \n",
       "k__Bacteria|p__Proteobacteria|c__Epsilonproteob...       0.00000   \n",
       "k__Bacteria|p__Proteobacteria|c__Gammaproteobac...       0.00000   \n",
       "k__Bacteria|p__Proteobacteria|c__Gammaproteobac...       0.00000   \n",
       "k__Bacteria|p__Firmicutes|c__Tissierellia|o__Ti...       0.00000   \n",
       "k__Bacteria|p__Proteobacteria|c__Gammaproteobac...       0.00000   \n",
       "\n",
       "                                                    PNP_Validation_55  \\\n",
       "k__Bacteria|p__Bacteroidetes|c__Bacteroidia|o__...            1.59911   \n",
       "k__Bacteria|p__Bacteroidetes|c__Bacteroidia|o__...            0.00000   \n",
       "k__Bacteria|p__Firmicutes|c__Negativicutes|o__A...            0.00000   \n",
       "k__Bacteria|p__Firmicutes|c__Clostridia|o__Clos...            0.81149   \n",
       "k__Bacteria|p__Bacteroidetes|c__Bacteroidia|o__...            2.00672   \n",
       "...                                                               ...   \n",
       "k__Bacteria|p__Proteobacteria|c__Epsilonproteob...            0.00000   \n",
       "k__Bacteria|p__Proteobacteria|c__Gammaproteobac...            0.00000   \n",
       "k__Bacteria|p__Proteobacteria|c__Gammaproteobac...            0.00000   \n",
       "k__Bacteria|p__Firmicutes|c__Tissierellia|o__Ti...            0.00000   \n",
       "k__Bacteria|p__Proteobacteria|c__Gammaproteobac...            0.00000   \n",
       "\n",
       "                                                     G80275  PNP_Main_363  \\\n",
       "k__Bacteria|p__Bacteroidetes|c__Bacteroidia|o__...  4.39085       0.04494   \n",
       "k__Bacteria|p__Bacteroidetes|c__Bacteroidia|o__...  0.00000       2.50789   \n",
       "k__Bacteria|p__Firmicutes|c__Negativicutes|o__A...  0.00000       0.00000   \n",
       "k__Bacteria|p__Firmicutes|c__Clostridia|o__Clos...  0.05247       0.26027   \n",
       "k__Bacteria|p__Bacteroidetes|c__Bacteroidia|o__...  5.85067       0.59019   \n",
       "...                                                     ...           ...   \n",
       "k__Bacteria|p__Proteobacteria|c__Epsilonproteob...  0.00000       0.00000   \n",
       "k__Bacteria|p__Proteobacteria|c__Gammaproteobac...  0.00000       0.00000   \n",
       "k__Bacteria|p__Proteobacteria|c__Gammaproteobac...  0.00000       0.00000   \n",
       "k__Bacteria|p__Firmicutes|c__Tissierellia|o__Ti...  0.00000       0.00000   \n",
       "k__Bacteria|p__Proteobacteria|c__Gammaproteobac...  0.00000       0.00000   \n",
       "\n",
       "                                                    SAMEA7045572  \\\n",
       "k__Bacteria|p__Bacteroidetes|c__Bacteroidia|o__...       4.66505   \n",
       "k__Bacteria|p__Bacteroidetes|c__Bacteroidia|o__...       0.00000   \n",
       "k__Bacteria|p__Firmicutes|c__Negativicutes|o__A...       0.00000   \n",
       "k__Bacteria|p__Firmicutes|c__Clostridia|o__Clos...       0.00000   \n",
       "k__Bacteria|p__Bacteroidetes|c__Bacteroidia|o__...       7.00027   \n",
       "...                                                          ...   \n",
       "k__Bacteria|p__Proteobacteria|c__Epsilonproteob...       0.00000   \n",
       "k__Bacteria|p__Proteobacteria|c__Gammaproteobac...       0.00000   \n",
       "k__Bacteria|p__Proteobacteria|c__Gammaproteobac...       0.00000   \n",
       "k__Bacteria|p__Firmicutes|c__Tissierellia|o__Ti...       0.00000   \n",
       "k__Bacteria|p__Proteobacteria|c__Gammaproteobac...       0.00000   \n",
       "\n",
       "                                                    SAMEA7045355     HD-13  \\\n",
       "k__Bacteria|p__Bacteroidetes|c__Bacteroidia|o__...       2.99431  29.30325   \n",
       "k__Bacteria|p__Bacteroidetes|c__Bacteroidia|o__...      20.57498   8.28443   \n",
       "k__Bacteria|p__Firmicutes|c__Negativicutes|o__A...       0.00000   0.00000   \n",
       "k__Bacteria|p__Firmicutes|c__Clostridia|o__Clos...       0.00000   2.62415   \n",
       "k__Bacteria|p__Bacteroidetes|c__Bacteroidia|o__...       1.28075   0.61758   \n",
       "...                                                          ...       ...   \n",
       "k__Bacteria|p__Proteobacteria|c__Epsilonproteob...       0.00000   0.00000   \n",
       "k__Bacteria|p__Proteobacteria|c__Gammaproteobac...       0.00000   0.00000   \n",
       "k__Bacteria|p__Proteobacteria|c__Gammaproteobac...       0.00000   0.00000   \n",
       "k__Bacteria|p__Firmicutes|c__Tissierellia|o__Ti...       0.00000   0.00000   \n",
       "k__Bacteria|p__Proteobacteria|c__Gammaproteobac...       0.00000   0.00000   \n",
       "\n",
       "                                                    EGAR00001420773_9002000001423910  \\\n",
       "k__Bacteria|p__Bacteroidetes|c__Bacteroidia|o__...                           1.48560   \n",
       "k__Bacteria|p__Bacteroidetes|c__Bacteroidia|o__...                           1.23261   \n",
       "k__Bacteria|p__Firmicutes|c__Negativicutes|o__A...                           0.32822   \n",
       "k__Bacteria|p__Firmicutes|c__Clostridia|o__Clos...                           0.46585   \n",
       "k__Bacteria|p__Bacteroidetes|c__Bacteroidia|o__...                           0.07383   \n",
       "...                                                                              ...   \n",
       "k__Bacteria|p__Proteobacteria|c__Epsilonproteob...                           0.00000   \n",
       "k__Bacteria|p__Proteobacteria|c__Gammaproteobac...                           0.00000   \n",
       "k__Bacteria|p__Proteobacteria|c__Gammaproteobac...                           0.00000   \n",
       "k__Bacteria|p__Firmicutes|c__Tissierellia|o__Ti...                           0.00000   \n",
       "k__Bacteria|p__Proteobacteria|c__Gammaproteobac...                           0.00000   \n",
       "\n",
       "                                                    SID5428-4  ...  \\\n",
       "k__Bacteria|p__Bacteroidetes|c__Bacteroidia|o__...    0.98818  ...   \n",
       "k__Bacteria|p__Bacteroidetes|c__Bacteroidia|o__...    0.00000  ...   \n",
       "k__Bacteria|p__Firmicutes|c__Negativicutes|o__A...    0.00000  ...   \n",
       "k__Bacteria|p__Firmicutes|c__Clostridia|o__Clos...    0.23372  ...   \n",
       "k__Bacteria|p__Bacteroidetes|c__Bacteroidia|o__...    2.80355  ...   \n",
       "...                                                       ...  ...   \n",
       "k__Bacteria|p__Proteobacteria|c__Epsilonproteob...    0.00000  ...   \n",
       "k__Bacteria|p__Proteobacteria|c__Gammaproteobac...    0.00000  ...   \n",
       "k__Bacteria|p__Proteobacteria|c__Gammaproteobac...    0.00000  ...   \n",
       "k__Bacteria|p__Firmicutes|c__Tissierellia|o__Ti...    0.00000  ...   \n",
       "k__Bacteria|p__Proteobacteria|c__Gammaproteobac...    0.00000  ...   \n",
       "\n",
       "                                                    A46_02_1FE  TZ_87532  \\\n",
       "k__Bacteria|p__Bacteroidetes|c__Bacteroidia|o__...     0.20717       0.0   \n",
       "k__Bacteria|p__Bacteroidetes|c__Bacteroidia|o__...     0.00000       0.0   \n",
       "k__Bacteria|p__Firmicutes|c__Negativicutes|o__A...     0.00000       0.0   \n",
       "k__Bacteria|p__Firmicutes|c__Clostridia|o__Clos...     0.78140       0.0   \n",
       "k__Bacteria|p__Bacteroidetes|c__Bacteroidia|o__...     0.11423       0.0   \n",
       "...                                                        ...       ...   \n",
       "k__Bacteria|p__Proteobacteria|c__Epsilonproteob...     0.00000       0.0   \n",
       "k__Bacteria|p__Proteobacteria|c__Gammaproteobac...     0.00000       0.0   \n",
       "k__Bacteria|p__Proteobacteria|c__Gammaproteobac...     0.00000       0.0   \n",
       "k__Bacteria|p__Firmicutes|c__Tissierellia|o__Ti...     0.00000       0.0   \n",
       "k__Bacteria|p__Proteobacteria|c__Gammaproteobac...     0.00000       0.0   \n",
       "\n",
       "                                                    A94_01_1FE    KHG_7  \\\n",
       "k__Bacteria|p__Bacteroidetes|c__Bacteroidia|o__...     0.00309  0.48891   \n",
       "k__Bacteria|p__Bacteroidetes|c__Bacteroidia|o__...     0.00000  0.00693   \n",
       "k__Bacteria|p__Firmicutes|c__Negativicutes|o__A...     0.00000  0.00000   \n",
       "k__Bacteria|p__Firmicutes|c__Clostridia|o__Clos...     0.00000  0.00499   \n",
       "k__Bacteria|p__Bacteroidetes|c__Bacteroidia|o__...     0.01181  0.01386   \n",
       "...                                                        ...      ...   \n",
       "k__Bacteria|p__Proteobacteria|c__Epsilonproteob...     0.00000  0.00000   \n",
       "k__Bacteria|p__Proteobacteria|c__Gammaproteobac...     0.00000  0.00000   \n",
       "k__Bacteria|p__Proteobacteria|c__Gammaproteobac...     0.00000  0.00000   \n",
       "k__Bacteria|p__Firmicutes|c__Tissierellia|o__Ti...     0.00000  0.00000   \n",
       "k__Bacteria|p__Proteobacteria|c__Gammaproteobac...     0.00000  0.00000   \n",
       "\n",
       "                                                      LDK_4    KHG_9  \\\n",
       "k__Bacteria|p__Bacteroidetes|c__Bacteroidia|o__...  0.00000  0.02230   \n",
       "k__Bacteria|p__Bacteroidetes|c__Bacteroidia|o__...  0.00000  0.02603   \n",
       "k__Bacteria|p__Firmicutes|c__Negativicutes|o__A...  0.00000  0.00000   \n",
       "k__Bacteria|p__Firmicutes|c__Clostridia|o__Clos...  0.00000  0.02446   \n",
       "k__Bacteria|p__Bacteroidetes|c__Bacteroidia|o__...  0.03111  0.07463   \n",
       "...                                                     ...      ...   \n",
       "k__Bacteria|p__Proteobacteria|c__Epsilonproteob...  0.00000  0.00000   \n",
       "k__Bacteria|p__Proteobacteria|c__Gammaproteobac...  0.00000  0.00000   \n",
       "k__Bacteria|p__Proteobacteria|c__Gammaproteobac...  0.00000  0.00000   \n",
       "k__Bacteria|p__Firmicutes|c__Tissierellia|o__Ti...  0.00000  0.00000   \n",
       "k__Bacteria|p__Proteobacteria|c__Gammaproteobac...  0.00000  0.00000   \n",
       "\n",
       "                                                    A48_01_1FE    KHG_1  \\\n",
       "k__Bacteria|p__Bacteroidetes|c__Bacteroidia|o__...     0.00000  0.15112   \n",
       "k__Bacteria|p__Bacteroidetes|c__Bacteroidia|o__...     0.00000  0.19318   \n",
       "k__Bacteria|p__Firmicutes|c__Negativicutes|o__A...     0.00000  0.00000   \n",
       "k__Bacteria|p__Firmicutes|c__Clostridia|o__Clos...     0.00000  0.00000   \n",
       "k__Bacteria|p__Bacteroidetes|c__Bacteroidia|o__...     0.15597  0.07541   \n",
       "...                                                        ...      ...   \n",
       "k__Bacteria|p__Proteobacteria|c__Epsilonproteob...     0.00000  0.00000   \n",
       "k__Bacteria|p__Proteobacteria|c__Gammaproteobac...     0.00000  0.00000   \n",
       "k__Bacteria|p__Proteobacteria|c__Gammaproteobac...     0.00000  0.00000   \n",
       "k__Bacteria|p__Firmicutes|c__Tissierellia|o__Ti...     0.00000  0.00000   \n",
       "k__Bacteria|p__Proteobacteria|c__Gammaproteobac...     0.00000  0.00000   \n",
       "\n",
       "                                                    TZ_81781  A09_01_1FE  \n",
       "k__Bacteria|p__Bacteroidetes|c__Bacteroidia|o__...       0.0     0.00836  \n",
       "k__Bacteria|p__Bacteroidetes|c__Bacteroidia|o__...       0.0     0.00000  \n",
       "k__Bacteria|p__Firmicutes|c__Negativicutes|o__A...       0.0     0.00000  \n",
       "k__Bacteria|p__Firmicutes|c__Clostridia|o__Clos...       0.0     0.00000  \n",
       "k__Bacteria|p__Bacteroidetes|c__Bacteroidia|o__...       0.0     0.01932  \n",
       "...                                                      ...         ...  \n",
       "k__Bacteria|p__Proteobacteria|c__Epsilonproteob...       0.0     0.00000  \n",
       "k__Bacteria|p__Proteobacteria|c__Gammaproteobac...       0.0     0.00000  \n",
       "k__Bacteria|p__Proteobacteria|c__Gammaproteobac...       0.0     0.00000  \n",
       "k__Bacteria|p__Firmicutes|c__Tissierellia|o__Ti...       0.0     0.00000  \n",
       "k__Bacteria|p__Proteobacteria|c__Gammaproteobac...       0.0     0.00000  \n",
       "\n",
       "[1241 rows x 200 columns]"
      ]
     },
     "execution_count": 10,
     "metadata": {},
     "output_type": "execute_result"
    }
   ],
   "source": [
    "modern_data"
   ]
  },
  {
   "cell_type": "markdown",
   "id": "2f965f34-f8e7-4792-8e97-db20559451ff",
   "metadata": {},
   "source": [
    "Now, let's merge our ancient sample with the modern data in the same table, and keep only the species level"
   ]
  },
  {
   "cell_type": "code",
   "execution_count": 56,
   "id": "7d240ea0-5a90-4c22-af7a-3e82c1e89edf",
   "metadata": {},
   "outputs": [],
   "source": [
    "all_data = ancient_data.merge(modern_data, left_index=True, right_index=True, how='outer').fillna(0).query('index.str.contains(\"s__\")')"
   ]
  },
  {
   "cell_type": "markdown",
   "id": "0892ba38-3629-4201-96d0-f8d74063a560",
   "metadata": {},
   "source": [
    "Finally, let's load the metadata"
   ]
  },
  {
   "cell_type": "code",
   "execution_count": 57,
   "id": "0b512d19-c42d-4b05-8654-15be04598b9a",
   "metadata": {},
   "outputs": [],
   "source": [
    "metadata = pd.read_csv(\"../data/metadata/curated_metagenomics_modern_sources.csv\")"
   ]
  },
  {
   "cell_type": "code",
   "execution_count": 58,
   "id": "d7e48e25-f782-4ed3-8954-45fd22df0015",
   "metadata": {},
   "outputs": [
    {
     "data": {
      "text/html": [
       "<div>\n",
       "<style scoped>\n",
       "    .dataframe tbody tr th:only-of-type {\n",
       "        vertical-align: middle;\n",
       "    }\n",
       "\n",
       "    .dataframe tbody tr th {\n",
       "        vertical-align: top;\n",
       "    }\n",
       "\n",
       "    .dataframe thead th {\n",
       "        text-align: right;\n",
       "    }\n",
       "</style>\n",
       "<table border=\"1\" class=\"dataframe\">\n",
       "  <thead>\n",
       "    <tr style=\"text-align: right;\">\n",
       "      <th></th>\n",
       "      <th>study_name</th>\n",
       "      <th>sample_id</th>\n",
       "      <th>subject_id</th>\n",
       "      <th>body_site</th>\n",
       "      <th>antibiotics_current_use</th>\n",
       "      <th>study_condition</th>\n",
       "      <th>disease</th>\n",
       "      <th>age</th>\n",
       "      <th>infant_age</th>\n",
       "      <th>age_category</th>\n",
       "      <th>...</th>\n",
       "      <th>hla_drb11</th>\n",
       "      <th>birth_order</th>\n",
       "      <th>age_twins_started_to_live_apart</th>\n",
       "      <th>zigosity</th>\n",
       "      <th>brinkman_index</th>\n",
       "      <th>alcohol_numeric</th>\n",
       "      <th>breastfeeding_duration</th>\n",
       "      <th>formula_first_day</th>\n",
       "      <th>ALT</th>\n",
       "      <th>eGFR</th>\n",
       "    </tr>\n",
       "  </thead>\n",
       "  <tbody>\n",
       "    <tr>\n",
       "      <th>0</th>\n",
       "      <td>ShaoY_2019</td>\n",
       "      <td>de028ad4-7ae6-11e9-a106-68b59976a384</td>\n",
       "      <td>C01528_ba</td>\n",
       "      <td>stool</td>\n",
       "      <td>no</td>\n",
       "      <td>control</td>\n",
       "      <td>healthy</td>\n",
       "      <td>0.0</td>\n",
       "      <td>4.0</td>\n",
       "      <td>newborn</td>\n",
       "      <td>...</td>\n",
       "      <td>NaN</td>\n",
       "      <td>NaN</td>\n",
       "      <td>NaN</td>\n",
       "      <td>NaN</td>\n",
       "      <td>NaN</td>\n",
       "      <td>NaN</td>\n",
       "      <td>NaN</td>\n",
       "      <td>NaN</td>\n",
       "      <td>NaN</td>\n",
       "      <td>NaN</td>\n",
       "    </tr>\n",
       "    <tr>\n",
       "      <th>1</th>\n",
       "      <td>ZeeviD_2015</td>\n",
       "      <td>PNP_Main_283</td>\n",
       "      <td>PNP_Main_283</td>\n",
       "      <td>stool</td>\n",
       "      <td>no</td>\n",
       "      <td>control</td>\n",
       "      <td>healthy</td>\n",
       "      <td>NaN</td>\n",
       "      <td>NaN</td>\n",
       "      <td>adult</td>\n",
       "      <td>...</td>\n",
       "      <td>NaN</td>\n",
       "      <td>NaN</td>\n",
       "      <td>NaN</td>\n",
       "      <td>NaN</td>\n",
       "      <td>NaN</td>\n",
       "      <td>NaN</td>\n",
       "      <td>NaN</td>\n",
       "      <td>NaN</td>\n",
       "      <td>NaN</td>\n",
       "      <td>NaN</td>\n",
       "    </tr>\n",
       "    <tr>\n",
       "      <th>2</th>\n",
       "      <td>ZeeviD_2015</td>\n",
       "      <td>PNP_Validation_55</td>\n",
       "      <td>PNP_Validation_55</td>\n",
       "      <td>stool</td>\n",
       "      <td>no</td>\n",
       "      <td>control</td>\n",
       "      <td>healthy</td>\n",
       "      <td>NaN</td>\n",
       "      <td>NaN</td>\n",
       "      <td>adult</td>\n",
       "      <td>...</td>\n",
       "      <td>NaN</td>\n",
       "      <td>NaN</td>\n",
       "      <td>NaN</td>\n",
       "      <td>NaN</td>\n",
       "      <td>NaN</td>\n",
       "      <td>NaN</td>\n",
       "      <td>NaN</td>\n",
       "      <td>NaN</td>\n",
       "      <td>NaN</td>\n",
       "      <td>NaN</td>\n",
       "    </tr>\n",
       "    <tr>\n",
       "      <th>3</th>\n",
       "      <td>VatanenT_2016</td>\n",
       "      <td>G80275</td>\n",
       "      <td>T014806</td>\n",
       "      <td>stool</td>\n",
       "      <td>no</td>\n",
       "      <td>control</td>\n",
       "      <td>healthy</td>\n",
       "      <td>1.0</td>\n",
       "      <td>NaN</td>\n",
       "      <td>child</td>\n",
       "      <td>...</td>\n",
       "      <td>NaN</td>\n",
       "      <td>NaN</td>\n",
       "      <td>NaN</td>\n",
       "      <td>NaN</td>\n",
       "      <td>NaN</td>\n",
       "      <td>NaN</td>\n",
       "      <td>NaN</td>\n",
       "      <td>NaN</td>\n",
       "      <td>NaN</td>\n",
       "      <td>NaN</td>\n",
       "    </tr>\n",
       "    <tr>\n",
       "      <th>4</th>\n",
       "      <td>ZeeviD_2015</td>\n",
       "      <td>PNP_Main_363</td>\n",
       "      <td>PNP_Main_363</td>\n",
       "      <td>stool</td>\n",
       "      <td>no</td>\n",
       "      <td>control</td>\n",
       "      <td>healthy</td>\n",
       "      <td>NaN</td>\n",
       "      <td>NaN</td>\n",
       "      <td>adult</td>\n",
       "      <td>...</td>\n",
       "      <td>NaN</td>\n",
       "      <td>NaN</td>\n",
       "      <td>NaN</td>\n",
       "      <td>NaN</td>\n",
       "      <td>NaN</td>\n",
       "      <td>NaN</td>\n",
       "      <td>NaN</td>\n",
       "      <td>NaN</td>\n",
       "      <td>NaN</td>\n",
       "      <td>NaN</td>\n",
       "    </tr>\n",
       "    <tr>\n",
       "      <th>...</th>\n",
       "      <td>...</td>\n",
       "      <td>...</td>\n",
       "      <td>...</td>\n",
       "      <td>...</td>\n",
       "      <td>...</td>\n",
       "      <td>...</td>\n",
       "      <td>...</td>\n",
       "      <td>...</td>\n",
       "      <td>...</td>\n",
       "      <td>...</td>\n",
       "      <td>...</td>\n",
       "      <td>...</td>\n",
       "      <td>...</td>\n",
       "      <td>...</td>\n",
       "      <td>...</td>\n",
       "      <td>...</td>\n",
       "      <td>...</td>\n",
       "      <td>...</td>\n",
       "      <td>...</td>\n",
       "      <td>...</td>\n",
       "      <td>...</td>\n",
       "    </tr>\n",
       "    <tr>\n",
       "      <th>195</th>\n",
       "      <td>KaurK_2020</td>\n",
       "      <td>KHG_9</td>\n",
       "      <td>KHG_9</td>\n",
       "      <td>stool</td>\n",
       "      <td>no</td>\n",
       "      <td>control</td>\n",
       "      <td>healthy</td>\n",
       "      <td>29.0</td>\n",
       "      <td>NaN</td>\n",
       "      <td>adult</td>\n",
       "      <td>...</td>\n",
       "      <td>NaN</td>\n",
       "      <td>NaN</td>\n",
       "      <td>NaN</td>\n",
       "      <td>NaN</td>\n",
       "      <td>NaN</td>\n",
       "      <td>NaN</td>\n",
       "      <td>NaN</td>\n",
       "      <td>NaN</td>\n",
       "      <td>NaN</td>\n",
       "      <td>NaN</td>\n",
       "    </tr>\n",
       "    <tr>\n",
       "      <th>196</th>\n",
       "      <td>PasolliE_2019</td>\n",
       "      <td>A48_01_1FE</td>\n",
       "      <td>A48_01_1FE</td>\n",
       "      <td>stool</td>\n",
       "      <td>no</td>\n",
       "      <td>control</td>\n",
       "      <td>healthy</td>\n",
       "      <td>35.0</td>\n",
       "      <td>NaN</td>\n",
       "      <td>adult</td>\n",
       "      <td>...</td>\n",
       "      <td>NaN</td>\n",
       "      <td>NaN</td>\n",
       "      <td>NaN</td>\n",
       "      <td>NaN</td>\n",
       "      <td>NaN</td>\n",
       "      <td>NaN</td>\n",
       "      <td>NaN</td>\n",
       "      <td>NaN</td>\n",
       "      <td>NaN</td>\n",
       "      <td>NaN</td>\n",
       "    </tr>\n",
       "    <tr>\n",
       "      <th>197</th>\n",
       "      <td>KaurK_2020</td>\n",
       "      <td>KHG_1</td>\n",
       "      <td>KHG_1</td>\n",
       "      <td>stool</td>\n",
       "      <td>no</td>\n",
       "      <td>control</td>\n",
       "      <td>healthy</td>\n",
       "      <td>31.0</td>\n",
       "      <td>NaN</td>\n",
       "      <td>adult</td>\n",
       "      <td>...</td>\n",
       "      <td>NaN</td>\n",
       "      <td>NaN</td>\n",
       "      <td>NaN</td>\n",
       "      <td>NaN</td>\n",
       "      <td>NaN</td>\n",
       "      <td>NaN</td>\n",
       "      <td>NaN</td>\n",
       "      <td>NaN</td>\n",
       "      <td>NaN</td>\n",
       "      <td>NaN</td>\n",
       "    </tr>\n",
       "    <tr>\n",
       "      <th>198</th>\n",
       "      <td>SmitsSA_2017</td>\n",
       "      <td>TZ_81781</td>\n",
       "      <td>TZ_81781</td>\n",
       "      <td>stool</td>\n",
       "      <td>no</td>\n",
       "      <td>control</td>\n",
       "      <td>healthy</td>\n",
       "      <td>40.0</td>\n",
       "      <td>NaN</td>\n",
       "      <td>adult</td>\n",
       "      <td>...</td>\n",
       "      <td>NaN</td>\n",
       "      <td>NaN</td>\n",
       "      <td>NaN</td>\n",
       "      <td>NaN</td>\n",
       "      <td>NaN</td>\n",
       "      <td>NaN</td>\n",
       "      <td>NaN</td>\n",
       "      <td>NaN</td>\n",
       "      <td>NaN</td>\n",
       "      <td>NaN</td>\n",
       "    </tr>\n",
       "    <tr>\n",
       "      <th>199</th>\n",
       "      <td>PasolliE_2019</td>\n",
       "      <td>A09_01_1FE</td>\n",
       "      <td>A09_01_1FE</td>\n",
       "      <td>stool</td>\n",
       "      <td>no</td>\n",
       "      <td>control</td>\n",
       "      <td>healthy</td>\n",
       "      <td>52.0</td>\n",
       "      <td>NaN</td>\n",
       "      <td>adult</td>\n",
       "      <td>...</td>\n",
       "      <td>NaN</td>\n",
       "      <td>NaN</td>\n",
       "      <td>NaN</td>\n",
       "      <td>NaN</td>\n",
       "      <td>NaN</td>\n",
       "      <td>NaN</td>\n",
       "      <td>NaN</td>\n",
       "      <td>NaN</td>\n",
       "      <td>NaN</td>\n",
       "      <td>NaN</td>\n",
       "    </tr>\n",
       "  </tbody>\n",
       "</table>\n",
       "<p>200 rows × 130 columns</p>\n",
       "</div>"
      ],
      "text/plain": [
       "        study_name                             sample_id         subject_id  \\\n",
       "0       ShaoY_2019  de028ad4-7ae6-11e9-a106-68b59976a384          C01528_ba   \n",
       "1      ZeeviD_2015                          PNP_Main_283       PNP_Main_283   \n",
       "2      ZeeviD_2015                     PNP_Validation_55  PNP_Validation_55   \n",
       "3    VatanenT_2016                                G80275            T014806   \n",
       "4      ZeeviD_2015                          PNP_Main_363       PNP_Main_363   \n",
       "..             ...                                   ...                ...   \n",
       "195     KaurK_2020                                 KHG_9              KHG_9   \n",
       "196  PasolliE_2019                            A48_01_1FE         A48_01_1FE   \n",
       "197     KaurK_2020                                 KHG_1              KHG_1   \n",
       "198   SmitsSA_2017                              TZ_81781           TZ_81781   \n",
       "199  PasolliE_2019                            A09_01_1FE         A09_01_1FE   \n",
       "\n",
       "    body_site antibiotics_current_use study_condition  disease   age  \\\n",
       "0       stool                      no         control  healthy   0.0   \n",
       "1       stool                      no         control  healthy   NaN   \n",
       "2       stool                      no         control  healthy   NaN   \n",
       "3       stool                      no         control  healthy   1.0   \n",
       "4       stool                      no         control  healthy   NaN   \n",
       "..        ...                     ...             ...      ...   ...   \n",
       "195     stool                      no         control  healthy  29.0   \n",
       "196     stool                      no         control  healthy  35.0   \n",
       "197     stool                      no         control  healthy  31.0   \n",
       "198     stool                      no         control  healthy  40.0   \n",
       "199     stool                      no         control  healthy  52.0   \n",
       "\n",
       "     infant_age age_category  ... hla_drb11 birth_order  \\\n",
       "0           4.0      newborn  ...       NaN         NaN   \n",
       "1           NaN        adult  ...       NaN         NaN   \n",
       "2           NaN        adult  ...       NaN         NaN   \n",
       "3           NaN        child  ...       NaN         NaN   \n",
       "4           NaN        adult  ...       NaN         NaN   \n",
       "..          ...          ...  ...       ...         ...   \n",
       "195         NaN        adult  ...       NaN         NaN   \n",
       "196         NaN        adult  ...       NaN         NaN   \n",
       "197         NaN        adult  ...       NaN         NaN   \n",
       "198         NaN        adult  ...       NaN         NaN   \n",
       "199         NaN        adult  ...       NaN         NaN   \n",
       "\n",
       "    age_twins_started_to_live_apart zigosity brinkman_index  alcohol_numeric  \\\n",
       "0                               NaN      NaN            NaN              NaN   \n",
       "1                               NaN      NaN            NaN              NaN   \n",
       "2                               NaN      NaN            NaN              NaN   \n",
       "3                               NaN      NaN            NaN              NaN   \n",
       "4                               NaN      NaN            NaN              NaN   \n",
       "..                              ...      ...            ...              ...   \n",
       "195                             NaN      NaN            NaN              NaN   \n",
       "196                             NaN      NaN            NaN              NaN   \n",
       "197                             NaN      NaN            NaN              NaN   \n",
       "198                             NaN      NaN            NaN              NaN   \n",
       "199                             NaN      NaN            NaN              NaN   \n",
       "\n",
       "     breastfeeding_duration  formula_first_day  ALT  eGFR  \n",
       "0                       NaN                NaN  NaN   NaN  \n",
       "1                       NaN                NaN  NaN   NaN  \n",
       "2                       NaN                NaN  NaN   NaN  \n",
       "3                       NaN                NaN  NaN   NaN  \n",
       "4                       NaN                NaN  NaN   NaN  \n",
       "..                      ...                ...  ...   ...  \n",
       "195                     NaN                NaN  NaN   NaN  \n",
       "196                     NaN                NaN  NaN   NaN  \n",
       "197                     NaN                NaN  NaN   NaN  \n",
       "198                     NaN                NaN  NaN   NaN  \n",
       "199                     NaN                NaN  NaN   NaN  \n",
       "\n",
       "[200 rows x 130 columns]"
      ]
     },
     "execution_count": 58,
     "metadata": {},
     "output_type": "execute_result"
    }
   ],
   "source": [
    "metadata"
   ]
  },
  {
   "cell_type": "markdown",
   "id": "38e757cd-d5b0-43f9-94e9-1875ddc4581b",
   "metadata": {},
   "source": [
    "## 7. Looking at diversity"
   ]
  },
  {
   "cell_type": "markdown",
   "id": "5d26d1f9-6649-4b7a-9a71-6650618c45d0",
   "metadata": {},
   "source": [
    "### 7.1 Alpha diversity\n",
    "\n",
    "Alpha diversity is the measure of diversity withing each sample. It is used to estimate how many species are present in a sample, and how diverse they are.  \n",
    "We'll use the python library [scikit-bio](http://scikit-bio.org/) to compute it, and the [plotnine](https://plotnine.readthedocs.io/) library (a python port of [ggplot2](https://ggplot2.tidyverse.org/reference/ggplot.html) to visualize the results)."
   ]
  },
  {
   "cell_type": "code",
   "execution_count": 59,
   "id": "3ea495d8-8323-4eb5-a12e-598b7ade768d",
   "metadata": {},
   "outputs": [],
   "source": [
    "import skbio\n",
    "from plotnine import *"
   ]
  },
  {
   "cell_type": "markdown",
   "id": "ccc50f0a-5cb1-4223-939f-79b6d98db4cf",
   "metadata": {},
   "source": [
    "Let's compute the [species richness](https://en.wikipedia.org/wiki/Species_richness), the [Shannon, and Simpson index of diversity](https://www.biologydiscussion.com/biodiversity/types/2-types-of-diversity-indices-of-biodiversity/8388) index"
   ]
  },
  {
   "cell_type": "code",
   "execution_count": 158,
   "id": "e7f20a55-ca34-40a8-9eae-dcd1c2bfe08c",
   "metadata": {},
   "outputs": [
    {
     "data": {
      "text/html": [
       "<div>\n",
       "<style scoped>\n",
       "    .dataframe tbody tr th:only-of-type {\n",
       "        vertical-align: middle;\n",
       "    }\n",
       "\n",
       "    .dataframe tbody tr th {\n",
       "        vertical-align: top;\n",
       "    }\n",
       "\n",
       "    .dataframe thead th {\n",
       "        text-align: right;\n",
       "    }\n",
       "</style>\n",
       "<table border=\"1\" class=\"dataframe\">\n",
       "  <thead>\n",
       "    <tr style=\"text-align: right;\">\n",
       "      <th></th>\n",
       "      <th>shannon</th>\n",
       "      <th>simpson</th>\n",
       "      <th>richness</th>\n",
       "    </tr>\n",
       "  </thead>\n",
       "  <tbody>\n",
       "    <tr>\n",
       "      <th>ZSM028</th>\n",
       "      <td>1.917626</td>\n",
       "      <td>0.669327</td>\n",
       "      <td>6</td>\n",
       "    </tr>\n",
       "    <tr>\n",
       "      <th>de028ad4-7ae6-11e9-a106-68b59976a384</th>\n",
       "      <td>0.798112</td>\n",
       "      <td>0.251280</td>\n",
       "      <td>11</td>\n",
       "    </tr>\n",
       "    <tr>\n",
       "      <th>PNP_Main_283</th>\n",
       "      <td>5.092878</td>\n",
       "      <td>0.954159</td>\n",
       "      <td>118</td>\n",
       "    </tr>\n",
       "    <tr>\n",
       "      <th>PNP_Validation_55</th>\n",
       "      <td>3.670162</td>\n",
       "      <td>0.812438</td>\n",
       "      <td>72</td>\n",
       "    </tr>\n",
       "    <tr>\n",
       "      <th>G80275</th>\n",
       "      <td>3.831358</td>\n",
       "      <td>0.876712</td>\n",
       "      <td>66</td>\n",
       "    </tr>\n",
       "    <tr>\n",
       "      <th>...</th>\n",
       "      <td>...</td>\n",
       "      <td>...</td>\n",
       "      <td>...</td>\n",
       "    </tr>\n",
       "    <tr>\n",
       "      <th>KHG_9</th>\n",
       "      <td>3.884285</td>\n",
       "      <td>0.861683</td>\n",
       "      <td>87</td>\n",
       "    </tr>\n",
       "    <tr>\n",
       "      <th>A48_01_1FE</th>\n",
       "      <td>4.377755</td>\n",
       "      <td>0.930024</td>\n",
       "      <td>53</td>\n",
       "    </tr>\n",
       "    <tr>\n",
       "      <th>KHG_1</th>\n",
       "      <td>3.733834</td>\n",
       "      <td>0.875335</td>\n",
       "      <td>108</td>\n",
       "    </tr>\n",
       "    <tr>\n",
       "      <th>TZ_81781</th>\n",
       "      <td>2.881856</td>\n",
       "      <td>0.719491</td>\n",
       "      <td>44</td>\n",
       "    </tr>\n",
       "    <tr>\n",
       "      <th>A09_01_1FE</th>\n",
       "      <td>2.982322</td>\n",
       "      <td>0.719962</td>\n",
       "      <td>75</td>\n",
       "    </tr>\n",
       "  </tbody>\n",
       "</table>\n",
       "<p>201 rows × 3 columns</p>\n",
       "</div>"
      ],
      "text/plain": [
       "                                       shannon   simpson  richness\n",
       "ZSM028                                1.917626  0.669327         6\n",
       "de028ad4-7ae6-11e9-a106-68b59976a384  0.798112  0.251280        11\n",
       "PNP_Main_283                          5.092878  0.954159       118\n",
       "PNP_Validation_55                     3.670162  0.812438        72\n",
       "G80275                                3.831358  0.876712        66\n",
       "...                                        ...       ...       ...\n",
       "KHG_9                                 3.884285  0.861683        87\n",
       "A48_01_1FE                            4.377755  0.930024        53\n",
       "KHG_1                                 3.733834  0.875335       108\n",
       "TZ_81781                              2.881856  0.719491        44\n",
       "A09_01_1FE                            2.982322  0.719962        75\n",
       "\n",
       "[201 rows x 3 columns]"
      ]
     },
     "execution_count": 158,
     "metadata": {},
     "output_type": "execute_result"
    }
   ],
   "source": [
    "shannon = skbio.diversity.alpha_diversity(metric='shannon', counts=all_data.transpose(), ids=all_data.columns)\n",
    "simpson = skbio.diversity.alpha_diversity(metric='simpson', counts=all_data.transpose(), ids=all_data.columns)\n",
    "richness = (all_data != 0).astype(int).sum(axis=0)\n",
    "alpha_diversity = (shannon.to_frame(name='shannon')\n",
    "                   .merge(simpson.to_frame(name='simpson'), left_index=True, right_index=True)\n",
    "                   .merge(richness.to_frame(name='richness'), left_index=True, right_index=True))\n",
    "alpha_diversity"
   ]
  },
  {
   "cell_type": "markdown",
   "id": "313cef06-60b3-4e2c-82b2-633ad9d4d757",
   "metadata": {},
   "source": [
    "Let's load the group information from the metadata"
   ]
  },
  {
   "cell_type": "code",
   "execution_count": 159,
   "id": "a85c7e7c-59e9-472b-8b51-84a51b4d587f",
   "metadata": {},
   "outputs": [],
   "source": [
    "alpha_diversity = (alpha_diversity.merge(metadata[['sample_id', 'non_westernized']], left_index=True, right_on='sample_id', how='outer')\n",
    "                   .set_index('sample_id')\n",
    "                   .rename(columns={'non_westernized':'group'}))\n",
    "alpha_diversity['group'] = alpha_diversity['group'].replace({'yes':'non_westernized','no':'westernized', pd.NA:'ZSM028'})"
   ]
  },
  {
   "cell_type": "code",
   "execution_count": 160,
   "id": "96ac6874-e0da-4ede-8f8a-d157a5f1b939",
   "metadata": {},
   "outputs": [],
   "source": [
    "alpha_diversity = alpha_diversity.reset_index().melt(id_vars=['sample_id','group'], value_name='alpha diversity', var_name='index')"
   ]
  },
  {
   "cell_type": "code",
   "execution_count": 161,
   "id": "60c5aaf7-798f-4a77-bee2-9c63cd1d4140",
   "metadata": {},
   "outputs": [
    {
     "data": {
      "text/html": [
       "<div>\n",
       "<style scoped>\n",
       "    .dataframe tbody tr th:only-of-type {\n",
       "        vertical-align: middle;\n",
       "    }\n",
       "\n",
       "    .dataframe tbody tr th {\n",
       "        vertical-align: top;\n",
       "    }\n",
       "\n",
       "    .dataframe thead th {\n",
       "        text-align: right;\n",
       "    }\n",
       "</style>\n",
       "<table border=\"1\" class=\"dataframe\">\n",
       "  <thead>\n",
       "    <tr style=\"text-align: right;\">\n",
       "      <th></th>\n",
       "      <th>sample_id</th>\n",
       "      <th>group</th>\n",
       "      <th>index</th>\n",
       "      <th>alpha diversity</th>\n",
       "    </tr>\n",
       "  </thead>\n",
       "  <tbody>\n",
       "    <tr>\n",
       "      <th>0</th>\n",
       "      <td>ZSM028</td>\n",
       "      <td>ZSM028</td>\n",
       "      <td>shannon</td>\n",
       "      <td>1.917626</td>\n",
       "    </tr>\n",
       "    <tr>\n",
       "      <th>1</th>\n",
       "      <td>de028ad4-7ae6-11e9-a106-68b59976a384</td>\n",
       "      <td>westernized</td>\n",
       "      <td>shannon</td>\n",
       "      <td>0.798112</td>\n",
       "    </tr>\n",
       "    <tr>\n",
       "      <th>2</th>\n",
       "      <td>PNP_Main_283</td>\n",
       "      <td>westernized</td>\n",
       "      <td>shannon</td>\n",
       "      <td>5.092878</td>\n",
       "    </tr>\n",
       "    <tr>\n",
       "      <th>3</th>\n",
       "      <td>PNP_Validation_55</td>\n",
       "      <td>westernized</td>\n",
       "      <td>shannon</td>\n",
       "      <td>3.670162</td>\n",
       "    </tr>\n",
       "    <tr>\n",
       "      <th>4</th>\n",
       "      <td>G80275</td>\n",
       "      <td>westernized</td>\n",
       "      <td>shannon</td>\n",
       "      <td>3.831358</td>\n",
       "    </tr>\n",
       "    <tr>\n",
       "      <th>...</th>\n",
       "      <td>...</td>\n",
       "      <td>...</td>\n",
       "      <td>...</td>\n",
       "      <td>...</td>\n",
       "    </tr>\n",
       "    <tr>\n",
       "      <th>598</th>\n",
       "      <td>KHG_9</td>\n",
       "      <td>non_westernized</td>\n",
       "      <td>richness</td>\n",
       "      <td>87.000000</td>\n",
       "    </tr>\n",
       "    <tr>\n",
       "      <th>599</th>\n",
       "      <td>A48_01_1FE</td>\n",
       "      <td>non_westernized</td>\n",
       "      <td>richness</td>\n",
       "      <td>53.000000</td>\n",
       "    </tr>\n",
       "    <tr>\n",
       "      <th>600</th>\n",
       "      <td>KHG_1</td>\n",
       "      <td>non_westernized</td>\n",
       "      <td>richness</td>\n",
       "      <td>108.000000</td>\n",
       "    </tr>\n",
       "    <tr>\n",
       "      <th>601</th>\n",
       "      <td>TZ_81781</td>\n",
       "      <td>non_westernized</td>\n",
       "      <td>richness</td>\n",
       "      <td>44.000000</td>\n",
       "    </tr>\n",
       "    <tr>\n",
       "      <th>602</th>\n",
       "      <td>A09_01_1FE</td>\n",
       "      <td>non_westernized</td>\n",
       "      <td>richness</td>\n",
       "      <td>75.000000</td>\n",
       "    </tr>\n",
       "  </tbody>\n",
       "</table>\n",
       "<p>603 rows × 4 columns</p>\n",
       "</div>"
      ],
      "text/plain": [
       "                                sample_id            group     index  \\\n",
       "0                                  ZSM028           ZSM028   shannon   \n",
       "1    de028ad4-7ae6-11e9-a106-68b59976a384      westernized   shannon   \n",
       "2                            PNP_Main_283      westernized   shannon   \n",
       "3                       PNP_Validation_55      westernized   shannon   \n",
       "4                                  G80275      westernized   shannon   \n",
       "..                                    ...              ...       ...   \n",
       "598                                 KHG_9  non_westernized  richness   \n",
       "599                            A48_01_1FE  non_westernized  richness   \n",
       "600                                 KHG_1  non_westernized  richness   \n",
       "601                              TZ_81781  non_westernized  richness   \n",
       "602                            A09_01_1FE  non_westernized  richness   \n",
       "\n",
       "     alpha diversity  \n",
       "0           1.917626  \n",
       "1           0.798112  \n",
       "2           5.092878  \n",
       "3           3.670162  \n",
       "4           3.831358  \n",
       "..               ...  \n",
       "598        87.000000  \n",
       "599        53.000000  \n",
       "600       108.000000  \n",
       "601        44.000000  \n",
       "602        75.000000  \n",
       "\n",
       "[603 rows x 4 columns]"
      ]
     },
     "execution_count": 161,
     "metadata": {},
     "output_type": "execute_result"
    }
   ],
   "source": [
    "alpha_diversity"
   ]
  },
  {
   "cell_type": "code",
   "execution_count": 162,
   "id": "b111cb5d-4058-4e97-b704-5d2a8559524f",
   "metadata": {},
   "outputs": [
    {
     "name": "stderr",
     "output_type": "stream",
     "text": [
      "/home/maxime_borry/.conda/envs/summer_school_microbiome/lib/python3.9/site-packages/plotnine/stats/stat_density.py:151: PlotnineWarning:\n",
      "\n",
      "To compute the density of a group with only one value set the bandwidth manually. e.g `bw=0.1`\n",
      "\n",
      "/home/maxime_borry/.conda/envs/summer_school_microbiome/lib/python3.9/site-packages/plotnine/stats/stat_density.py:154: PlotnineWarning:\n",
      "\n",
      "Groups with fewer than 2 data points have been removed.\n",
      "\n",
      "/home/maxime_borry/.conda/envs/summer_school_microbiome/lib/python3.9/site-packages/plotnine/facets/facet.py:390: PlotnineWarning:\n",
      "\n",
      "If you need more space for the x-axis tick text use ... + theme(subplots_adjust={'wspace': 0.25}). Choose an appropriate value for 'wspace'.\n",
      "\n"
     ]
    },
    {
     "data": {
      "image/png": "[encoded data removed]",
      "text/plain": [
       "<Figure size 640x480 with 3 Axes>"
      ]
     },
     "metadata": {},
     "output_type": "display_data"
    },
    {
     "data": {
      "text/plain": [
       "<ggplot: (8784474811733)>"
      ]
     },
     "execution_count": 162,
     "metadata": {},
     "output_type": "execute_result"
    }
   ],
   "source": [
    "g = ggplot(alpha_diversity, aes(x='group', y='alpha diversity', color='group'))  \n",
    "g += geom_violin() \n",
    "g += geom_jitter() \n",
    "g += theme_classic() \n",
    "g += facet_wrap('~index', scales = 'free')\n",
    "g += theme(axis_text_x=element_text(rotation=45, hjust=1))\n",
    "g"
   ]
  },
  {
   "cell_type": "markdown",
   "id": "32446d51-cd09-4766-ab59-556da7da98a4",
   "metadata": {},
   "source": [
    "Q: **Why do we observe so few species in our sample ?**"
   ]
  },
  {
   "cell_type": "markdown",
   "id": "f51f607e-4ef3-4a65-bf87-f6447fbf3126",
   "metadata": {},
   "source": [
    "### 7.2 Beta diversity\n",
    "\n",
    "The Beta diversity is the measure of diversity between a pair of samples. It is used to compare the diversity between samples and see how they relate.\n",
    "\n",
    "We will compute the beta diversity using the [bray-curtis](https://en.wikipedia.org/wiki/Bray%E2%80%93Curtis_dissimilarity) dissimilarity"
   ]
  },
  {
   "cell_type": "code",
   "execution_count": 66,
   "id": "5fe23206-44a7-483a-a909-9bd8f0f5dd33",
   "metadata": {},
   "outputs": [],
   "source": [
    "beta_diversity = skbio.diversity.beta_diversity(metric='braycurtis', counts=all_data.transpose(), ids=all_data.columns, validate=True)"
   ]
  },
  {
   "cell_type": "markdown",
   "id": "db41bdce-f2c2-419b-a06d-4c6c2a67a0c2",
   "metadata": {},
   "source": [
    "We get a distance matrix"
   ]
  },
  {
   "cell_type": "code",
   "execution_count": 67,
   "id": "3e32c2fd-a8b3-420b-af0e-4eaa5cd46763",
   "metadata": {},
   "outputs": [
    {
     "name": "stdout",
     "output_type": "stream",
     "text": [
      "201x201 distance matrix\n",
      "IDs:\n",
      "'ZSM028', 'de028ad4-7ae6-11e9-a106-68b59976a384', 'PNP_Main_283', ...\n",
      "Data:\n",
      "[[0.         1.         0.9887803  ... 0.99815981 0.53443118 0.88918719]\n",
      " [1.         0.         0.99988327 ... 0.99853413 0.994116   0.99877258]\n",
      " [0.9887803  0.99988327 0.         ... 0.82311942 0.87202543 0.91363156]\n",
      " ...\n",
      " [0.99815981 0.99853413 0.82311942 ... 0.         0.84253376 0.76616679]\n",
      " [0.53443118 0.994116   0.87202543 ... 0.84253376 0.         0.82409272]\n",
      " [0.88918719 0.99877258 0.91363156 ... 0.76616679 0.82409272 0.        ]]\n"
     ]
    }
   ],
   "source": [
    "print(beta_diversity)"
   ]
  },
  {
   "cell_type": "markdown",
   "id": "2baea0bf-1863-4b8f-b160-d3dd652817bf",
   "metadata": {},
   "source": [
    "To visualize this distance matrix in a lower dimensional space, we'll use a [PCoA](https://en.wikipedia.org/wiki/Multidimensional_scaling#Types), which is is a method very similar to a PCA, but taking a distance matrix as input."
   ]
  },
  {
   "cell_type": "code",
   "execution_count": 68,
   "id": "22c20d3a-7008-40d4-a3ad-a3654d78b159",
   "metadata": {},
   "outputs": [
    {
     "name": "stderr",
     "output_type": "stream",
     "text": [
      "/home/maxime_borry/.conda/envs/summer_school_microbiome/lib/python3.9/site-packages/skbio/stats/ordination/_principal_coordinate_analysis.py:143: RuntimeWarning:\n",
      "\n",
      "The result contains negative eigenvalues. Please compare their magnitude with the magnitude of some of the largest positive eigenvalues. If the negative ones are smaller, it's probably safe to ignore them, but if they are large in magnitude, the results won't be useful. See the Notes section for more details. The smallest eigenvalue is -0.2595593191705198 and the largest is 10.345961520219133.\n",
      "\n"
     ]
    }
   ],
   "source": [
    "pcoa = skbio.stats.ordination.pcoa(beta_diversity)"
   ]
  },
  {
   "cell_type": "code",
   "execution_count": 69,
   "id": "18f5da7d-26f3-4e03-9815-31095985a17c",
   "metadata": {},
   "outputs": [
    {
     "data": {
      "text/html": [
       "<div>\n",
       "<style scoped>\n",
       "    .dataframe tbody tr th:only-of-type {\n",
       "        vertical-align: middle;\n",
       "    }\n",
       "\n",
       "    .dataframe tbody tr th {\n",
       "        vertical-align: top;\n",
       "    }\n",
       "\n",
       "    .dataframe thead th {\n",
       "        text-align: right;\n",
       "    }\n",
       "</style>\n",
       "<table border=\"1\" class=\"dataframe\">\n",
       "  <thead>\n",
       "    <tr style=\"text-align: right;\">\n",
       "      <th></th>\n",
       "      <th>PC1</th>\n",
       "      <th>PC2</th>\n",
       "      <th>PC3</th>\n",
       "      <th>PC4</th>\n",
       "      <th>PC5</th>\n",
       "      <th>PC6</th>\n",
       "      <th>PC7</th>\n",
       "      <th>PC8</th>\n",
       "      <th>PC9</th>\n",
       "      <th>PC10</th>\n",
       "      <th>...</th>\n",
       "      <th>PC192</th>\n",
       "      <th>PC193</th>\n",
       "      <th>PC194</th>\n",
       "      <th>PC195</th>\n",
       "      <th>PC196</th>\n",
       "      <th>PC197</th>\n",
       "      <th>PC198</th>\n",
       "      <th>PC199</th>\n",
       "      <th>PC200</th>\n",
       "      <th>PC201</th>\n",
       "    </tr>\n",
       "  </thead>\n",
       "  <tbody>\n",
       "    <tr>\n",
       "      <th>ZSM028</th>\n",
       "      <td>-0.439775</td>\n",
       "      <td>-0.032503</td>\n",
       "      <td>-0.271046</td>\n",
       "      <td>0.098444</td>\n",
       "      <td>-0.092160</td>\n",
       "      <td>-0.007570</td>\n",
       "      <td>0.019277</td>\n",
       "      <td>0.013769</td>\n",
       "      <td>-0.061629</td>\n",
       "      <td>-0.044122</td>\n",
       "      <td>...</td>\n",
       "      <td>0.0</td>\n",
       "      <td>0.0</td>\n",
       "      <td>0.0</td>\n",
       "      <td>0.0</td>\n",
       "      <td>0.0</td>\n",
       "      <td>0.0</td>\n",
       "      <td>0.0</td>\n",
       "      <td>0.0</td>\n",
       "      <td>0.0</td>\n",
       "      <td>0.0</td>\n",
       "    </tr>\n",
       "    <tr>\n",
       "      <th>de028ad4-7ae6-11e9-a106-68b59976a384</th>\n",
       "      <td>0.092649</td>\n",
       "      <td>0.143091</td>\n",
       "      <td>-0.199769</td>\n",
       "      <td>0.126605</td>\n",
       "      <td>-0.118382</td>\n",
       "      <td>0.131244</td>\n",
       "      <td>0.099545</td>\n",
       "      <td>-0.019833</td>\n",
       "      <td>-0.098399</td>\n",
       "      <td>-0.042719</td>\n",
       "      <td>...</td>\n",
       "      <td>0.0</td>\n",
       "      <td>0.0</td>\n",
       "      <td>0.0</td>\n",
       "      <td>0.0</td>\n",
       "      <td>0.0</td>\n",
       "      <td>0.0</td>\n",
       "      <td>0.0</td>\n",
       "      <td>0.0</td>\n",
       "      <td>0.0</td>\n",
       "      <td>0.0</td>\n",
       "    </tr>\n",
       "    <tr>\n",
       "      <th>PNP_Main_283</th>\n",
       "      <td>0.217999</td>\n",
       "      <td>-0.146774</td>\n",
       "      <td>0.109869</td>\n",
       "      <td>0.096601</td>\n",
       "      <td>-0.077917</td>\n",
       "      <td>-0.119879</td>\n",
       "      <td>-0.049151</td>\n",
       "      <td>0.051921</td>\n",
       "      <td>0.007818</td>\n",
       "      <td>0.010789</td>\n",
       "      <td>...</td>\n",
       "      <td>0.0</td>\n",
       "      <td>0.0</td>\n",
       "      <td>0.0</td>\n",
       "      <td>0.0</td>\n",
       "      <td>0.0</td>\n",
       "      <td>0.0</td>\n",
       "      <td>0.0</td>\n",
       "      <td>0.0</td>\n",
       "      <td>0.0</td>\n",
       "      <td>0.0</td>\n",
       "    </tr>\n",
       "    <tr>\n",
       "      <th>PNP_Validation_55</th>\n",
       "      <td>-0.253984</td>\n",
       "      <td>-0.176535</td>\n",
       "      <td>-0.300257</td>\n",
       "      <td>-0.021525</td>\n",
       "      <td>-0.027024</td>\n",
       "      <td>-0.118586</td>\n",
       "      <td>-0.201614</td>\n",
       "      <td>-0.016385</td>\n",
       "      <td>-0.026704</td>\n",
       "      <td>-0.013773</td>\n",
       "      <td>...</td>\n",
       "      <td>0.0</td>\n",
       "      <td>0.0</td>\n",
       "      <td>0.0</td>\n",
       "      <td>0.0</td>\n",
       "      <td>0.0</td>\n",
       "      <td>0.0</td>\n",
       "      <td>0.0</td>\n",
       "      <td>0.0</td>\n",
       "      <td>0.0</td>\n",
       "      <td>0.0</td>\n",
       "    </tr>\n",
       "    <tr>\n",
       "      <th>G80275</th>\n",
       "      <td>0.253941</td>\n",
       "      <td>-0.080233</td>\n",
       "      <td>-0.259208</td>\n",
       "      <td>-0.075344</td>\n",
       "      <td>-0.086627</td>\n",
       "      <td>-0.163380</td>\n",
       "      <td>-0.010275</td>\n",
       "      <td>-0.032743</td>\n",
       "      <td>-0.005528</td>\n",
       "      <td>0.021181</td>\n",
       "      <td>...</td>\n",
       "      <td>0.0</td>\n",
       "      <td>0.0</td>\n",
       "      <td>0.0</td>\n",
       "      <td>0.0</td>\n",
       "      <td>0.0</td>\n",
       "      <td>0.0</td>\n",
       "      <td>0.0</td>\n",
       "      <td>0.0</td>\n",
       "      <td>0.0</td>\n",
       "      <td>0.0</td>\n",
       "    </tr>\n",
       "    <tr>\n",
       "      <th>...</th>\n",
       "      <td>...</td>\n",
       "      <td>...</td>\n",
       "      <td>...</td>\n",
       "      <td>...</td>\n",
       "      <td>...</td>\n",
       "      <td>...</td>\n",
       "      <td>...</td>\n",
       "      <td>...</td>\n",
       "      <td>...</td>\n",
       "      <td>...</td>\n",
       "      <td>...</td>\n",
       "      <td>...</td>\n",
       "      <td>...</td>\n",
       "      <td>...</td>\n",
       "      <td>...</td>\n",
       "      <td>...</td>\n",
       "      <td>...</td>\n",
       "      <td>...</td>\n",
       "      <td>...</td>\n",
       "      <td>...</td>\n",
       "      <td>...</td>\n",
       "    </tr>\n",
       "    <tr>\n",
       "      <th>KHG_9</th>\n",
       "      <td>-0.292190</td>\n",
       "      <td>-0.149108</td>\n",
       "      <td>0.027032</td>\n",
       "      <td>0.028145</td>\n",
       "      <td>0.150697</td>\n",
       "      <td>-0.017227</td>\n",
       "      <td>0.031951</td>\n",
       "      <td>-0.074755</td>\n",
       "      <td>0.062833</td>\n",
       "      <td>0.067981</td>\n",
       "      <td>...</td>\n",
       "      <td>0.0</td>\n",
       "      <td>0.0</td>\n",
       "      <td>0.0</td>\n",
       "      <td>0.0</td>\n",
       "      <td>0.0</td>\n",
       "      <td>0.0</td>\n",
       "      <td>0.0</td>\n",
       "      <td>0.0</td>\n",
       "      <td>0.0</td>\n",
       "      <td>0.0</td>\n",
       "    </tr>\n",
       "    <tr>\n",
       "      <th>A48_01_1FE</th>\n",
       "      <td>-0.105329</td>\n",
       "      <td>0.032213</td>\n",
       "      <td>0.163732</td>\n",
       "      <td>-0.178480</td>\n",
       "      <td>0.005810</td>\n",
       "      <td>0.106773</td>\n",
       "      <td>-0.054583</td>\n",
       "      <td>-0.002375</td>\n",
       "      <td>-0.038941</td>\n",
       "      <td>0.072619</td>\n",
       "      <td>...</td>\n",
       "      <td>0.0</td>\n",
       "      <td>0.0</td>\n",
       "      <td>0.0</td>\n",
       "      <td>0.0</td>\n",
       "      <td>0.0</td>\n",
       "      <td>0.0</td>\n",
       "      <td>0.0</td>\n",
       "      <td>0.0</td>\n",
       "      <td>0.0</td>\n",
       "      <td>0.0</td>\n",
       "    </tr>\n",
       "    <tr>\n",
       "      <th>KHG_1</th>\n",
       "      <td>0.104366</td>\n",
       "      <td>0.168056</td>\n",
       "      <td>0.011175</td>\n",
       "      <td>0.077262</td>\n",
       "      <td>0.406583</td>\n",
       "      <td>0.036651</td>\n",
       "      <td>0.004694</td>\n",
       "      <td>-0.030267</td>\n",
       "      <td>0.067119</td>\n",
       "      <td>0.156578</td>\n",
       "      <td>...</td>\n",
       "      <td>0.0</td>\n",
       "      <td>0.0</td>\n",
       "      <td>0.0</td>\n",
       "      <td>0.0</td>\n",
       "      <td>0.0</td>\n",
       "      <td>0.0</td>\n",
       "      <td>0.0</td>\n",
       "      <td>0.0</td>\n",
       "      <td>0.0</td>\n",
       "      <td>0.0</td>\n",
       "    </tr>\n",
       "    <tr>\n",
       "      <th>TZ_81781</th>\n",
       "      <td>-0.408839</td>\n",
       "      <td>-0.139716</td>\n",
       "      <td>-0.056663</td>\n",
       "      <td>-0.074571</td>\n",
       "      <td>0.054230</td>\n",
       "      <td>0.118467</td>\n",
       "      <td>-0.075555</td>\n",
       "      <td>0.063243</td>\n",
       "      <td>-0.187427</td>\n",
       "      <td>-0.000169</td>\n",
       "      <td>...</td>\n",
       "      <td>0.0</td>\n",
       "      <td>0.0</td>\n",
       "      <td>0.0</td>\n",
       "      <td>0.0</td>\n",
       "      <td>0.0</td>\n",
       "      <td>0.0</td>\n",
       "      <td>0.0</td>\n",
       "      <td>0.0</td>\n",
       "      <td>0.0</td>\n",
       "      <td>0.0</td>\n",
       "    </tr>\n",
       "    <tr>\n",
       "      <th>A09_01_1FE</th>\n",
       "      <td>-0.085580</td>\n",
       "      <td>0.471659</td>\n",
       "      <td>0.072382</td>\n",
       "      <td>-0.124305</td>\n",
       "      <td>0.035220</td>\n",
       "      <td>-0.115088</td>\n",
       "      <td>-0.045931</td>\n",
       "      <td>0.025585</td>\n",
       "      <td>0.030303</td>\n",
       "      <td>-0.142913</td>\n",
       "      <td>...</td>\n",
       "      <td>0.0</td>\n",
       "      <td>0.0</td>\n",
       "      <td>0.0</td>\n",
       "      <td>0.0</td>\n",
       "      <td>0.0</td>\n",
       "      <td>0.0</td>\n",
       "      <td>0.0</td>\n",
       "      <td>0.0</td>\n",
       "      <td>0.0</td>\n",
       "      <td>0.0</td>\n",
       "    </tr>\n",
       "  </tbody>\n",
       "</table>\n",
       "<p>201 rows × 201 columns</p>\n",
       "</div>"
      ],
      "text/plain": [
       "                                           PC1       PC2       PC3       PC4  \\\n",
       "ZSM028                               -0.439775 -0.032503 -0.271046  0.098444   \n",
       "de028ad4-7ae6-11e9-a106-68b59976a384  0.092649  0.143091 -0.199769  0.126605   \n",
       "PNP_Main_283                          0.217999 -0.146774  0.109869  0.096601   \n",
       "PNP_Validation_55                    -0.253984 -0.176535 -0.300257 -0.021525   \n",
       "G80275                                0.253941 -0.080233 -0.259208 -0.075344   \n",
       "...                                        ...       ...       ...       ...   \n",
       "KHG_9                                -0.292190 -0.149108  0.027032  0.028145   \n",
       "A48_01_1FE                           -0.105329  0.032213  0.163732 -0.178480   \n",
       "KHG_1                                 0.104366  0.168056  0.011175  0.077262   \n",
       "TZ_81781                             -0.408839 -0.139716 -0.056663 -0.074571   \n",
       "A09_01_1FE                           -0.085580  0.471659  0.072382 -0.124305   \n",
       "\n",
       "                                           PC5       PC6       PC7       PC8  \\\n",
       "ZSM028                               -0.092160 -0.007570  0.019277  0.013769   \n",
       "de028ad4-7ae6-11e9-a106-68b59976a384 -0.118382  0.131244  0.099545 -0.019833   \n",
       "PNP_Main_283                         -0.077917 -0.119879 -0.049151  0.051921   \n",
       "PNP_Validation_55                    -0.027024 -0.118586 -0.201614 -0.016385   \n",
       "G80275                               -0.086627 -0.163380 -0.010275 -0.032743   \n",
       "...                                        ...       ...       ...       ...   \n",
       "KHG_9                                 0.150697 -0.017227  0.031951 -0.074755   \n",
       "A48_01_1FE                            0.005810  0.106773 -0.054583 -0.002375   \n",
       "KHG_1                                 0.406583  0.036651  0.004694 -0.030267   \n",
       "TZ_81781                              0.054230  0.118467 -0.075555  0.063243   \n",
       "A09_01_1FE                            0.035220 -0.115088 -0.045931  0.025585   \n",
       "\n",
       "                                           PC9      PC10  ...  PC192  PC193  \\\n",
       "ZSM028                               -0.061629 -0.044122  ...    0.0    0.0   \n",
       "de028ad4-7ae6-11e9-a106-68b59976a384 -0.098399 -0.042719  ...    0.0    0.0   \n",
       "PNP_Main_283                          0.007818  0.010789  ...    0.0    0.0   \n",
       "PNP_Validation_55                    -0.026704 -0.013773  ...    0.0    0.0   \n",
       "G80275                               -0.005528  0.021181  ...    0.0    0.0   \n",
       "...                                        ...       ...  ...    ...    ...   \n",
       "KHG_9                                 0.062833  0.067981  ...    0.0    0.0   \n",
       "A48_01_1FE                           -0.038941  0.072619  ...    0.0    0.0   \n",
       "KHG_1                                 0.067119  0.156578  ...    0.0    0.0   \n",
       "TZ_81781                             -0.187427 -0.000169  ...    0.0    0.0   \n",
       "A09_01_1FE                            0.030303 -0.142913  ...    0.0    0.0   \n",
       "\n",
       "                                      PC194  PC195  PC196  PC197  PC198  \\\n",
       "ZSM028                                  0.0    0.0    0.0    0.0    0.0   \n",
       "de028ad4-7ae6-11e9-a106-68b59976a384    0.0    0.0    0.0    0.0    0.0   \n",
       "PNP_Main_283                            0.0    0.0    0.0    0.0    0.0   \n",
       "PNP_Validation_55                       0.0    0.0    0.0    0.0    0.0   \n",
       "G80275                                  0.0    0.0    0.0    0.0    0.0   \n",
       "...                                     ...    ...    ...    ...    ...   \n",
       "KHG_9                                   0.0    0.0    0.0    0.0    0.0   \n",
       "A48_01_1FE                              0.0    0.0    0.0    0.0    0.0   \n",
       "KHG_1                                   0.0    0.0    0.0    0.0    0.0   \n",
       "TZ_81781                                0.0    0.0    0.0    0.0    0.0   \n",
       "A09_01_1FE                              0.0    0.0    0.0    0.0    0.0   \n",
       "\n",
       "                                      PC199  PC200  PC201  \n",
       "ZSM028                                  0.0    0.0    0.0  \n",
       "de028ad4-7ae6-11e9-a106-68b59976a384    0.0    0.0    0.0  \n",
       "PNP_Main_283                            0.0    0.0    0.0  \n",
       "PNP_Validation_55                       0.0    0.0    0.0  \n",
       "G80275                                  0.0    0.0    0.0  \n",
       "...                                     ...    ...    ...  \n",
       "KHG_9                                   0.0    0.0    0.0  \n",
       "A48_01_1FE                              0.0    0.0    0.0  \n",
       "KHG_1                                   0.0    0.0    0.0  \n",
       "TZ_81781                                0.0    0.0    0.0  \n",
       "A09_01_1FE                              0.0    0.0    0.0  \n",
       "\n",
       "[201 rows x 201 columns]"
      ]
     },
     "execution_count": 69,
     "metadata": {},
     "output_type": "execute_result"
    }
   ],
   "source": [
    "pcoa.samples"
   ]
  },
  {
   "cell_type": "markdown",
   "id": "9c449eec-4b0e-4b4f-9eee-9d3e07f79915",
   "metadata": {},
   "source": [
    "Let's look at the variance explained by the first axes by using a scree plot"
   ]
  },
  {
   "cell_type": "code",
   "execution_count": 70,
   "id": "b62574ba-e87c-465e-8fb3-5634b92c94c7",
   "metadata": {},
   "outputs": [],
   "source": [
    "var_explained = pcoa.proportion_explained[:9].to_frame(name='variance explained').reset_index().rename(columns={'index':'PC'})"
   ]
  },
  {
   "cell_type": "code",
   "execution_count": 71,
   "id": "ca707dbb-ffb6-4a6f-9745-964fbf8d17b1",
   "metadata": {},
   "outputs": [
    {
     "data": {
      "image/png": "[encoded data removed]",
      "text/plain": [
       "<Figure size 640x480 with 1 Axes>"
      ]
     },
     "metadata": {},
     "output_type": "display_data"
    },
    {
     "data": {
      "text/plain": [
       "<ggplot: (8784483374231)>"
      ]
     },
     "execution_count": 71,
     "metadata": {},
     "output_type": "execute_result"
    }
   ],
   "source": [
    "ggplot(var_explained, aes(x='PC', y='variance explained')) + geom_point() + theme_classic()"
   ]
  },
  {
   "cell_type": "markdown",
   "id": "1807877b-6ffa-46b4-a18e-1dabf8173dba",
   "metadata": {},
   "source": [
    "In this scree plot, we're looking for the \"elbow\", where there is a drop in the slope. Here, it seems that most of the variance is captures by the 3 first principal components"
   ]
  },
  {
   "cell_type": "code",
   "execution_count": 72,
   "id": "3f65d47b-94a8-44e1-b285-b1d33819c2cd",
   "metadata": {},
   "outputs": [],
   "source": [
    "pcoa_embed = pcoa.samples[['PC1','PC2','PC3']].rename_axis('sample').reset_index()"
   ]
  },
  {
   "cell_type": "code",
   "execution_count": 73,
   "id": "ef701ad8-7e71-48de-b156-2ac506771fc1",
   "metadata": {},
   "outputs": [],
   "source": [
    "pcoa_embed = (pcoa_embed.merge(metadata[['sample_id', 'non_westernized']], left_on='sample', right_on='sample_id', how='outer')\n",
    " .drop('sample_id', axis=1)\n",
    " .rename(columns={'non_westernized':'group'}))\n",
    "pcoa_embed['group'] = pcoa_embed['group'].replace({'yes':'non_westernized','no':'westernized', pd.NA:'ZSM028'})"
   ]
  },
  {
   "cell_type": "markdown",
   "id": "39008917-851a-41a3-83f9-69bddb2b49a4",
   "metadata": {},
   "source": [
    "Let's first look at these components with 2D plots"
   ]
  },
  {
   "cell_type": "code",
   "execution_count": 74,
   "id": "a1090bd1-6f12-4094-b4dc-6fbe3940def7",
   "metadata": {},
   "outputs": [
    {
     "data": {
      "image/png": "[encoded data removed]",
      "text/plain": [
       "<Figure size 640x480 with 1 Axes>"
      ]
     },
     "metadata": {},
     "output_type": "display_data"
    },
    {
     "data": {
      "text/plain": [
       "<ggplot: (8784474963128)>"
      ]
     },
     "execution_count": 74,
     "metadata": {},
     "output_type": "execute_result"
    }
   ],
   "source": [
    "ggplot(pcoa_embed, aes(x='PC1', y='PC2', color='group')) + geom_point() + theme_classic()"
   ]
  },
  {
   "cell_type": "code",
   "execution_count": 75,
   "id": "ce82e8bc-fb9b-4c98-b498-1c54574b469a",
   "metadata": {},
   "outputs": [
    {
     "data": {
      "image/png": "[encoded data removed]",
      "text/plain": [
       "<Figure size 640x480 with 1 Axes>"
      ]
     },
     "metadata": {},
     "output_type": "display_data"
    },
    {
     "data": {
      "text/plain": [
       "<ggplot: (8784474914919)>"
      ]
     },
     "execution_count": 75,
     "metadata": {},
     "output_type": "execute_result"
    }
   ],
   "source": [
    "ggplot(pcoa_embed, aes(x='PC1', y='PC3', color='group')) + geom_point() + theme_classic()"
   ]
  },
  {
   "cell_type": "markdown",
   "id": "315c7899-c8eb-4f99-9f75-1423505e3fd1",
   "metadata": {},
   "source": [
    "Then with a 3d plot"
   ]
  },
  {
   "cell_type": "code",
   "execution_count": 76,
   "id": "d3664a74-89cc-4100-a552-7747cb89d63b",
   "metadata": {},
   "outputs": [
    {
     "data": {
      "application/vnd.plotly.v1+json": {
       "config": {
        "plotlyServerURL": "https://plot.ly"
       },
       "data": [
        {
         "hovertemplate": "<b>%{hovertext}</b><br><br>group=ZSM028<br>PC1=%{x}<br>PC2=%{y}<br>PC3=%{z}<extra></extra>",
         "hovertext": [
          "ZSM028"
         ],
         "legendgroup": "ZSM028",
         "marker": {
          "color": "#636efa",
          "symbol": "circle"
         },
         "mode": "markers",
         "name": "ZSM028",
         "scene": "scene",
         "showlegend": true,
         "type": "scatter3d",
         "x": [
          -0.4397753360409904
         ],
         "y": [
          -0.032503235037054656
         ],
         "z": [
          -0.27104612847677373
         ]
        },
        {
         "hovertemplate": "<b>%{hovertext}</b><br><br>group=westernized<br>PC1=%{x}<br>PC2=%{y}<br>PC3=%{z}<extra></extra>",
         "hovertext": [
          "de028ad4-7ae6-11e9-a106-68b59976a384",
          "PNP_Main_283",
          "PNP_Validation_55",
          "G80275",
          "PNP_Main_363",
          "SAMEA7045572",
          "SAMEA7045355",
          "HD-13",
          "EGAR00001420773_9002000001423910",
          "SID5428-4",
          "G88848",
          "G88743",
          "PNP_Main_161",
          "SAMEA7045443",
          "SAMEA7045434",
          "PNP_Validation_96",
          "G80532",
          "EGAR00001420742_9002000001415730",
          "SAMEA7045220",
          "G88982",
          "EGAR00001420843_9002000001441150",
          "a48719f0-7ae6-11e9-a106-68b59976a384",
          "EGAR00001420336_9002000001272430",
          "SID103_4M",
          "EGAR00001420568_9002000001370790",
          "EGAR00001420295_9002000001258923",
          "G88782",
          "G80373",
          "EGAR00001420244_9002000001236274",
          "PNP_Main_398",
          "ESS-0243",
          "HSM5MD8H_P",
          "EGAR00001420873_9002000001447911",
          "G89260",
          "SID39_12M",
          "aaf6076a-7ae6-11e9-a106-68b59976a384",
          "EGAR00001420459_9002000001336350",
          "HD-30",
          "SID570_4M",
          "ESS-0208",
          "G80371",
          "dc239b54-7ae6-11e9-a106-68b59976a384",
          "MH0456",
          "DHAK_HN",
          "EGAR00001420696_9002000001402983",
          "Travel054",
          "EGAR00001421017_9002000001486419",
          "PNP_Main_508",
          "DHAK_HB",
          "MH0430",
          "SAMEA7045516",
          "G88997",
          "G88966",
          "SID5427-1",
          "SAMEA7045144",
          "SID8c0a6d5a-7ae6-11e9-a106-68b59976a384",
          "EGAR00001420242_9002000001235670",
          "G80616",
          "PNP_Main_440",
          "SID64cff2e6-7ae6-11e9-a106-68b59976a384",
          "SAMEA7045776",
          "DHAK_HDA",
          "SAMEA7045686",
          "EGAR00001420221_9002000001228512",
          "SAMEA104142088",
          "SID504_12M",
          "SAMEA7045298",
          "YEZ_N-23",
          "EGAR00001420666_9002000001395260",
          "G80565",
          "G88929",
          "SID6eb0cd1c-7ae6-11e9-a106-68b59976a384",
          "SID9a17daae-7ae6-11e9-a106-68b59976a384",
          "cd74a670-7ae6-11e9-a106-68b59976a384",
          "ac725ce2-7ae6-11e9-a106-68b59976a384",
          "d7fa5842-7ae6-11e9-a106-68b59976a384",
          "MH0458",
          "EGAR00001420766_9002000001422322",
          "EGAR00001420538_9002000001360382LL",
          "Travel115",
          "MSM79H81",
          "MH0139",
          "SID8bc1311c-7ae6-11e9-a106-68b59976a384",
          "SAMEA7045662",
          "PNP_Main_65",
          "EGAR00001421055_9002000001503823",
          "MH0164",
          "SAMEA7041184",
          "G80265",
          "G88988",
          "SAMEA7045071",
          "SAMEA7045948",
          "MSM9VZFR",
          "EGAR00001420999_9002000001480470",
          "G89017",
          "SID7197b6ee-7ae6-11e9-a106-68b59976a384",
          "PNP_Main_358",
          "G78895",
          "a4b551a8-7ae6-11e9-a106-68b59976a384",
          "Travel023"
         ],
         "legendgroup": "westernized",
         "marker": {
          "color": "#EF553B",
          "symbol": "circle"
         },
         "mode": "markers",
         "name": "westernized",
         "scene": "scene",
         "showlegend": true,
         "type": "scatter3d",
         "x": [
          0.09264948961934964,
          0.2179990031733819,
          -0.25398412441589496,
          0.2539409159877866,
          0.2229798257684362,
          0.28687441250766543,
          0.2371803423331695,
          0.26935039315941606,
          0.2106950391507153,
          0.24858837172269302,
          -0.21746779287716783,
          -0.07687993286654626,
          -0.20486765198243456,
          0.2659514649629568,
          0.06456519842862089,
          -0.3869497457396835,
          0.26525062597433824,
          0.10830191544952221,
          0.2808872008700521,
          -0.2998344768784067,
          0.2211833491738579,
          0.10863481069007737,
          0.18379438172468462,
          0.1071411203575101,
          0.25793174351666603,
          0.14524627021531974,
          0.2531047904115183,
          0.27540133245441184,
          0.17507652368029097,
          0.27927798378921603,
          0.28004922763449475,
          0.1572698663511739,
          0.19099556416902022,
          0.21818054176454757,
          0.2522460131152129,
          0.23604126769809483,
          0.16802010202967876,
          0.11842350184121682,
          0.23323132925322138,
          0.28712022133030757,
          0.19854679940811248,
          0.15265860687979937,
          0.2554547180528031,
          -0.5108143743020136,
          0.1869019902564255,
          0.0904520361599735,
          0.17103712343510624,
          0.25175053963564914,
          -0.39111612929118794,
          0.1270318438771523,
          0.24654813172056902,
          0.20663414429518012,
          0.14166140896190194,
          0.15635459274503188,
          0.2786626030773563,
          -0.25780334431518265,
          0.21018813175131199,
          0.20513849819391605,
          0.1387246645205536,
          0.1384756090232221,
          0.31600396746032494,
          -0.10486073762338653,
          0.23893924980242884,
          0.22476871790282632,
          -0.4013221021073002,
          0.1795383769651578,
          0.24491509295203498,
          0.29637745698012236,
          0.19482842258991429,
          0.2144901763367211,
          0.25133215975890416,
          0.09899123558389471,
          0.23922112242009608,
          0.12391634965611938,
          0.17272992177867388,
          0.10219009864444406,
          0.25889261491882,
          0.03078536847818799,
          0.19923971840899315,
          -0.3304550432400783,
          0.1760578142677142,
          0.2415111192777458,
          0.09950535784630708,
          0.2604525229055765,
          0.0824248696369706,
          0.23461904603656059,
          -0.4292107242993742,
          0.23622522344347124,
          0.233349465625198,
          0.21716078470820827,
          0.19319969062893774,
          0.2822231281851096,
          0.2837150964644473,
          0.1996320608471858,
          0.22786554584336993,
          0.12151719889692723,
          -0.11922147191331106,
          0.14314863352647555,
          0.16693468688680074,
          0.1824636463250937
         ],
         "y": [
          0.1430911849974163,
          -0.14677356592265325,
          -0.1765346628905536,
          -0.08023289643515777,
          -0.18391435157722286,
          -0.20551015550292553,
          -0.18494506452862355,
          -0.13502435951999517,
          -0.15815551707076828,
          -0.1007229385821113,
          -0.18029934223623242,
          -0.21080570931112722,
          -0.248721607134379,
          -0.15500205526266667,
          -0.1512038043155943,
          -0.15490785277924862,
          0.05771880041594761,
          -0.14223588085996994,
          -0.22808929720705706,
          -0.18056230434570994,
          -0.10048773463796236,
          0.5288547418257264,
          -0.13864599523295343,
          0.17110916714916802,
          -0.14697464965410792,
          -0.11102451190993506,
          -0.21747931655305636,
          -0.024746285569775997,
          -0.12247862943241995,
          -0.06120094886702477,
          -0.07152601743131325,
          -0.12446962638572728,
          0.07078775736423226,
          -0.03988497903338339,
          -0.05947658368442664,
          0.08069513021537511,
          -0.14959350748155342,
          -0.028864556821116036,
          0.09192250559012041,
          -0.1135014807088959,
          0.05434089138463034,
          0.030378443141952708,
          -0.008733970987077774,
          -0.03572586709390213,
          -0.1280292559043243,
          -0.17979574622640768,
          -0.06727410378661922,
          -0.10239539537681548,
          -0.1654012109221777,
          -0.09010564736052595,
          -0.1967588387959874,
          -0.21180816852976134,
          -0.08582533022020318,
          -0.10883762986322966,
          -0.2144384351269792,
          -0.1354202824591557,
          -0.09362749505173559,
          0.3402590871385395,
          -0.15127343280226327,
          0.19445080126489617,
          -0.2189641042874653,
          -0.028217368805028783,
          -0.1842476531634445,
          -0.1667504749330853,
          -0.08014084992515758,
          -0.05736518094016054,
          -0.2019239682057987,
          -0.037555244960907716,
          -0.1326361890283157,
          0.08579041123852826,
          -0.13133006630769456,
          0.1577635470764545,
          0.2304451909398018,
          0.03607501947867608,
          0.09555007345935869,
          0.16860414102762014,
          -0.15950764748623442,
          -0.14936482149474398,
          -0.1501383210799672,
          -0.16672296280024954,
          -0.03872284574427026,
          -0.18420770129184577,
          0.15421572183856444,
          -0.20326614175777805,
          -0.16740711847424736,
          -0.13890180135140254,
          -0.12484521093800094,
          -0.010126023193098556,
          -0.07274717756157958,
          -0.12162360119616211,
          -0.12987597776022033,
          -0.1345890868515399,
          -0.0901489823685419,
          -0.17994328440904284,
          -0.16782385053363913,
          0.45922053734572077,
          -0.24427818215165856,
          0.05155334179798301,
          0.15562400359261966,
          -0.2002902879635284
         ],
         "z": [
          -0.19976865890065246,
          0.10986851727441095,
          -0.3002573224896541,
          -0.25920846325597774,
          0.02067819868914966,
          -0.08111520946208699,
          -0.020105561112740145,
          -0.2436651978342985,
          0.1824179589057947,
          -0.06570629378282836,
          0.05426966654957113,
          0.1565402474592453,
          -0.05705193203828943,
          -0.0042164419712111155,
          -0.09275265171947995,
          -0.28231882627290494,
          -0.4370683450446197,
          0.2362650360569315,
          -0.04046302431109122,
          0.007376028910407812,
          0.20543849773587597,
          -0.058948974915219776,
          0.12348611983133978,
          -0.26244441998925205,
          -0.09934301696704777,
          0.15435901493525064,
          0.09398365596583685,
          -0.28741313080068753,
          0.22327532989245255,
          -0.21298217319805768,
          -0.2751327083749966,
          -0.0018108322072290768,
          0.07819725918283885,
          0.1190667341940775,
          -0.16724383273171506,
          -0.31722113581807926,
          0.2353178415279072,
          -0.11655913251711932,
          -0.3782745871961475,
          -0.2927616172908593,
          -0.28321608757767663,
          -0.0749598518077126,
          -0.21969763957045588,
          -0.3119498566959766,
          0.24599222285735223,
          -0.006605671876386379,
          0.2744293543467703,
          -0.2622113551488974,
          -0.1191812029835527,
          0.048378651987301326,
          0.07924513214940748,
          0.08241682344065944,
          0.24048524918948944,
          0.04261903258343941,
          -0.006084558851054868,
          -0.15539420045501523,
          0.08154157389597996,
          -0.31206681803904096,
          0.011773933836508522,
          -0.279339353237597,
          -0.08441511512231173,
          0.008634113279188142,
          0.07559533401570714,
          0.1726018955260479,
          -0.23968734028529518,
          -0.060496345446106554,
          -0.021080880491853377,
          -0.41422051831316425,
          0.11335238018937835,
          -0.2905209664386724,
          0.03469961229295132,
          -0.23221430312088473,
          -0.3477364635769576,
          -0.09159836484889224,
          -0.17125201048745123,
          -0.24932542545648675,
          -0.18985120486899834,
          0.17054247840878653,
          0.14010444292923344,
          -0.03345535692409826,
          -0.24201282531314308,
          -0.13559919408502863,
          -0.22898125445355214,
          -0.10677341891529357,
          0.17663318223100236,
          0.06587152986845254,
          -0.24893258540938726,
          -0.24471124602036423,
          -0.2263184235273834,
          0.06732465208735047,
          0.03743373853118908,
          -0.13905720664866225,
          -0.31599654883585726,
          0.22719091956955625,
          0.08695100949359526,
          -0.19617072451042186,
          0.0193403118722824,
          -0.10553358697538964,
          -0.15656747389374376,
          0.11047314896141844
         ]
        },
        {
         "hovertemplate": "<b>%{hovertext}</b><br><br>group=non_westernized<br>PC1=%{x}<br>PC2=%{y}<br>PC3=%{z}<extra></extra>",
         "hovertext": [
          "V31_01_2FE",
          "A85_01_1FE",
          "A27_02_1FE",
          "JAS_1",
          "A59_01_1FE",
          "A19_01_1FE",
          "A04_01_1FE",
          "A75_02_1FE",
          "TZ_29321",
          "A28_02_1FE",
          "LDK_5",
          "A11_01_1FE",
          "A07_01_1FE",
          "A81_03_1FE",
          "JAS_5",
          "TZ_91827",
          "LDK_9",
          "A72_02_1FE",
          "A91_02_1FE",
          "A70_03_1FE",
          "TZ_60579",
          "A36_01_1FE",
          "TZ_37609",
          "A20_01_1FE",
          "A01_02_1FE",
          "TZ_65642",
          "TZ_83627",
          "KHG_4",
          "A46_01_1FE",
          "TZ_10742",
          "LDK_1-2",
          "V50_01_1FE",
          "A79_02_1FE",
          "TZ_47979",
          "V53_02_1FE",
          "A47_01_1FE",
          "A43_02_1FE",
          "JAS_8",
          "V06_02_1FE",
          "JAS_4",
          "LDK_8",
          "A54_02_1FE",
          "A82_02_1FE",
          "TZ_83788",
          "A25_01_1FE",
          "A09_02_1FE",
          "LDK_2",
          "V36_02_2FE",
          "LDK_3",
          "A06_01_1FE",
          "TZ_93321",
          "TZ_73414",
          "A39_04_1FE",
          "KHG_11",
          "V07_02_2FE",
          "KHG_6",
          "A62_01_1FE",
          "TZ_41014",
          "V48_03_2FE",
          "A73_02_1FE",
          "A73_01_1FE",
          "JAS_7",
          "A68_01_1FE",
          "TZ_24827",
          "A92_01_1FE",
          "A15_02_1FE",
          "JAS_2",
          "A55_01_1FE",
          "V54_01_1FE",
          "A23_01_1FE",
          "A44_01_1FE",
          "A03_01_1FE",
          "V19_01_2FE",
          "TZ_61717",
          "A88_02_1FE",
          "A47_02_1FE",
          "TZ_21618",
          "A90_04_1FE",
          "TZ_67706",
          "A58_03_1FE",
          "TZ_83985",
          "A08_01_1FE",
          "A53_01_1FE",
          "TZ_42041",
          "A94_02_1FE",
          "A04_04_1FE",
          "TZ_38244",
          "A41_01_1FE",
          "A10_01_1FE",
          "A89_02_1FE",
          "A46_02_1FE",
          "TZ_87532",
          "A94_01_1FE",
          "KHG_7",
          "LDK_4",
          "KHG_9",
          "A48_01_1FE",
          "KHG_1",
          "TZ_81781",
          "A09_01_1FE"
         ],
         "legendgroup": "non_westernized",
         "marker": {
          "color": "#00cc96",
          "symbol": "circle"
         },
         "mode": "markers",
         "name": "non_westernized",
         "scene": "scene",
         "showlegend": true,
         "type": "scatter3d",
         "x": [
          -0.36779226768997203,
          -0.24347427996621382,
          0.12633508008846164,
          -0.3549068870108998,
          -0.21027702846048762,
          -0.0038126982957768143,
          -0.37000538608262173,
          -0.16479528695643575,
          -0.242920872312232,
          0.02889524779193485,
          -0.24767486505305136,
          0.031421941624119244,
          -0.04791631052982781,
          -0.23803208979226198,
          -0.3014866967051922,
          0.10143833552519015,
          -0.4385988881169953,
          -0.3458683844923347,
          0.037111499414791554,
          -0.061639489477088034,
          0.06505701768271116,
          -0.06149697122999179,
          -0.18268521708149654,
          -0.10057749596398223,
          -0.051644803609666015,
          -0.11747750424661856,
          0.03641626032064037,
          -0.4675232910884687,
          -0.26172244092935715,
          0.09405510569527095,
          -0.4587660361737736,
          -0.15625761750064063,
          0.042585210691471864,
          -0.20482327943773457,
          0.040481233096215485,
          -0.16024699579427276,
          -0.3947335891389116,
          0.14397542529442048,
          -0.03790409922374296,
          -0.3001311285198881,
          -0.39398886032178176,
          -0.17260147285698677,
          0.03503973659068657,
          -0.3378394785364661,
          -0.15808446722627356,
          0.037092869979723116,
          -0.44398514877928386,
          -0.0059065800138413576,
          -0.505046202986173,
          -0.4766594350718524,
          -0.23930890001779048,
          -0.13346225446859758,
          0.01779602785669585,
          -0.3679046989233537,
          -0.02354749461124321,
          0.03542836360637974,
          -0.0023082822236821406,
          -0.08701877453968741,
          -0.09840815427392327,
          -0.026010076751828825,
          -0.05592692171966533,
          -0.41679264659332443,
          0.033672660788309536,
          0.09806709474307586,
          0.02980765310227696,
          0.07010024122975254,
          -0.09997375808376364,
          0.2238616977200006,
          -0.06830864591224431,
          0.027094927851626212,
          -0.018891587920232402,
          -0.36519894726351104,
          -0.27682058591359915,
          0.05299875054943667,
          0.030831137962161963,
          0.04362902768198678,
          0.10828304241305263,
          -0.01629275859184033,
          -0.059978707506369196,
          0.0645626585784761,
          -0.3765583368231373,
          -0.004085540433228048,
          -0.0324415938526663,
          -0.07257566712591768,
          -0.10972041581438702,
          -0.2776901518955246,
          -0.29482964720708615,
          0.00854425874852224,
          -0.4083600557944527,
          -0.07706555310946216,
          0.03694510487668069,
          0.09687741133437708,
          -0.42450004591030005,
          0.06858815581840866,
          -0.4305467978337934,
          -0.29219023786865883,
          -0.10532895886845949,
          0.10436613165688925,
          -0.4088385096044326,
          -0.0855795925844859
         ],
         "y": [
          0.13089364959287372,
          0.02331448417496768,
          -0.0896192072771589,
          -0.09782228265869553,
          0.12528654677670684,
          0.5677983613644725,
          0.164654852289152,
          -0.08006622054597033,
          -0.008672722358223908,
          0.23098885384429846,
          -0.18086159386080974,
          0.2191464048882443,
          -0.04263971504010229,
          -0.13478645897816086,
          -0.1271815044824075,
          0.03075775506815336,
          -0.09194010202720514,
          -0.030940186247235484,
          -0.07538774485284445,
          0.01605082043437295,
          -0.007886263035504314,
          0.26070355686477786,
          -0.025483761293757994,
          0.4659212793412043,
          0.2513595877195414,
          -0.009599054214527508,
          0.11623272008297222,
          -0.08643037537365982,
          -0.09166691317773341,
          -0.010776232513180614,
          -0.09676791249291887,
          0.33809898805059907,
          0.10790753092930042,
          -0.0948213100859218,
          0.5264109093795305,
          0.39435190750814986,
          0.025743038255078027,
          -0.151506796788112,
          -0.052487176670340537,
          -0.12574629160871026,
          -0.14810683411568495,
          0.2604189522764798,
          0.26443689032140566,
          -0.13684596560472015,
          -0.08130763204775673,
          0.556054065891449,
          -0.10347810675317254,
          0.26106960005326013,
          -0.06767544414337001,
          -0.10067435429025401,
          -0.0966741765463022,
          -0.08199328212095955,
          0.5702040204852526,
          -0.14633604897141428,
          -0.031052740506863612,
          -0.053964503618833384,
          0.33768542800704476,
          -0.08147007136727462,
          0.0683434654747955,
          0.18061427827264281,
          0.035766134060851794,
          -0.12035779801632812,
          0.5499848715302448,
          -0.056637879920134616,
          0.3194455562943313,
          0.07954027990816363,
          -0.10055706820047451,
          -0.05632544029950574,
          0.3735239962459284,
          0.22112999974808206,
          0.33942056941357474,
          -0.030604135338419023,
          0.07129897523310447,
          0.012852403207176809,
          0.5740997622094792,
          0.5587874686990782,
          0.04218703848847155,
          0.043637812265062,
          -0.05216093166109956,
          0.16476008078177004,
          -0.13314030098960367,
          0.22501825184115884,
          0.0944033847236909,
          -0.024834321462473833,
          -0.06586257112308315,
          -0.02220149771740745,
          -0.12213013928565486,
          0.30701072059967033,
          -0.02191924782426885,
          -0.06591502381508459,
          0.08606919020561332,
          0.0012827025818715632,
          -0.11279893732091438,
          0.14332984833365559,
          -0.03582449063623013,
          -0.1491078339124406,
          0.03221306497398521,
          0.16805560435513986,
          -0.13971576211352033,
          0.47165856537093453
         ],
         "z": [
          -0.05555304626150211,
          0.01887195246393407,
          0.09496757441501433,
          -0.006497729909312225,
          0.1422354704876581,
          0.031283007529948885,
          0.008375098091507707,
          0.169521799231331,
          0.10873278714490105,
          0.24209453585138824,
          -0.17071799411982225,
          0.10051255658181989,
          0.22035434063287485,
          0.04980000524779206,
          0.07238868451304017,
          0.24162123396469734,
          -0.21402074086307762,
          0.03172297630264543,
          0.07587264311931703,
          0.08890902607085943,
          0.25548222050828456,
          0.12787595745170754,
          0.18327034740083567,
          0.008058327213913741,
          0.0826750612071495,
          0.19887442411946166,
          0.16887932281794335,
          -0.17036379728656978,
          -0.040177080043165225,
          0.29581842903066163,
          -0.20753981228164847,
          0.1319323903671831,
          0.2176509564163635,
          0.1502689181834761,
          0.06903390769410545,
          0.10837051067930793,
          -0.1402171212140089,
          0.11775676313809795,
          0.17403161899537245,
          0.06879520040135904,
          -0.06339554362573532,
          0.11606552793380479,
          0.12084765615949804,
          0.03880006282542999,
          0.08725263356977224,
          0.022707927230802144,
          -0.20256254484418912,
          0.10420976481910496,
          -0.26481342697268084,
          -0.2525678229244111,
          0.18155772039087437,
          0.2400987148354796,
          -0.03544130564844243,
          -0.09721125164740098,
          0.06622566100603641,
          0.17226756262972756,
          -0.010195257279177061,
          0.29390420798849237,
          0.1655379363052155,
          -0.05574653697769907,
          0.20159003297889694,
          -0.1004235511639039,
          -0.007349536409809097,
          0.3011128254796534,
          0.18307573109635492,
          -0.07871226116094948,
          0.1841654782135269,
          -0.17090074767127073,
          0.1244896491248335,
          0.18106293089775613,
          0.1592541263219949,
          0.0015445891071065323,
          0.042068304051241776,
          0.2000644935740487,
          0.02576563377889934,
          -0.04858676641914054,
          0.2800945906699621,
          0.1040411596221039,
          0.24256662463282105,
          -0.025519430624371044,
          0.056600850352887006,
          0.2219910653185738,
          0.12345598401214823,
          0.26925335469549533,
          0.1439931762521503,
          0.06989821794119334,
          0.12817483645518052,
          0.06881102430190443,
          -0.15336706358089294,
          0.12489271902606489,
          0.18596611293156579,
          0.29014068083175065,
          -0.12384620398761288,
          0.0728798525929224,
          -0.1604737449550782,
          0.027031624230514844,
          0.16373156483987042,
          0.011174562053167164,
          -0.05666307262111582,
          0.07238234037786401
         ]
        }
       ],
       "layout": {
        "autosize": true,
        "legend": {
         "title": {
          "text": "group"
         },
         "tracegroupgap": 0
        },
        "margin": {
         "t": 60
        },
        "scene": {
         "aspectmode": "auto",
         "aspectratio": {
          "x": 1.0402009029653172,
          "y": 1.0351724050367772,
          "z": 0.9286885417837732
         },
         "camera": {
          "center": {
           "x": 0,
           "y": 0,
           "z": 0
          },
          "eye": {
           "x": -1.2788189835342402e-16,
           "y": 5.697280704280018e-18,
           "z": -2.090541462663353
          },
          "projection": {
           "type": "perspective"
          },
          "up": {
           "x": 0,
           "y": 0,
           "z": 1
          }
         },
         "domain": {
          "x": [
           0,
           1
          ],
          "y": [
           0,
           1
          ]
         },
         "xaxis": {
          "title": {
           "text": "PC1"
          },
          "type": "linear"
         },
         "yaxis": {
          "title": {
           "text": "PC2"
          },
          "type": "linear"
         },
         "zaxis": {
          "title": {
           "text": "PC3"
          },
          "type": "linear"
         }
        },
        "template": {
         "data": {
          "bar": [
           {
            "error_x": {
             "color": "#2a3f5f"
            },
            "error_y": {
             "color": "#2a3f5f"
            },
            "marker": {
             "line": {
              "color": "#E5ECF6",
              "width": 0.5
             },
             "pattern": {
              "fillmode": "overlay",
              "size": 10,
              "solidity": 0.2
             }
            },
            "type": "bar"
           }
          ],
          "barpolar": [
           {
            "marker": {
             "line": {
              "color": "#E5ECF6",
              "width": 0.5
             },
             "pattern": {
              "fillmode": "overlay",
              "size": 10,
              "solidity": 0.2
             }
            },
            "type": "barpolar"
           }
          ],
          "carpet": [
           {
            "aaxis": {
             "endlinecolor": "#2a3f5f",
             "gridcolor": "white",
             "linecolor": "white",
             "minorgridcolor": "white",
             "startlinecolor": "#2a3f5f"
            },
            "baxis": {
             "endlinecolor": "#2a3f5f",
             "gridcolor": "white",
             "linecolor": "white",
             "minorgridcolor": "white",
             "startlinecolor": "#2a3f5f"
            },
            "type": "carpet"
           }
          ],
          "choropleth": [
           {
            "colorbar": {
             "outlinewidth": 0,
             "ticks": ""
            },
            "type": "choropleth"
           }
          ],
          "contour": [
           {
            "colorbar": {
             "outlinewidth": 0,
             "ticks": ""
            },
            "colorscale": [
             [
              0,
              "#0d0887"
             ],
             [
              0.1111111111111111,
              "#46039f"
             ],
             [
              0.2222222222222222,
              "#7201a8"
             ],
             [
              0.3333333333333333,
              "#9c179e"
             ],
             [
              0.4444444444444444,
              "#bd3786"
             ],
             [
              0.5555555555555556,
              "#d8576b"
             ],
             [
              0.6666666666666666,
              "#ed7953"
             ],
             [
              0.7777777777777778,
              "#fb9f3a"
             ],
             [
              0.8888888888888888,
              "#fdca26"
             ],
             [
              1,
              "#f0f921"
             ]
            ],
            "type": "contour"
           }
          ],
          "contourcarpet": [
           {
            "colorbar": {
             "outlinewidth": 0,
             "ticks": ""
            },
            "type": "contourcarpet"
           }
          ],
          "heatmap": [
           {
            "colorbar": {
             "outlinewidth": 0,
             "ticks": ""
            },
            "colorscale": [
             [
              0,
              "#0d0887"
             ],
             [
              0.1111111111111111,
              "#46039f"
             ],
             [
              0.2222222222222222,
              "#7201a8"
             ],
             [
              0.3333333333333333,
              "#9c179e"
             ],
             [
              0.4444444444444444,
              "#bd3786"
             ],
             [
              0.5555555555555556,
              "#d8576b"
             ],
             [
              0.6666666666666666,
              "#ed7953"
             ],
             [
              0.7777777777777778,
              "#fb9f3a"
             ],
             [
              0.8888888888888888,
              "#fdca26"
             ],
             [
              1,
              "#f0f921"
             ]
            ],
            "type": "heatmap"
           }
          ],
          "heatmapgl": [
           {
            "colorbar": {
             "outlinewidth": 0,
             "ticks": ""
            },
            "colorscale": [
             [
              0,
              "#0d0887"
             ],
             [
              0.1111111111111111,
              "#46039f"
             ],
             [
              0.2222222222222222,
              "#7201a8"
             ],
             [
              0.3333333333333333,
              "#9c179e"
             ],
             [
              0.4444444444444444,
              "#bd3786"
             ],
             [
              0.5555555555555556,
              "#d8576b"
             ],
             [
              0.6666666666666666,
              "#ed7953"
             ],
             [
              0.7777777777777778,
              "#fb9f3a"
             ],
             [
              0.8888888888888888,
              "#fdca26"
             ],
             [
              1,
              "#f0f921"
             ]
            ],
            "type": "heatmapgl"
           }
          ],
          "histogram": [
           {
            "marker": {
             "pattern": {
              "fillmode": "overlay",
              "size": 10,
              "solidity": 0.2
             }
            },
            "type": "histogram"
           }
          ],
          "histogram2d": [
           {
            "colorbar": {
             "outlinewidth": 0,
             "ticks": ""
            },
            "colorscale": [
             [
              0,
              "#0d0887"
             ],
             [
              0.1111111111111111,
              "#46039f"
             ],
             [
              0.2222222222222222,
              "#7201a8"
             ],
             [
              0.3333333333333333,
              "#9c179e"
             ],
             [
              0.4444444444444444,
              "#bd3786"
             ],
             [
              0.5555555555555556,
              "#d8576b"
             ],
             [
              0.6666666666666666,
              "#ed7953"
             ],
             [
              0.7777777777777778,
              "#fb9f3a"
             ],
             [
              0.8888888888888888,
              "#fdca26"
             ],
             [
              1,
              "#f0f921"
             ]
            ],
            "type": "histogram2d"
           }
          ],
          "histogram2dcontour": [
           {
            "colorbar": {
             "outlinewidth": 0,
             "ticks": ""
            },
            "colorscale": [
             [
              0,
              "#0d0887"
             ],
             [
              0.1111111111111111,
              "#46039f"
             ],
             [
              0.2222222222222222,
              "#7201a8"
             ],
             [
              0.3333333333333333,
              "#9c179e"
             ],
             [
              0.4444444444444444,
              "#bd3786"
             ],
             [
              0.5555555555555556,
              "#d8576b"
             ],
             [
              0.6666666666666666,
              "#ed7953"
             ],
             [
              0.7777777777777778,
              "#fb9f3a"
             ],
             [
              0.8888888888888888,
              "#fdca26"
             ],
             [
              1,
              "#f0f921"
             ]
            ],
            "type": "histogram2dcontour"
           }
          ],
          "mesh3d": [
           {
            "colorbar": {
             "outlinewidth": 0,
             "ticks": ""
            },
            "type": "mesh3d"
           }
          ],
          "parcoords": [
           {
            "line": {
             "colorbar": {
              "outlinewidth": 0,
              "ticks": ""
             }
            },
            "type": "parcoords"
           }
          ],
          "pie": [
           {
            "automargin": true,
            "type": "pie"
           }
          ],
          "scatter": [
           {
            "marker": {
             "colorbar": {
              "outlinewidth": 0,
              "ticks": ""
             }
            },
            "type": "scatter"
           }
          ],
          "scatter3d": [
           {
            "line": {
             "colorbar": {
              "outlinewidth": 0,
              "ticks": ""
             }
            },
            "marker": {
             "colorbar": {
              "outlinewidth": 0,
              "ticks": ""
             }
            },
            "type": "scatter3d"
           }
          ],
          "scattercarpet": [
           {
            "marker": {
             "colorbar": {
              "outlinewidth": 0,
              "ticks": ""
             }
            },
            "type": "scattercarpet"
           }
          ],
          "scattergeo": [
           {
            "marker": {
             "colorbar": {
              "outlinewidth": 0,
              "ticks": ""
             }
            },
            "type": "scattergeo"
           }
          ],
          "scattergl": [
           {
            "marker": {
             "colorbar": {
              "outlinewidth": 0,
              "ticks": ""
             }
            },
            "type": "scattergl"
           }
          ],
          "scattermapbox": [
           {
            "marker": {
             "colorbar": {
              "outlinewidth": 0,
              "ticks": ""
             }
            },
            "type": "scattermapbox"
           }
          ],
          "scatterpolar": [
           {
            "marker": {
             "colorbar": {
              "outlinewidth": 0,
              "ticks": ""
             }
            },
            "type": "scatterpolar"
           }
          ],
          "scatterpolargl": [
           {
            "marker": {
             "colorbar": {
              "outlinewidth": 0,
              "ticks": ""
             }
            },
            "type": "scatterpolargl"
           }
          ],
          "scatterternary": [
           {
            "marker": {
             "colorbar": {
              "outlinewidth": 0,
              "ticks": ""
             }
            },
            "type": "scatterternary"
           }
          ],
          "surface": [
           {
            "colorbar": {
             "outlinewidth": 0,
             "ticks": ""
            },
            "colorscale": [
             [
              0,
              "#0d0887"
             ],
             [
              0.1111111111111111,
              "#46039f"
             ],
             [
              0.2222222222222222,
              "#7201a8"
             ],
             [
              0.3333333333333333,
              "#9c179e"
             ],
             [
              0.4444444444444444,
              "#bd3786"
             ],
             [
              0.5555555555555556,
              "#d8576b"
             ],
             [
              0.6666666666666666,
              "#ed7953"
             ],
             [
              0.7777777777777778,
              "#fb9f3a"
             ],
             [
              0.8888888888888888,
              "#fdca26"
             ],
             [
              1,
              "#f0f921"
             ]
            ],
            "type": "surface"
           }
          ],
          "table": [
           {
            "cells": {
             "fill": {
              "color": "#EBF0F8"
             },
             "line": {
              "color": "white"
             }
            },
            "header": {
             "fill": {
              "color": "#C8D4E3"
             },
             "line": {
              "color": "white"
             }
            },
            "type": "table"
           }
          ]
         },
         "layout": {
          "annotationdefaults": {
           "arrowcolor": "#2a3f5f",
           "arrowhead": 0,
           "arrowwidth": 1
          },
          "autotypenumbers": "strict",
          "coloraxis": {
           "colorbar": {
            "outlinewidth": 0,
            "ticks": ""
           }
          },
          "colorscale": {
           "diverging": [
            [
             0,
             "#8e0152"
            ],
            [
             0.1,
             "#c51b7d"
            ],
            [
             0.2,
             "#de77ae"
            ],
            [
             0.3,
             "#f1b6da"
            ],
            [
             0.4,
             "#fde0ef"
            ],
            [
             0.5,
             "#f7f7f7"
            ],
            [
             0.6,
             "#e6f5d0"
            ],
            [
             0.7,
             "#b8e186"
            ],
            [
             0.8,
             "#7fbc41"
            ],
            [
             0.9,
             "#4d9221"
            ],
            [
             1,
             "#276419"
            ]
           ],
           "sequential": [
            [
             0,
             "#0d0887"
            ],
            [
             0.1111111111111111,
             "#46039f"
            ],
            [
             0.2222222222222222,
             "#7201a8"
            ],
            [
             0.3333333333333333,
             "#9c179e"
            ],
            [
             0.4444444444444444,
             "#bd3786"
            ],
            [
             0.5555555555555556,
             "#d8576b"
            ],
            [
             0.6666666666666666,
             "#ed7953"
            ],
            [
             0.7777777777777778,
             "#fb9f3a"
            ],
            [
             0.8888888888888888,
             "#fdca26"
            ],
            [
             1,
             "#f0f921"
            ]
           ],
           "sequentialminus": [
            [
             0,
             "#0d0887"
            ],
            [
             0.1111111111111111,
             "#46039f"
            ],
            [
             0.2222222222222222,
             "#7201a8"
            ],
            [
             0.3333333333333333,
             "#9c179e"
            ],
            [
             0.4444444444444444,
             "#bd3786"
            ],
            [
             0.5555555555555556,
             "#d8576b"
            ],
            [
             0.6666666666666666,
             "#ed7953"
            ],
            [
             0.7777777777777778,
             "#fb9f3a"
            ],
            [
             0.8888888888888888,
             "#fdca26"
            ],
            [
             1,
             "#f0f921"
            ]
           ]
          },
          "colorway": [
           "#636efa",
           "#EF553B",
           "#00cc96",
           "#ab63fa",
           "#FFA15A",
           "#19d3f3",
           "#FF6692",
           "#B6E880",
           "#FF97FF",
           "#FECB52"
          ],
          "font": {
           "color": "#2a3f5f"
          },
          "geo": {
           "bgcolor": "white",
           "lakecolor": "white",
           "landcolor": "#E5ECF6",
           "showlakes": true,
           "showland": true,
           "subunitcolor": "white"
          },
          "hoverlabel": {
           "align": "left"
          },
          "hovermode": "closest",
          "mapbox": {
           "style": "light"
          },
          "paper_bgcolor": "white",
          "plot_bgcolor": "#E5ECF6",
          "polar": {
           "angularaxis": {
            "gridcolor": "white",
            "linecolor": "white",
            "ticks": ""
           },
           "bgcolor": "#E5ECF6",
           "radialaxis": {
            "gridcolor": "white",
            "linecolor": "white",
            "ticks": ""
           }
          },
          "scene": {
           "xaxis": {
            "backgroundcolor": "#E5ECF6",
            "gridcolor": "white",
            "gridwidth": 2,
            "linecolor": "white",
            "showbackground": true,
            "ticks": "",
            "zerolinecolor": "white"
           },
           "yaxis": {
            "backgroundcolor": "#E5ECF6",
            "gridcolor": "white",
            "gridwidth": 2,
            "linecolor": "white",
            "showbackground": true,
            "ticks": "",
            "zerolinecolor": "white"
           },
           "zaxis": {
            "backgroundcolor": "#E5ECF6",
            "gridcolor": "white",
            "gridwidth": 2,
            "linecolor": "white",
            "showbackground": true,
            "ticks": "",
            "zerolinecolor": "white"
           }
          },
          "shapedefaults": {
           "line": {
            "color": "#2a3f5f"
           }
          },
          "ternary": {
           "aaxis": {
            "gridcolor": "white",
            "linecolor": "white",
            "ticks": ""
           },
           "baxis": {
            "gridcolor": "white",
            "linecolor": "white",
            "ticks": ""
           },
           "bgcolor": "#E5ECF6",
           "caxis": {
            "gridcolor": "white",
            "linecolor": "white",
            "ticks": ""
           }
          },
          "title": {
           "x": 0.05
          },
          "xaxis": {
           "automargin": true,
           "gridcolor": "white",
           "linecolor": "white",
           "ticks": "",
           "title": {
            "standoff": 15
           },
           "zerolinecolor": "white",
           "zerolinewidth": 2
          },
          "yaxis": {
           "automargin": true,
           "gridcolor": "white",
           "linecolor": "white",
           "ticks": "",
           "title": {
            "standoff": 15
           },
           "zerolinecolor": "white",
           "zerolinewidth": 2
          }
         }
        }
       }
      },
      "image/png": "[encoded data removed]",
      "text/html": [
       "<div>                            <div id=\"023b43ea-3cb5-46ab-ae0a-b7511b260cbe\" class=\"plotly-graph-div\" style=\"height:525px; width:100%;\"></div>            <script type=\"text/javascript\">                require([\"plotly\"], function(Plotly) {                    window.PLOTLYENV=window.PLOTLYENV || {};                                    if (document.getElementById(\"023b43ea-3cb5-46ab-ae0a-b7511b260cbe\")) {                    Plotly.newPlot(                        \"023b43ea-3cb5-46ab-ae0a-b7511b260cbe\",                        [{\"hovertemplate\":\"<b>%{hovertext}</b><br><br>group=ZSM028<br>PC1=%{x}<br>PC2=%{y}<br>PC3=%{z}<extra></extra>\",\"hovertext\":[\"ZSM028\"],\"legendgroup\":\"ZSM028\",\"marker\":{\"color\":\"#636efa\",\"symbol\":\"circle\"},\"mode\":\"markers\",\"name\":\"ZSM028\",\"scene\":\"scene\",\"showlegend\":true,\"type\":\"scatter3d\",\"x\":[-0.4397753360409904],\"y\":[-0.032503235037054656],\"z\":[-0.27104612847677373]},{\"hovertemplate\":\"<b>%{hovertext}</b><br><br>group=westernized<br>PC1=%{x}<br>PC2=%{y}<br>PC3=%{z}<extra></extra>\",\"hovertext\":[\"de028ad4-7ae6-11e9-a106-68b59976a384\",\"PNP_Main_283\",\"PNP_Validation_55\",\"G80275\",\"PNP_Main_363\",\"SAMEA7045572\",\"SAMEA7045355\",\"HD-13\",\"EGAR00001420773_9002000001423910\",\"SID5428-4\",\"G88848\",\"G88743\",\"PNP_Main_161\",\"SAMEA7045443\",\"SAMEA7045434\",\"PNP_Validation_96\",\"G80532\",\"EGAR00001420742_9002000001415730\",\"SAMEA7045220\",\"G88982\",\"EGAR00001420843_9002000001441150\",\"a48719f0-7ae6-11e9-a106-68b59976a384\",\"EGAR00001420336_9002000001272430\",\"SID103_4M\",\"EGAR00001420568_9002000001370790\",\"EGAR00001420295_9002000001258923\",\"G88782\",\"G80373\",\"EGAR00001420244_9002000001236274\",\"PNP_Main_398\",\"ESS-0243\",\"HSM5MD8H_P\",\"EGAR00001420873_9002000001447911\",\"G89260\",\"SID39_12M\",\"aaf6076a-7ae6-11e9-a106-68b59976a384\",\"EGAR00001420459_9002000001336350\",\"HD-30\",\"SID570_4M\",\"ESS-0208\",\"G80371\",\"dc239b54-7ae6-11e9-a106-68b59976a384\",\"MH0456\",\"DHAK_HN\",\"EGAR00001420696_9002000001402983\",\"Travel054\",\"EGAR00001421017_9002000001486419\",\"PNP_Main_508\",\"DHAK_HB\",\"MH0430\",\"SAMEA7045516\",\"G88997\",\"G88966\",\"SID5427-1\",\"SAMEA7045144\",\"SID8c0a6d5a-7ae6-11e9-a106-68b59976a384\",\"EGAR00001420242_9002000001235670\",\"G80616\",\"PNP_Main_440\",\"SID64cff2e6-7ae6-11e9-a106-68b59976a384\",\"SAMEA7045776\",\"DHAK_HDA\",\"SAMEA7045686\",\"EGAR00001420221_9002000001228512\",\"SAMEA104142088\",\"SID504_12M\",\"SAMEA7045298\",\"YEZ_N-23\",\"EGAR00001420666_9002000001395260\",\"G80565\",\"G88929\",\"SID6eb0cd1c-7ae6-11e9-a106-68b59976a384\",\"SID9a17daae-7ae6-11e9-a106-68b59976a384\",\"cd74a670-7ae6-11e9-a106-68b59976a384\",\"ac725ce2-7ae6-11e9-a106-68b59976a384\",\"d7fa5842-7ae6-11e9-a106-68b59976a384\",\"MH0458\",\"EGAR00001420766_9002000001422322\",\"EGAR00001420538_9002000001360382LL\",\"Travel115\",\"MSM79H81\",\"MH0139\",\"SID8bc1311c-7ae6-11e9-a106-68b59976a384\",\"SAMEA7045662\",\"PNP_Main_65\",\"EGAR00001421055_9002000001503823\",\"MH0164\",\"SAMEA7041184\",\"G80265\",\"G88988\",\"SAMEA7045071\",\"SAMEA7045948\",\"MSM9VZFR\",\"EGAR00001420999_9002000001480470\",\"G89017\",\"SID7197b6ee-7ae6-11e9-a106-68b59976a384\",\"PNP_Main_358\",\"G78895\",\"a4b551a8-7ae6-11e9-a106-68b59976a384\",\"Travel023\"],\"legendgroup\":\"westernized\",\"marker\":{\"color\":\"#EF553B\",\"symbol\":\"circle\"},\"mode\":\"markers\",\"name\":\"westernized\",\"scene\":\"scene\",\"showlegend\":true,\"type\":\"scatter3d\",\"x\":[0.09264948961934964,0.2179990031733819,-0.25398412441589496,0.2539409159877866,0.2229798257684362,0.28687441250766543,0.2371803423331695,0.26935039315941606,0.2106950391507153,0.24858837172269302,-0.21746779287716783,-0.07687993286654626,-0.20486765198243456,0.2659514649629568,0.06456519842862089,-0.3869497457396835,0.26525062597433824,0.10830191544952221,0.2808872008700521,-0.2998344768784067,0.2211833491738579,0.10863481069007737,0.18379438172468462,0.1071411203575101,0.25793174351666603,0.14524627021531974,0.2531047904115183,0.27540133245441184,0.17507652368029097,0.27927798378921603,0.28004922763449475,0.1572698663511739,0.19099556416902022,0.21818054176454757,0.2522460131152129,0.23604126769809483,0.16802010202967876,0.11842350184121682,0.23323132925322138,0.28712022133030757,0.19854679940811248,0.15265860687979937,0.2554547180528031,-0.5108143743020136,0.1869019902564255,0.0904520361599735,0.17103712343510624,0.25175053963564914,-0.39111612929118794,0.1270318438771523,0.24654813172056902,0.20663414429518012,0.14166140896190194,0.15635459274503188,0.2786626030773563,-0.25780334431518265,0.21018813175131199,0.20513849819391605,0.1387246645205536,0.1384756090232221,0.31600396746032494,-0.10486073762338653,0.23893924980242884,0.22476871790282632,-0.4013221021073002,0.1795383769651578,0.24491509295203498,0.29637745698012236,0.19482842258991429,0.2144901763367211,0.25133215975890416,0.09899123558389471,0.23922112242009608,0.12391634965611938,0.17272992177867388,0.10219009864444406,0.25889261491882,0.03078536847818799,0.19923971840899315,-0.3304550432400783,0.1760578142677142,0.2415111192777458,0.09950535784630708,0.2604525229055765,0.0824248696369706,0.23461904603656059,-0.4292107242993742,0.23622522344347124,0.233349465625198,0.21716078470820827,0.19319969062893774,0.2822231281851096,0.2837150964644473,0.1996320608471858,0.22786554584336993,0.12151719889692723,-0.11922147191331106,0.14314863352647555,0.16693468688680074,0.1824636463250937],\"y\":[0.1430911849974163,-0.14677356592265325,-0.1765346628905536,-0.08023289643515777,-0.18391435157722286,-0.20551015550292553,-0.18494506452862355,-0.13502435951999517,-0.15815551707076828,-0.1007229385821113,-0.18029934223623242,-0.21080570931112722,-0.248721607134379,-0.15500205526266667,-0.1512038043155943,-0.15490785277924862,0.05771880041594761,-0.14223588085996994,-0.22808929720705706,-0.18056230434570994,-0.10048773463796236,0.5288547418257264,-0.13864599523295343,0.17110916714916802,-0.14697464965410792,-0.11102451190993506,-0.21747931655305636,-0.024746285569775997,-0.12247862943241995,-0.06120094886702477,-0.07152601743131325,-0.12446962638572728,0.07078775736423226,-0.03988497903338339,-0.05947658368442664,0.08069513021537511,-0.14959350748155342,-0.028864556821116036,0.09192250559012041,-0.1135014807088959,0.05434089138463034,0.030378443141952708,-0.008733970987077774,-0.03572586709390213,-0.1280292559043243,-0.17979574622640768,-0.06727410378661922,-0.10239539537681548,-0.1654012109221777,-0.09010564736052595,-0.1967588387959874,-0.21180816852976134,-0.08582533022020318,-0.10883762986322966,-0.2144384351269792,-0.1354202824591557,-0.09362749505173559,0.3402590871385395,-0.15127343280226327,0.19445080126489617,-0.2189641042874653,-0.028217368805028783,-0.1842476531634445,-0.1667504749330853,-0.08014084992515758,-0.05736518094016054,-0.2019239682057987,-0.037555244960907716,-0.1326361890283157,0.08579041123852826,-0.13133006630769456,0.1577635470764545,0.2304451909398018,0.03607501947867608,0.09555007345935869,0.16860414102762014,-0.15950764748623442,-0.14936482149474398,-0.1501383210799672,-0.16672296280024954,-0.03872284574427026,-0.18420770129184577,0.15421572183856444,-0.20326614175777805,-0.16740711847424736,-0.13890180135140254,-0.12484521093800094,-0.010126023193098556,-0.07274717756157958,-0.12162360119616211,-0.12987597776022033,-0.1345890868515399,-0.0901489823685419,-0.17994328440904284,-0.16782385053363913,0.45922053734572077,-0.24427818215165856,0.05155334179798301,0.15562400359261966,-0.2002902879635284],\"z\":[-0.19976865890065246,0.10986851727441095,-0.3002573224896541,-0.25920846325597774,0.02067819868914966,-0.08111520946208699,-0.020105561112740145,-0.2436651978342985,0.1824179589057947,-0.06570629378282836,0.05426966654957113,0.1565402474592453,-0.05705193203828943,-0.0042164419712111155,-0.09275265171947995,-0.28231882627290494,-0.4370683450446197,0.2362650360569315,-0.04046302431109122,0.007376028910407812,0.20543849773587597,-0.058948974915219776,0.12348611983133978,-0.26244441998925205,-0.09934301696704777,0.15435901493525064,0.09398365596583685,-0.28741313080068753,0.22327532989245255,-0.21298217319805768,-0.2751327083749966,-0.0018108322072290768,0.07819725918283885,0.1190667341940775,-0.16724383273171506,-0.31722113581807926,0.2353178415279072,-0.11655913251711932,-0.3782745871961475,-0.2927616172908593,-0.28321608757767663,-0.0749598518077126,-0.21969763957045588,-0.3119498566959766,0.24599222285735223,-0.006605671876386379,0.2744293543467703,-0.2622113551488974,-0.1191812029835527,0.048378651987301326,0.07924513214940748,0.08241682344065944,0.24048524918948944,0.04261903258343941,-0.006084558851054868,-0.15539420045501523,0.08154157389597996,-0.31206681803904096,0.011773933836508522,-0.279339353237597,-0.08441511512231173,0.008634113279188142,0.07559533401570714,0.1726018955260479,-0.23968734028529518,-0.060496345446106554,-0.021080880491853377,-0.41422051831316425,0.11335238018937835,-0.2905209664386724,0.03469961229295132,-0.23221430312088473,-0.3477364635769576,-0.09159836484889224,-0.17125201048745123,-0.24932542545648675,-0.18985120486899834,0.17054247840878653,0.14010444292923344,-0.03345535692409826,-0.24201282531314308,-0.13559919408502863,-0.22898125445355214,-0.10677341891529357,0.17663318223100236,0.06587152986845254,-0.24893258540938726,-0.24471124602036423,-0.2263184235273834,0.06732465208735047,0.03743373853118908,-0.13905720664866225,-0.31599654883585726,0.22719091956955625,0.08695100949359526,-0.19617072451042186,0.0193403118722824,-0.10553358697538964,-0.15656747389374376,0.11047314896141844]},{\"hovertemplate\":\"<b>%{hovertext}</b><br><br>group=non_westernized<br>PC1=%{x}<br>PC2=%{y}<br>PC3=%{z}<extra></extra>\",\"hovertext\":[\"V31_01_2FE\",\"A85_01_1FE\",\"A27_02_1FE\",\"JAS_1\",\"A59_01_1FE\",\"A19_01_1FE\",\"A04_01_1FE\",\"A75_02_1FE\",\"TZ_29321\",\"A28_02_1FE\",\"LDK_5\",\"A11_01_1FE\",\"A07_01_1FE\",\"A81_03_1FE\",\"JAS_5\",\"TZ_91827\",\"LDK_9\",\"A72_02_1FE\",\"A91_02_1FE\",\"A70_03_1FE\",\"TZ_60579\",\"A36_01_1FE\",\"TZ_37609\",\"A20_01_1FE\",\"A01_02_1FE\",\"TZ_65642\",\"TZ_83627\",\"KHG_4\",\"A46_01_1FE\",\"TZ_10742\",\"LDK_1-2\",\"V50_01_1FE\",\"A79_02_1FE\",\"TZ_47979\",\"V53_02_1FE\",\"A47_01_1FE\",\"A43_02_1FE\",\"JAS_8\",\"V06_02_1FE\",\"JAS_4\",\"LDK_8\",\"A54_02_1FE\",\"A82_02_1FE\",\"TZ_83788\",\"A25_01_1FE\",\"A09_02_1FE\",\"LDK_2\",\"V36_02_2FE\",\"LDK_3\",\"A06_01_1FE\",\"TZ_93321\",\"TZ_73414\",\"A39_04_1FE\",\"KHG_11\",\"V07_02_2FE\",\"KHG_6\",\"A62_01_1FE\",\"TZ_41014\",\"V48_03_2FE\",\"A73_02_1FE\",\"A73_01_1FE\",\"JAS_7\",\"A68_01_1FE\",\"TZ_24827\",\"A92_01_1FE\",\"A15_02_1FE\",\"JAS_2\",\"A55_01_1FE\",\"V54_01_1FE\",\"A23_01_1FE\",\"A44_01_1FE\",\"A03_01_1FE\",\"V19_01_2FE\",\"TZ_61717\",\"A88_02_1FE\",\"A47_02_1FE\",\"TZ_21618\",\"A90_04_1FE\",\"TZ_67706\",\"A58_03_1FE\",\"TZ_83985\",\"A08_01_1FE\",\"A53_01_1FE\",\"TZ_42041\",\"A94_02_1FE\",\"A04_04_1FE\",\"TZ_38244\",\"A41_01_1FE\",\"A10_01_1FE\",\"A89_02_1FE\",\"A46_02_1FE\",\"TZ_87532\",\"A94_01_1FE\",\"KHG_7\",\"LDK_4\",\"KHG_9\",\"A48_01_1FE\",\"KHG_1\",\"TZ_81781\",\"A09_01_1FE\"],\"legendgroup\":\"non_westernized\",\"marker\":{\"color\":\"#00cc96\",\"symbol\":\"circle\"},\"mode\":\"markers\",\"name\":\"non_westernized\",\"scene\":\"scene\",\"showlegend\":true,\"type\":\"scatter3d\",\"x\":[-0.36779226768997203,-0.24347427996621382,0.12633508008846164,-0.3549068870108998,-0.21027702846048762,-0.0038126982957768143,-0.37000538608262173,-0.16479528695643575,-0.242920872312232,0.02889524779193485,-0.24767486505305136,0.031421941624119244,-0.04791631052982781,-0.23803208979226198,-0.3014866967051922,0.10143833552519015,-0.4385988881169953,-0.3458683844923347,0.037111499414791554,-0.061639489477088034,0.06505701768271116,-0.06149697122999179,-0.18268521708149654,-0.10057749596398223,-0.051644803609666015,-0.11747750424661856,0.03641626032064037,-0.4675232910884687,-0.26172244092935715,0.09405510569527095,-0.4587660361737736,-0.15625761750064063,0.042585210691471864,-0.20482327943773457,0.040481233096215485,-0.16024699579427276,-0.3947335891389116,0.14397542529442048,-0.03790409922374296,-0.3001311285198881,-0.39398886032178176,-0.17260147285698677,0.03503973659068657,-0.3378394785364661,-0.15808446722627356,0.037092869979723116,-0.44398514877928386,-0.0059065800138413576,-0.505046202986173,-0.4766594350718524,-0.23930890001779048,-0.13346225446859758,0.01779602785669585,-0.3679046989233537,-0.02354749461124321,0.03542836360637974,-0.0023082822236821406,-0.08701877453968741,-0.09840815427392327,-0.026010076751828825,-0.05592692171966533,-0.41679264659332443,0.033672660788309536,0.09806709474307586,0.02980765310227696,0.07010024122975254,-0.09997375808376364,0.2238616977200006,-0.06830864591224431,0.027094927851626212,-0.018891587920232402,-0.36519894726351104,-0.27682058591359915,0.05299875054943667,0.030831137962161963,0.04362902768198678,0.10828304241305263,-0.01629275859184033,-0.059978707506369196,0.0645626585784761,-0.3765583368231373,-0.004085540433228048,-0.0324415938526663,-0.07257566712591768,-0.10972041581438702,-0.2776901518955246,-0.29482964720708615,0.00854425874852224,-0.4083600557944527,-0.07706555310946216,0.03694510487668069,0.09687741133437708,-0.42450004591030005,0.06858815581840866,-0.4305467978337934,-0.29219023786865883,-0.10532895886845949,0.10436613165688925,-0.4088385096044326,-0.0855795925844859],\"y\":[0.13089364959287372,0.02331448417496768,-0.0896192072771589,-0.09782228265869553,0.12528654677670684,0.5677983613644725,0.164654852289152,-0.08006622054597033,-0.008672722358223908,0.23098885384429846,-0.18086159386080974,0.2191464048882443,-0.04263971504010229,-0.13478645897816086,-0.1271815044824075,0.03075775506815336,-0.09194010202720514,-0.030940186247235484,-0.07538774485284445,0.01605082043437295,-0.007886263035504314,0.26070355686477786,-0.025483761293757994,0.4659212793412043,0.2513595877195414,-0.009599054214527508,0.11623272008297222,-0.08643037537365982,-0.09166691317773341,-0.010776232513180614,-0.09676791249291887,0.33809898805059907,0.10790753092930042,-0.0948213100859218,0.5264109093795305,0.39435190750814986,0.025743038255078027,-0.151506796788112,-0.052487176670340537,-0.12574629160871026,-0.14810683411568495,0.2604189522764798,0.26443689032140566,-0.13684596560472015,-0.08130763204775673,0.556054065891449,-0.10347810675317254,0.26106960005326013,-0.06767544414337001,-0.10067435429025401,-0.0966741765463022,-0.08199328212095955,0.5702040204852526,-0.14633604897141428,-0.031052740506863612,-0.053964503618833384,0.33768542800704476,-0.08147007136727462,0.0683434654747955,0.18061427827264281,0.035766134060851794,-0.12035779801632812,0.5499848715302448,-0.056637879920134616,0.3194455562943313,0.07954027990816363,-0.10055706820047451,-0.05632544029950574,0.3735239962459284,0.22112999974808206,0.33942056941357474,-0.030604135338419023,0.07129897523310447,0.012852403207176809,0.5740997622094792,0.5587874686990782,0.04218703848847155,0.043637812265062,-0.05216093166109956,0.16476008078177004,-0.13314030098960367,0.22501825184115884,0.0944033847236909,-0.024834321462473833,-0.06586257112308315,-0.02220149771740745,-0.12213013928565486,0.30701072059967033,-0.02191924782426885,-0.06591502381508459,0.08606919020561332,0.0012827025818715632,-0.11279893732091438,0.14332984833365559,-0.03582449063623013,-0.1491078339124406,0.03221306497398521,0.16805560435513986,-0.13971576211352033,0.47165856537093453],\"z\":[-0.05555304626150211,0.01887195246393407,0.09496757441501433,-0.006497729909312225,0.1422354704876581,0.031283007529948885,0.008375098091507707,0.169521799231331,0.10873278714490105,0.24209453585138824,-0.17071799411982225,0.10051255658181989,0.22035434063287485,0.04980000524779206,0.07238868451304017,0.24162123396469734,-0.21402074086307762,0.03172297630264543,0.07587264311931703,0.08890902607085943,0.25548222050828456,0.12787595745170754,0.18327034740083567,0.008058327213913741,0.0826750612071495,0.19887442411946166,0.16887932281794335,-0.17036379728656978,-0.040177080043165225,0.29581842903066163,-0.20753981228164847,0.1319323903671831,0.2176509564163635,0.1502689181834761,0.06903390769410545,0.10837051067930793,-0.1402171212140089,0.11775676313809795,0.17403161899537245,0.06879520040135904,-0.06339554362573532,0.11606552793380479,0.12084765615949804,0.03880006282542999,0.08725263356977224,0.022707927230802144,-0.20256254484418912,0.10420976481910496,-0.26481342697268084,-0.2525678229244111,0.18155772039087437,0.2400987148354796,-0.03544130564844243,-0.09721125164740098,0.06622566100603641,0.17226756262972756,-0.010195257279177061,0.29390420798849237,0.1655379363052155,-0.05574653697769907,0.20159003297889694,-0.1004235511639039,-0.007349536409809097,0.3011128254796534,0.18307573109635492,-0.07871226116094948,0.1841654782135269,-0.17090074767127073,0.1244896491248335,0.18106293089775613,0.1592541263219949,0.0015445891071065323,0.042068304051241776,0.2000644935740487,0.02576563377889934,-0.04858676641914054,0.2800945906699621,0.1040411596221039,0.24256662463282105,-0.025519430624371044,0.056600850352887006,0.2219910653185738,0.12345598401214823,0.26925335469549533,0.1439931762521503,0.06989821794119334,0.12817483645518052,0.06881102430190443,-0.15336706358089294,0.12489271902606489,0.18596611293156579,0.29014068083175065,-0.12384620398761288,0.0728798525929224,-0.1604737449550782,0.027031624230514844,0.16373156483987042,0.011174562053167164,-0.05666307262111582,0.07238234037786401]}],                        {\"legend\":{\"title\":{\"text\":\"group\"},\"tracegroupgap\":0},\"margin\":{\"t\":60},\"scene\":{\"domain\":{\"x\":[0.0,1.0],\"y\":[0.0,1.0]},\"xaxis\":{\"title\":{\"text\":\"PC1\"}},\"yaxis\":{\"title\":{\"text\":\"PC2\"}},\"zaxis\":{\"title\":{\"text\":\"PC3\"}}},\"template\":{\"data\":{\"bar\":[{\"error_x\":{\"color\":\"#2a3f5f\"},\"error_y\":{\"color\":\"#2a3f5f\"},\"marker\":{\"line\":{\"color\":\"#E5ECF6\",\"width\":0.5},\"pattern\":{\"fillmode\":\"overlay\",\"size\":10,\"solidity\":0.2}},\"type\":\"bar\"}],\"barpolar\":[{\"marker\":{\"line\":{\"color\":\"#E5ECF6\",\"width\":0.5},\"pattern\":{\"fillmode\":\"overlay\",\"size\":10,\"solidity\":0.2}},\"type\":\"barpolar\"}],\"carpet\":[{\"aaxis\":{\"endlinecolor\":\"#2a3f5f\",\"gridcolor\":\"white\",\"linecolor\":\"white\",\"minorgridcolor\":\"white\",\"startlinecolor\":\"#2a3f5f\"},\"baxis\":{\"endlinecolor\":\"#2a3f5f\",\"gridcolor\":\"white\",\"linecolor\":\"white\",\"minorgridcolor\":\"white\",\"startlinecolor\":\"#2a3f5f\"},\"type\":\"carpet\"}],\"choropleth\":[{\"colorbar\":{\"outlinewidth\":0,\"ticks\":\"\"},\"type\":\"choropleth\"}],\"contour\":[{\"colorbar\":{\"outlinewidth\":0,\"ticks\":\"\"},\"colorscale\":[[0.0,\"#0d0887\"],[0.1111111111111111,\"#46039f\"],[0.2222222222222222,\"#7201a8\"],[0.3333333333333333,\"#9c179e\"],[0.4444444444444444,\"#bd3786\"],[0.5555555555555556,\"#d8576b\"],[0.6666666666666666,\"#ed7953\"],[0.7777777777777778,\"#fb9f3a\"],[0.8888888888888888,\"#fdca26\"],[1.0,\"#f0f921\"]],\"type\":\"contour\"}],\"contourcarpet\":[{\"colorbar\":{\"outlinewidth\":0,\"ticks\":\"\"},\"type\":\"contourcarpet\"}],\"heatmap\":[{\"colorbar\":{\"outlinewidth\":0,\"ticks\":\"\"},\"colorscale\":[[0.0,\"#0d0887\"],[0.1111111111111111,\"#46039f\"],[0.2222222222222222,\"#7201a8\"],[0.3333333333333333,\"#9c179e\"],[0.4444444444444444,\"#bd3786\"],[0.5555555555555556,\"#d8576b\"],[0.6666666666666666,\"#ed7953\"],[0.7777777777777778,\"#fb9f3a\"],[0.8888888888888888,\"#fdca26\"],[1.0,\"#f0f921\"]],\"type\":\"heatmap\"}],\"heatmapgl\":[{\"colorbar\":{\"outlinewidth\":0,\"ticks\":\"\"},\"colorscale\":[[0.0,\"#0d0887\"],[0.1111111111111111,\"#46039f\"],[0.2222222222222222,\"#7201a8\"],[0.3333333333333333,\"#9c179e\"],[0.4444444444444444,\"#bd3786\"],[0.5555555555555556,\"#d8576b\"],[0.6666666666666666,\"#ed7953\"],[0.7777777777777778,\"#fb9f3a\"],[0.8888888888888888,\"#fdca26\"],[1.0,\"#f0f921\"]],\"type\":\"heatmapgl\"}],\"histogram\":[{\"marker\":{\"pattern\":{\"fillmode\":\"overlay\",\"size\":10,\"solidity\":0.2}},\"type\":\"histogram\"}],\"histogram2d\":[{\"colorbar\":{\"outlinewidth\":0,\"ticks\":\"\"},\"colorscale\":[[0.0,\"#0d0887\"],[0.1111111111111111,\"#46039f\"],[0.2222222222222222,\"#7201a8\"],[0.3333333333333333,\"#9c179e\"],[0.4444444444444444,\"#bd3786\"],[0.5555555555555556,\"#d8576b\"],[0.6666666666666666,\"#ed7953\"],[0.7777777777777778,\"#fb9f3a\"],[0.8888888888888888,\"#fdca26\"],[1.0,\"#f0f921\"]],\"type\":\"histogram2d\"}],\"histogram2dcontour\":[{\"colorbar\":{\"outlinewidth\":0,\"ticks\":\"\"},\"colorscale\":[[0.0,\"#0d0887\"],[0.1111111111111111,\"#46039f\"],[0.2222222222222222,\"#7201a8\"],[0.3333333333333333,\"#9c179e\"],[0.4444444444444444,\"#bd3786\"],[0.5555555555555556,\"#d8576b\"],[0.6666666666666666,\"#ed7953\"],[0.7777777777777778,\"#fb9f3a\"],[0.8888888888888888,\"#fdca26\"],[1.0,\"#f0f921\"]],\"type\":\"histogram2dcontour\"}],\"mesh3d\":[{\"colorbar\":{\"outlinewidth\":0,\"ticks\":\"\"},\"type\":\"mesh3d\"}],\"parcoords\":[{\"line\":{\"colorbar\":{\"outlinewidth\":0,\"ticks\":\"\"}},\"type\":\"parcoords\"}],\"pie\":[{\"automargin\":true,\"type\":\"pie\"}],\"scatter\":[{\"marker\":{\"colorbar\":{\"outlinewidth\":0,\"ticks\":\"\"}},\"type\":\"scatter\"}],\"scatter3d\":[{\"line\":{\"colorbar\":{\"outlinewidth\":0,\"ticks\":\"\"}},\"marker\":{\"colorbar\":{\"outlinewidth\":0,\"ticks\":\"\"}},\"type\":\"scatter3d\"}],\"scattercarpet\":[{\"marker\":{\"colorbar\":{\"outlinewidth\":0,\"ticks\":\"\"}},\"type\":\"scattercarpet\"}],\"scattergeo\":[{\"marker\":{\"colorbar\":{\"outlinewidth\":0,\"ticks\":\"\"}},\"type\":\"scattergeo\"}],\"scattergl\":[{\"marker\":{\"colorbar\":{\"outlinewidth\":0,\"ticks\":\"\"}},\"type\":\"scattergl\"}],\"scattermapbox\":[{\"marker\":{\"colorbar\":{\"outlinewidth\":0,\"ticks\":\"\"}},\"type\":\"scattermapbox\"}],\"scatterpolar\":[{\"marker\":{\"colorbar\":{\"outlinewidth\":0,\"ticks\":\"\"}},\"type\":\"scatterpolar\"}],\"scatterpolargl\":[{\"marker\":{\"colorbar\":{\"outlinewidth\":0,\"ticks\":\"\"}},\"type\":\"scatterpolargl\"}],\"scatterternary\":[{\"marker\":{\"colorbar\":{\"outlinewidth\":0,\"ticks\":\"\"}},\"type\":\"scatterternary\"}],\"surface\":[{\"colorbar\":{\"outlinewidth\":0,\"ticks\":\"\"},\"colorscale\":[[0.0,\"#0d0887\"],[0.1111111111111111,\"#46039f\"],[0.2222222222222222,\"#7201a8\"],[0.3333333333333333,\"#9c179e\"],[0.4444444444444444,\"#bd3786\"],[0.5555555555555556,\"#d8576b\"],[0.6666666666666666,\"#ed7953\"],[0.7777777777777778,\"#fb9f3a\"],[0.8888888888888888,\"#fdca26\"],[1.0,\"#f0f921\"]],\"type\":\"surface\"}],\"table\":[{\"cells\":{\"fill\":{\"color\":\"#EBF0F8\"},\"line\":{\"color\":\"white\"}},\"header\":{\"fill\":{\"color\":\"#C8D4E3\"},\"line\":{\"color\":\"white\"}},\"type\":\"table\"}]},\"layout\":{\"annotationdefaults\":{\"arrowcolor\":\"#2a3f5f\",\"arrowhead\":0,\"arrowwidth\":1},\"autotypenumbers\":\"strict\",\"coloraxis\":{\"colorbar\":{\"outlinewidth\":0,\"ticks\":\"\"}},\"colorscale\":{\"diverging\":[[0,\"#8e0152\"],[0.1,\"#c51b7d\"],[0.2,\"#de77ae\"],[0.3,\"#f1b6da\"],[0.4,\"#fde0ef\"],[0.5,\"#f7f7f7\"],[0.6,\"#e6f5d0\"],[0.7,\"#b8e186\"],[0.8,\"#7fbc41\"],[0.9,\"#4d9221\"],[1,\"#276419\"]],\"sequential\":[[0.0,\"#0d0887\"],[0.1111111111111111,\"#46039f\"],[0.2222222222222222,\"#7201a8\"],[0.3333333333333333,\"#9c179e\"],[0.4444444444444444,\"#bd3786\"],[0.5555555555555556,\"#d8576b\"],[0.6666666666666666,\"#ed7953\"],[0.7777777777777778,\"#fb9f3a\"],[0.8888888888888888,\"#fdca26\"],[1.0,\"#f0f921\"]],\"sequentialminus\":[[0.0,\"#0d0887\"],[0.1111111111111111,\"#46039f\"],[0.2222222222222222,\"#7201a8\"],[0.3333333333333333,\"#9c179e\"],[0.4444444444444444,\"#bd3786\"],[0.5555555555555556,\"#d8576b\"],[0.6666666666666666,\"#ed7953\"],[0.7777777777777778,\"#fb9f3a\"],[0.8888888888888888,\"#fdca26\"],[1.0,\"#f0f921\"]]},\"colorway\":[\"#636efa\",\"#EF553B\",\"#00cc96\",\"#ab63fa\",\"#FFA15A\",\"#19d3f3\",\"#FF6692\",\"#B6E880\",\"#FF97FF\",\"#FECB52\"],\"font\":{\"color\":\"#2a3f5f\"},\"geo\":{\"bgcolor\":\"white\",\"lakecolor\":\"white\",\"landcolor\":\"#E5ECF6\",\"showlakes\":true,\"showland\":true,\"subunitcolor\":\"white\"},\"hoverlabel\":{\"align\":\"left\"},\"hovermode\":\"closest\",\"mapbox\":{\"style\":\"light\"},\"paper_bgcolor\":\"white\",\"plot_bgcolor\":\"#E5ECF6\",\"polar\":{\"angularaxis\":{\"gridcolor\":\"white\",\"linecolor\":\"white\",\"ticks\":\"\"},\"bgcolor\":\"#E5ECF6\",\"radialaxis\":{\"gridcolor\":\"white\",\"linecolor\":\"white\",\"ticks\":\"\"}},\"scene\":{\"xaxis\":{\"backgroundcolor\":\"#E5ECF6\",\"gridcolor\":\"white\",\"gridwidth\":2,\"linecolor\":\"white\",\"showbackground\":true,\"ticks\":\"\",\"zerolinecolor\":\"white\"},\"yaxis\":{\"backgroundcolor\":\"#E5ECF6\",\"gridcolor\":\"white\",\"gridwidth\":2,\"linecolor\":\"white\",\"showbackground\":true,\"ticks\":\"\",\"zerolinecolor\":\"white\"},\"zaxis\":{\"backgroundcolor\":\"#E5ECF6\",\"gridcolor\":\"white\",\"gridwidth\":2,\"linecolor\":\"white\",\"showbackground\":true,\"ticks\":\"\",\"zerolinecolor\":\"white\"}},\"shapedefaults\":{\"line\":{\"color\":\"#2a3f5f\"}},\"ternary\":{\"aaxis\":{\"gridcolor\":\"white\",\"linecolor\":\"white\",\"ticks\":\"\"},\"baxis\":{\"gridcolor\":\"white\",\"linecolor\":\"white\",\"ticks\":\"\"},\"bgcolor\":\"#E5ECF6\",\"caxis\":{\"gridcolor\":\"white\",\"linecolor\":\"white\",\"ticks\":\"\"}},\"title\":{\"x\":0.05},\"xaxis\":{\"automargin\":true,\"gridcolor\":\"white\",\"linecolor\":\"white\",\"ticks\":\"\",\"title\":{\"standoff\":15},\"zerolinecolor\":\"white\",\"zerolinewidth\":2},\"yaxis\":{\"automargin\":true,\"gridcolor\":\"white\",\"linecolor\":\"white\",\"ticks\":\"\",\"title\":{\"standoff\":15},\"zerolinecolor\":\"white\",\"zerolinewidth\":2}}}},                        {\"responsive\": true}                    ).then(function(){\n",
       "                            \n",
       "var gd = document.getElementById('023b43ea-3cb5-46ab-ae0a-b7511b260cbe');\n",
       "var x = new MutationObserver(function (mutations, observer) {{\n",
       "        var display = window.getComputedStyle(gd).display;\n",
       "        if (!display || display === 'none') {{\n",
       "            console.log([gd, 'removed!']);\n",
       "            Plotly.purge(gd);\n",
       "            observer.disconnect();\n",
       "        }}\n",
       "}});\n",
       "\n",
       "// Listen for the removal of the full notebook cells\n",
       "var notebookContainer = gd.closest('#notebook-container');\n",
       "if (notebookContainer) {{\n",
       "    x.observe(notebookContainer, {childList: true});\n",
       "}}\n",
       "\n",
       "// Listen for the clearing of the current output cell\n",
       "var outputEl = gd.closest('.output');\n",
       "if (outputEl) {{\n",
       "    x.observe(outputEl, {childList: true});\n",
       "}}\n",
       "\n",
       "                        })                };                });            </script>        </div>"
      ]
     },
     "metadata": {},
     "output_type": "display_data"
    }
   ],
   "source": [
    "import plotly.express as px\n",
    "\n",
    "fig = px.scatter_3d(pcoa_embed, x=\"PC1\", y=\"PC2\", z=\"PC3\", color=\"group\", hover_name=\"sample\")\n",
    "fig.show()"
   ]
  },
  {
   "cell_type": "markdown",
   "id": "af4f0134-af90-43a7-8fab-3ce1d0ec749b",
   "metadata": {},
   "source": [
    "**Q: Do you think this embedding represents accurately how our sample relates to modern reference samples ?**"
   ]
  },
  {
   "cell_type": "markdown",
   "id": "bcad8432-b52b-4fec-8218-f1b7728d70c8",
   "metadata": {},
   "source": [
    "## 8. SourceTracker analysis \n",
    "Sourcetracker is a program that can estimate the proportion of different sources (reference biomes) contained in a sample (a sink).\n",
    "However, because of the statistical framework that it uses (MCMC with [Gibbs sampling](https://en.wikipedia.org/wiki/Gibbs_sampling#:~:text=In%20statistics%2C%20Gibbs%20sampling%20or,when%20direct%20sampling%20is%20difficult.)), we recommend to limit the number of source samples to greatly reduce runtime"
   ]
  },
  {
   "cell_type": "markdown",
   "id": "92b00958-4ebd-403c-ab51-03dde285bb0a",
   "metadata": {},
   "source": [
    "First, we need to transform our relative abundance table to counts for SourceTracker"
   ]
  },
  {
   "cell_type": "code",
   "execution_count": 92,
   "id": "3f169d51-b74e-4abc-ad48-93468c701f17",
   "metadata": {},
   "outputs": [],
   "source": [
    "all_data_counts = all_data.multiply(1000000).astype(int)"
   ]
  },
  {
   "cell_type": "code",
   "execution_count": 95,
   "id": "9c5883a3-7b0f-4d83-9682-5d77bfc374a6",
   "metadata": {},
   "outputs": [
    {
     "data": {
      "text/plain": [
       "95327810"
      ]
     },
     "execution_count": 95,
     "metadata": {},
     "output_type": "execute_result"
    }
   ],
   "source": [
    "min_count = all_data_counts.sum(axis=0).min()\n",
    "min_count"
   ]
  },
  {
   "cell_type": "markdown",
   "id": "d6ad8d40-57bd-43f6-b446-a18c3f3cdaab",
   "metadata": {},
   "source": [
    "Exporting the count table to `tsv`"
   ]
  },
  {
   "cell_type": "code",
   "execution_count": 118,
   "id": "4f0f4f3e-2836-4b08-a7c6-15629fd859ae",
   "metadata": {},
   "outputs": [],
   "source": [
    "all_data_counts.to_csv(\"../results/sourcetracker2/all_data_counts.tsv\", sep=\"\\t\", index_label='Taxon')"
   ]
  },
  {
   "cell_type": "markdown",
   "id": "48689b02-176d-4233-ba70-d452d8999b8b",
   "metadata": {},
   "source": [
    "Converting to [`biom` format](https://biom-format.org/)"
   ]
  },
  {
   "cell_type": "code",
   "execution_count": 120,
   "id": "ba0562cd-fe26-4759-80d8-621c13a73348",
   "metadata": {},
   "outputs": [],
   "source": [
    "!biom convert -i ../results/sourcetracker2/all_data_counts.tsv -o ../results/sourcetracker2/all_data_counts.biom --table-type=\"Taxon table\" --to-hdf5"
   ]
  },
  {
   "cell_type": "markdown",
   "id": "0405718e-9dc4-4f2a-813c-546e11abe125",
   "metadata": {},
   "source": [
    "Converting the metadata to Sourtracker format"
   ]
  },
  {
   "cell_type": "code",
   "execution_count": 121,
   "id": "f4c8b4df-f6d4-44d0-991f-3b4278dbfbfa",
   "metadata": {},
   "outputs": [],
   "source": [
    "st2_metadata = metadata[['sample_id', 'non_westernized']].rename(columns={'non_westernized':'Env', 'sample_id':'#SampleID'})\n",
    "st2_metadata['Env'] = st2_metadata['Env'].replace({'yes':'non_westernized','no':'westernized'})\n",
    "st2_metadata['SourceSink'] = ['source'] * st2_metadata.shape[0]"
   ]
  },
  {
   "cell_type": "markdown",
   "id": "8bb0eba1-7f24-4d85-82c7-7d2b4f08d68d",
   "metadata": {},
   "source": [
    "We subset it to select only 10 samples from each source"
   ]
  },
  {
   "cell_type": "code",
   "execution_count": 122,
   "id": "5fdb659a-ab49-4a19-8f60-a276d874db29",
   "metadata": {},
   "outputs": [],
   "source": [
    "st2_metadata = st2_metadata.groupby('Env').sample(10).reset_index()"
   ]
  },
  {
   "cell_type": "code",
   "execution_count": 125,
   "id": "2dc95150-ca66-49d8-9a4a-152c94596290",
   "metadata": {},
   "outputs": [],
   "source": [
    "st2_metadata = st2_metadata.append({'#SampleID':'ZSM028', 'Env':'-','SourceSink':'sink'}, ignore_index=True)[['#SampleID','SourceSink','Env']].set_index('#SampleID')"
   ]
  },
  {
   "cell_type": "code",
   "execution_count": 126,
   "id": "a60f6b04-4180-4cc3-ada6-c0d1e0604890",
   "metadata": {},
   "outputs": [],
   "source": [
    "st2_metadata.to_csv(\"../results/sourcetracker2/labels_st2.tsv\", sep=\"\\t\", index_label='#SampleID')"
   ]
  },
  {
   "cell_type": "code",
   "execution_count": 129,
   "id": "bec37259-15e7-4ee4-85f9-f24d2868885c",
   "metadata": {},
   "outputs": [
    {
     "name": "stdout",
     "output_type": "stream",
     "text": [
      "Your job 961605 (\"sourcetracker2\") has been submitted\n"
     ]
    }
   ],
   "source": [
    "%%bash\n",
    "qsub -b y -cwd -pe smp 10 -l h_vmem=60G \\\n",
    "    sourcetracker2 gibbs \\\n",
    "    -i ../results/sourcetracker2/all_data_counts.biom \\\n",
    "    -m ../results/sourcetracker2/labels_st2.tsv \\\n",
    "    -o ../results/sourcetracker2/st2 \\\n",
    "    --source_rarefaction_depth 95327810 \\\n",
    "    --sink_rarefaction_depth 95327810 \\\n",
    "    --jobs 10"
   ]
  }
 ],
 "metadata": {
  "kernelspec": {
   "display_name": "Python [conda env:.conda-summer_school_microbiome]",
   "language": "python",
   "name": "conda-env-.conda-summer_school_microbiome-py"
  },
  "language_info": {
   "codemirror_mode": {
    "name": "ipython",
    "version": 3
   },
   "file_extension": ".py",
   "mimetype": "text/x-python",
   "name": "python",
   "nbconvert_exporter": "python",
   "pygments_lexer": "ipython3",
   "version": "3.9.6"
  }
 },
 "nbformat": 4,
 "nbformat_minor": 5
}
